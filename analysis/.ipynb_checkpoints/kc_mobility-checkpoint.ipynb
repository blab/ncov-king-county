{
 "cells": [
  {
   "cell_type": "markdown",
   "id": "c558f1c0",
   "metadata": {},
   "source": [
    "## mobility exploration \n",
    "### we want to use mobility data not only to be more confident in our phylodynamic results but also to try to understand why we find more introductions into North KC vs south kc and where they are coming from. \n",
    "### The first thing is to calculate the proportion of introductions from N or S to the other vs the introductions coming from the outside\n",
    "### then it'd be great to look at where the introductions in to each area are coming from I.e. from which state\n",
    "### lastly, the idea is that the biggest reduction in mobility happened in the tech sector in seattle so look at mobility changes in N and S by industry. "
   ]
  },
  {
   "cell_type": "code",
   "execution_count": null,
   "id": "46edffbb",
   "metadata": {},
   "outputs": [],
   "source": [
    "import pandas as pd\n",
    "import numpy as np\n",
    "import altair as alt\n",
    "from datetime import datetime as dt\n",
    "alt.data_transformers.disable_max_rows()"
   ]
  },
  {
   "cell_type": "code",
   "execution_count": null,
   "id": "14f0cce3",
   "metadata": {},
   "outputs": [],
   "source": [
    "within_mob = '/Users/miguelparedes/Desktop/movement_within_king_co.tsv'\n",
    "outside_state = '/Users/miguelparedes/Downloads/north_vs_south_king_co_visitors_by_state (1).tsv'\n",
    "within_industry = '/Users/miguelparedes/Desktop/movement_within_king_co_by_industry (1).tsv'\n",
    "outside_industry = '/Users/miguelparedes/Desktop/north_vs_south_king_co_visitors_by_state_and_industry.tsv'"
   ]
  },
  {
   "cell_type": "code",
   "execution_count": null,
   "id": "610dc59a",
   "metadata": {},
   "outputs": [],
   "source": [
    "within_df = pd.read_csv(within_mob, sep='\\t', parse_dates = [1])\n",
    "outside_state_df = pd.read_csv(outside_state, sep='\\t', parse_dates = [1])\n",
    "within_industry_df = pd.read_csv(within_industry, sep='\\t', parse_dates = [1])\n",
    "outside_industry_df = pd.read_csv(outside_industry, sep='\\t', parse_dates = [1])"
   ]
  },
  {
   "cell_type": "code",
   "execution_count": null,
   "id": "edae8472",
   "metadata": {},
   "outputs": [],
   "source": [
    "within_df"
   ]
  },
  {
   "cell_type": "code",
   "execution_count": null,
   "id": "c43a69b8",
   "metadata": {},
   "outputs": [],
   "source": [
    "outside_state_df"
   ]
  },
  {
   "cell_type": "code",
   "execution_count": null,
   "id": "bb3b9c08",
   "metadata": {},
   "outputs": [],
   "source": [
    "within_industry_df"
   ]
  },
  {
   "cell_type": "code",
   "execution_count": null,
   "id": "cec0b8a9",
   "metadata": {},
   "outputs": [],
   "source": [
    "outside_industry_df"
   ]
  },
  {
   "cell_type": "code",
   "execution_count": null,
   "id": "9e435e61",
   "metadata": {},
   "outputs": [],
   "source": [
    "withinonly = within_df[(within_df.category == \"within North\") | (within_df.category == \"within South\")]"
   ]
  },
  {
   "cell_type": "code",
   "execution_count": null,
   "id": "2b877c6b",
   "metadata": {},
   "outputs": [],
   "source": [
    "alt.Chart(withinonly).mark_line().encode(\n",
    "    alt.X('start_date:T', axis=alt.Axis(title=None, grid=False)),\n",
    "    alt.Y('sum_visits:Q'). ).properties(\n",
    "    width=800,\n",
    "    height=400\n",
    ")"
   ]
  },
  {
   "cell_type": "markdown",
   "id": "db944adb",
   "metadata": {},
   "source": [
    "## proportion of cases from north or south vs from outside"
   ]
  },
  {
   "cell_type": "code",
   "execution_count": null,
   "id": "db8a9dd6",
   "metadata": {},
   "outputs": [],
   "source": [
    "within_df = within_df[(within_df.category == \"North to South\") | (within_df.category == \"South to North\")]"
   ]
  },
  {
   "cell_type": "code",
   "execution_count": null,
   "id": "37bd89f4",
   "metadata": {},
   "outputs": [],
   "source": [
    "ns_within_df = within_df[(within_df.category == \"North to South\")]\n",
    "sn_within_df = within_df[(within_df.category == \"South to North\")]\n"
   ]
  },
  {
   "cell_type": "code",
   "execution_count": null,
   "id": "0f1fe3d5",
   "metadata": {},
   "outputs": [],
   "source": [
    "#for some reason, it's always weekly summaries until '2021-07-19', '2021-07-21' where it only does 3 days and then conintues the weekly pattern,\n",
    "#which leads to one extra entry, we're droping 07-21 for now but will follow up with amanda later about\n",
    "\n",
    "ns_within_df = ns_within_df[(ns_within_df.start_date != \"2021-07-21\")].reset_index()\n",
    "sn_within_df = sn_within_df[(sn_within_df.start_date != \"2021-07-21\")].reset_index()\n"
   ]
  },
  {
   "cell_type": "code",
   "execution_count": null,
   "id": "5612783b",
   "metadata": {},
   "outputs": [],
   "source": [
    "sn_within_df"
   ]
  },
  {
   "cell_type": "code",
   "execution_count": null,
   "id": "5db7b762",
   "metadata": {},
   "outputs": [],
   "source": [
    "n_outside_df = outside_state_df[(outside_state_df.poi_geo == \"North King\")]\n",
    "s_outside_df = outside_state_df[(outside_state_df.poi_geo == \"South King\")]"
   ]
  },
  {
   "cell_type": "code",
   "execution_count": null,
   "id": "df82dd33",
   "metadata": {},
   "outputs": [],
   "source": [
    "n_outside_df_all = n_outside_df.groupby(\"start_date\")[\"sum_visits\"].sum().reset_index().sort_values('start_date')\n",
    "s_outside_df_all = s_outside_df.groupby(\"start_date\")[\"sum_visits\"].sum().reset_index().sort_values('start_date')\n"
   ]
  },
  {
   "cell_type": "code",
   "execution_count": null,
   "id": "f48b3212",
   "metadata": {
    "scrolled": true
   },
   "outputs": [],
   "source": [
    "n_outside_df_all\n"
   ]
  },
  {
   "cell_type": "code",
   "execution_count": null,
   "id": "e9985c5c",
   "metadata": {},
   "outputs": [],
   "source": [
    "s_outside_df_all"
   ]
  },
  {
   "cell_type": "code",
   "execution_count": null,
   "id": "e08b8f29",
   "metadata": {},
   "outputs": [],
   "source": [
    "within_v_outside = pd.DataFrame()\n"
   ]
  },
  {
   "cell_type": "code",
   "execution_count": null,
   "id": "ebf8f97d",
   "metadata": {},
   "outputs": [],
   "source": [
    "within_v_outside['date'] = n_outside_df_all.start_date"
   ]
  },
  {
   "cell_type": "code",
   "execution_count": null,
   "id": "fc7b3866",
   "metadata": {},
   "outputs": [],
   "source": []
  },
  {
   "cell_type": "code",
   "execution_count": null,
   "id": "f8dc121e",
   "metadata": {},
   "outputs": [],
   "source": [
    "within_v_outside['ratio_n'] = sn_within_df['sum_visits'].astype(float)/n_outside_df_all['sum_visits'].astype(float)\n",
    "within_v_outside['ratio_s'] = ns_within_df['sum_visits'].astype(float)/s_outside_df_all['sum_visits'].astype(float)"
   ]
  },
  {
   "cell_type": "code",
   "execution_count": null,
   "id": "fc14e1fa",
   "metadata": {},
   "outputs": [],
   "source": [
    "within_v_outside"
   ]
  },
  {
   "cell_type": "code",
   "execution_count": null,
   "id": "58e4b1d0",
   "metadata": {},
   "outputs": [],
   "source": [
    "north_intro = alt.Chart(within_v_outside, width = 750).mark_line(interpolate='monotone', opacity = 1.0).encode(\n",
    "    alt.X('date:T', axis=alt.Axis(title=None, grid=False)),\n",
    "    alt.Y('ratio_n:Q',axis=alt.Axis(title=\"ratio within vs out - north\", grid=False))).properties(\n",
    "    width=800,\n",
    "    height=400\n",
    ")"
   ]
  },
  {
   "cell_type": "code",
   "execution_count": null,
   "id": "7138fc8b",
   "metadata": {},
   "outputs": [],
   "source": [
    "south_intro = alt.Chart(within_v_outside, width = 750).mark_line(interpolate='monotone', opacity = 1.0, color = \"orange\").encode(\n",
    "    alt.X('date:T', axis=alt.Axis(title=None, grid=False)),\n",
    "    alt.Y('ratio_s:Q',axis=alt.Axis(title=\"ratio within vs out - south\", grid=False))).properties(\n",
    "    width=800,\n",
    "    height=400\n",
    ")"
   ]
  },
  {
   "cell_type": "code",
   "execution_count": null,
   "id": "ff0c4bf4",
   "metadata": {},
   "outputs": [],
   "source": [
    "north_intro + south_intro"
   ]
  },
  {
   "cell_type": "markdown",
   "id": "5034f765",
   "metadata": {},
   "source": [
    "### how do the numbers of intro into n v s compare? "
   ]
  },
  {
   "cell_type": "code",
   "execution_count": null,
   "id": "7e185d9a",
   "metadata": {},
   "outputs": [],
   "source": [
    "outside_df_all = outside_state_df.groupby([\"poi_geo\", \"start_date\"])[\"sum_visits\"].sum().reset_index().sort_values('start_date')\n"
   ]
  },
  {
   "cell_type": "code",
   "execution_count": null,
   "id": "7836b88f",
   "metadata": {},
   "outputs": [],
   "source": [
    "outside_df_all"
   ]
  },
  {
   "cell_type": "code",
   "execution_count": null,
   "id": "18e03edb",
   "metadata": {},
   "outputs": [],
   "source": []
  },
  {
   "cell_type": "code",
   "execution_count": null,
   "id": "13bf2262",
   "metadata": {},
   "outputs": [],
   "source": [
    "alt.Chart(outside_df_all, width = 750).mark_line(interpolate='monotone', opacity = 1.0).encode(\n",
    "    alt.X('start_date:T', axis=alt.Axis(title=None, grid=False)),\n",
    "    alt.Y('sum_visits:Q',axis=alt.Axis(title=\"visits\", grid=False)),\n",
    "    alt.Color('poi_geo:N')).properties(\n",
    "    width=800,\n",
    "    height=400\n",
    ")"
   ]
  },
  {
   "cell_type": "code",
   "execution_count": null,
   "id": "63a5217c",
   "metadata": {},
   "outputs": [],
   "source": [
    "outside_df_short = outside_df_all[outside_df_all.start_date > \"2020-12-03\"]"
   ]
  },
  {
   "cell_type": "code",
   "execution_count": null,
   "id": "5d6a399f",
   "metadata": {},
   "outputs": [],
   "source": [
    "alt.Chart(outside_df_short, width = 750).mark_line(interpolate='monotone', opacity = 1.0).encode(\n",
    "    alt.X('start_date:T', axis=alt.Axis(title=None, grid=False)),\n",
    "    alt.Y('sum_visits:Q',axis=alt.Axis(title=\"visits\", grid=False)),\n",
    "    alt.Color('poi_geo:N')).properties(\n",
    "    width=800,\n",
    "    height=400\n",
    ")"
   ]
  },
  {
   "cell_type": "markdown",
   "id": "58cd143a",
   "metadata": {},
   "source": [
    "## Now gonna work on seeing where the introductions are coming from "
   ]
  },
  {
   "cell_type": "code",
   "execution_count": null,
   "id": "5045cd12",
   "metadata": {},
   "outputs": [],
   "source": [
    "outside_state_df_test = outside_state_df.sort_values([\"poi_geo\", \"start_date\" ,\"sum_visits\"])\n",
    "#need to change to decending order and then just take the \n"
   ]
  },
  {
   "cell_type": "code",
   "execution_count": null,
   "id": "bcd164d6",
   "metadata": {},
   "outputs": [],
   "source": []
  },
  {
   "cell_type": "code",
   "execution_count": null,
   "id": "a3627114",
   "metadata": {},
   "outputs": [],
   "source": [
    "outside_state_df_test"
   ]
  },
  {
   "cell_type": "code",
   "execution_count": null,
   "id": "b8de9492",
   "metadata": {},
   "outputs": [],
   "source": [
    "north_state = outside_state_df_test[(outside_state_df_test.poi_geo == \"North King\") & (outside_state_df_test.visitor_state != \"WA\") ]\n",
    "south_state = outside_state_df_test[(outside_state_df_test.poi_geo == \"South King\") & (outside_state_df_test.visitor_state != \"WA\") ]"
   ]
  },
  {
   "cell_type": "code",
   "execution_count": null,
   "id": "2055a469",
   "metadata": {},
   "outputs": [],
   "source": [
    "north_heat = alt.Chart(north_state).mark_rect(interpolate='monotone').encode(\n",
    "    alt.Y('visitor_state:N'),\n",
    "    alt.X('start_date:T'), \n",
    "    alt.Color('sum_visits:Q'))"
   ]
  },
  {
   "cell_type": "code",
   "execution_count": null,
   "id": "520596e5",
   "metadata": {},
   "outputs": [],
   "source": [
    "south_heat = alt.Chart(south_state).mark_rect(interpolate='monotone').encode(\n",
    "    alt.Y('visitor_state:N'),\n",
    "    alt.X('start_date:T'), \n",
    "    alt.Color('sum_visits:Q'))"
   ]
  },
  {
   "cell_type": "code",
   "execution_count": null,
   "id": "c189c6a5",
   "metadata": {},
   "outputs": [],
   "source": [
    "north_heat"
   ]
  },
  {
   "cell_type": "code",
   "execution_count": null,
   "id": "419f2c52",
   "metadata": {},
   "outputs": [],
   "source": [
    "south_heat"
   ]
  },
  {
   "cell_type": "code",
   "execution_count": null,
   "id": "ca416c97",
   "metadata": {},
   "outputs": [],
   "source": [
    "(north_heat | south_heat).resolve_scale(y = \"independent\")"
   ]
  },
  {
   "cell_type": "markdown",
   "id": "48faecc8",
   "metadata": {},
   "source": [
    "# mobility changes in north and south by industry"
   ]
  },
  {
   "cell_type": "code",
   "execution_count": null,
   "id": "182446d5",
   "metadata": {},
   "outputs": [],
   "source": [
    "within_industry_df"
   ]
  },
  {
   "cell_type": "code",
   "execution_count": null,
   "id": "edb97939",
   "metadata": {},
   "outputs": [],
   "source": [
    "test = within_industry_df[within_industry_df.poi_geo == \"North King\"].sort_values([\"start_date\",\"sum_visits\"])"
   ]
  },
  {
   "cell_type": "code",
   "execution_count": null,
   "id": "92c7ea82",
   "metadata": {},
   "outputs": [],
   "source": [
    "test[test.start_date == \"2019-10-21\"].industry.tolist()"
   ]
  },
  {
   "cell_type": "code",
   "execution_count": null,
   "id": "c5a1c929",
   "metadata": {},
   "outputs": [],
   "source": [
    "within_df = within_industry_df[(within_industry_df.category == \"North to South\") | (within_industry_df.category == \"South to North\")]\n",
    "within_df = within_df[within_df.industry == \"Full-Service Restaurants\"]"
   ]
  },
  {
   "cell_type": "code",
   "execution_count": null,
   "id": "24c76f41",
   "metadata": {},
   "outputs": [],
   "source": [
    "within_df"
   ]
  },
  {
   "cell_type": "code",
   "execution_count": null,
   "id": "ebd6e898",
   "metadata": {},
   "outputs": [],
   "source": [
    "ns_within_df_res = within_df[(within_df.category == \"North to South\")].reset_index()\n",
    "sn_within_df_res = within_df[(within_df.category == \"South to North\")].reset_index()"
   ]
  },
  {
   "cell_type": "code",
   "execution_count": null,
   "id": "e177c0b3",
   "metadata": {},
   "outputs": [],
   "source": [
    "outside_industry_df = outside_industry_df[outside_industry_df.industry == \"Full-Service Restaurants\"]"
   ]
  },
  {
   "cell_type": "code",
   "execution_count": null,
   "id": "2ab71e00",
   "metadata": {},
   "outputs": [],
   "source": [
    "n_outside_df_res = outside_industry_df[(outside_industry_df.poi_geo == \"North King\")]\n",
    "s_outside_df_res = outside_industry_df[(outside_industry_df.poi_geo == \"South King\")]"
   ]
  },
  {
   "cell_type": "code",
   "execution_count": null,
   "id": "6adc5312",
   "metadata": {},
   "outputs": [],
   "source": [
    "outside_industry_df"
   ]
  },
  {
   "cell_type": "code",
   "execution_count": null,
   "id": "0f170e48",
   "metadata": {},
   "outputs": [],
   "source": [
    "n_outside_df_all_res = n_outside_df_res.groupby(\"start_date\")[\"sum_visits\"].sum().reset_index().sort_values('start_date')\n",
    "s_outside_df_all_res = s_outside_df_res.groupby(\"start_date\")[\"sum_visits\"].sum().reset_index().sort_values('start_date')\n"
   ]
  },
  {
   "cell_type": "code",
   "execution_count": null,
   "id": "1f9de20e",
   "metadata": {},
   "outputs": [],
   "source": []
  },
  {
   "cell_type": "code",
   "execution_count": null,
   "id": "f99b22f0",
   "metadata": {},
   "outputs": [],
   "source": [
    "within_v_outside_res = pd.DataFrame()\n",
    "within_v_outside_res['date'] = n_outside_df_all_res.start_date\n"
   ]
  },
  {
   "cell_type": "code",
   "execution_count": null,
   "id": "1537ff27",
   "metadata": {},
   "outputs": [],
   "source": [
    "within_v_outside_res['ratio_n'] = sn_within_df_res['sum_visits'].astype(float)/n_outside_df_all_res['sum_visits'].astype(float)\n",
    "within_v_outside_res['ratio_s'] = ns_within_df_res['sum_visits'].astype(float)/s_outside_df_all_res['sum_visits'].astype(float)"
   ]
  },
  {
   "cell_type": "code",
   "execution_count": null,
   "id": "5d872603",
   "metadata": {},
   "outputs": [],
   "source": [
    "sn_within_df_res"
   ]
  },
  {
   "cell_type": "code",
   "execution_count": null,
   "id": "f1e46f62",
   "metadata": {},
   "outputs": [],
   "source": [
    "n_outside_df_all_res"
   ]
  },
  {
   "cell_type": "code",
   "execution_count": null,
   "id": "184a9af2",
   "metadata": {},
   "outputs": [],
   "source": [
    "within_v_outside_res"
   ]
  },
  {
   "cell_type": "code",
   "execution_count": null,
   "id": "15043fdd",
   "metadata": {},
   "outputs": [],
   "source": [
    "north_intro = alt.Chart(within_v_outside_res, width = 750).mark_line(interpolate='monotone', opacity = 1.0).encode(\n",
    "    alt.X('date:T', axis=alt.Axis(title=None, grid=False)),\n",
    "    alt.Y('ratio_n:Q',axis=alt.Axis(title=\"ratio within vs out - north\", grid=False))).properties(\n",
    "    width=800,\n",
    "    height=400\n",
    ")"
   ]
  },
  {
   "cell_type": "code",
   "execution_count": null,
   "id": "d9e2e3b4",
   "metadata": {},
   "outputs": [],
   "source": [
    "south_intro = alt.Chart(within_v_outside_res, width = 750).mark_line(interpolate='monotone', opacity = 1.0, color = \"orange\").encode(\n",
    "    alt.X('date:T', axis=alt.Axis(title=None, grid=False)),\n",
    "    alt.Y('ratio_s:Q',axis=alt.Axis(title=\"ratio within vs out - south\", grid=False))).properties(\n",
    "    width=800,\n",
    "    height=400\n",
    ")"
   ]
  },
  {
   "cell_type": "code",
   "execution_count": null,
   "id": "13db4259",
   "metadata": {},
   "outputs": [],
   "source": [
    "north_intro + south_intro"
   ]
  },
  {
   "cell_type": "markdown",
   "id": "17bf952b",
   "metadata": {},
   "source": [
    "## plotting mobility over time for N and south using average of 2019 as a baseline"
   ]
  },
  {
   "cell_type": "code",
   "execution_count": null,
   "id": "47fcff66",
   "metadata": {},
   "outputs": [],
   "source": [
    "within_mob = within_df[(within_df.category == \"within North\") | (within_df.category == \"within South\")]\n",
    "within_mob = within_mob[within_mob.start_date <= \"2022-03-08\"]\n"
   ]
  },
  {
   "cell_type": "code",
   "execution_count": null,
   "id": "42aca983",
   "metadata": {},
   "outputs": [],
   "source": [
    "north_df = within_mob[within_mob.category == \"within North\"]\n",
    "south_df = within_mob[within_mob.category == \"within South\"]\n",
    "north_df.sum_visits = north_df.sum_visits.astype(float)\n",
    "south_df.sum_visits = south_df.sum_visits.astype(float)"
   ]
  },
  {
   "cell_type": "code",
   "execution_count": null,
   "id": "271294b1",
   "metadata": {},
   "outputs": [],
   "source": [
    "def convert_format_year(number):\n",
    "    date = dt.strptime(number, '%Y-%m-%d')\n",
    "    date_new = dt.strftime(date, '%Y')\n",
    "    return date_new"
   ]
  },
  {
   "cell_type": "code",
   "execution_count": null,
   "id": "d3b0ca46",
   "metadata": {},
   "outputs": [],
   "source": [
    "north_df[\"year\"] = north_df['start_date'].map(convert_format_year)\n",
    "south_df[\"year\"] = south_df['start_date'].map(convert_format_year)"
   ]
  },
  {
   "cell_type": "code",
   "execution_count": null,
   "id": "33bf2e47",
   "metadata": {},
   "outputs": [],
   "source": [
    "n_2019_mean = north_df[north_df['year'] ==\"2019\"].sum_visits.mean()\n",
    "s_2019_mean = south_df[south_df['year'] ==\"2019\"].sum_visits.mean()"
   ]
  },
  {
   "cell_type": "code",
   "execution_count": null,
   "id": "3958e704",
   "metadata": {},
   "outputs": [],
   "source": [
    "north_df = north_df[north_df.start_date >= \"2020-01-01\"]\n",
    "south_df = south_df[south_df.start_date >= \"2020-01-01\"]\n",
    "north_df['normalized_visits'] = north_df.sum_visits.divide(n_2019_mean) \n",
    "south_df['normalized_visits'] = south_df.sum_visits.divide(s_2019_mean) "
   ]
  },
  {
   "cell_type": "code",
   "execution_count": null,
   "id": "0f9d3657",
   "metadata": {},
   "outputs": [],
   "source": [
    "nmob_total = pd.concat([north_df, south_df])"
   ]
  },
  {
   "cell_type": "code",
   "execution_count": null,
   "id": "f9d7f1d9",
   "metadata": {},
   "outputs": [],
   "source": [
    "nmob_total.to_csv(\"total_normalized_mobility.csv\")"
   ]
  },
  {
   "cell_type": "code",
   "execution_count": null,
   "id": "92ad8a3f",
   "metadata": {},
   "outputs": [],
   "source": [
    "lineplot_mob_n =  alt.Chart(nmob_total, width = 750).mark_line(interpolate='monotone', opacity = 1.0).encode(\n",
    "    x=alt.X('start_date:T', axis=alt.Axis(title=None, grid=False)),\n",
    "    y=alt.Y('normalized_visits:Q',axis=alt.Axis(title=\"Percent Change in Mobility Compared to 2019\", grid=False)),\n",
    "    color = alt.Color(\"poi_geo\")).properties(\n",
    "    width=800,\n",
    "    height=400\n",
    ")\n",
    "line = alt.Chart(pd.DataFrame({'y': [1.0]})).mark_rule(strokeDash=[1,1]).encode(y='y')"
   ]
  },
  {
   "cell_type": "code",
   "execution_count": null,
   "id": "a534251b",
   "metadata": {},
   "outputs": [],
   "source": [
    "lineplot_mob_n"
   ]
  },
  {
   "cell_type": "code",
   "execution_count": null,
   "id": "0edf5360",
   "metadata": {},
   "outputs": [],
   "source": [
    "lineplot_mob_n =  alt.Chart(north_df, width = 750).mark_line(interpolate='monotone', opacity = 1.0).encode(\n",
    "    x=alt.X('start_date:T', axis=alt.Axis(title=None, grid=False)),\n",
    "    y=alt.Y('normalized_visits:Q',axis=alt.Axis(title=\"Percent Change in Mobility Compared to 2019\", grid=False))).properties(\n",
    "    width=800,\n",
    "    height=400\n",
    ")\n",
    "\n",
    "lineplot_mob_s =  alt.Chart(south_df, width = 750).mark_line(interpolate='monotone', opacity = 1.0, color = 'orange').encode(\n",
    "    x=alt.X('start_date:T', axis=alt.Axis(title=None, grid=False)),\n",
    "    y=alt.Y('normalized_visits:Q',axis=alt.Axis(title=\"Percent Change in Mobility Compared to 2019\", grid=False))).properties(\n",
    "    width=800,\n",
    "    height=400\n",
    ")\n",
    "\n",
    "line = alt.Chart(pd.DataFrame({'y': [1.0]})).mark_rule(strokeDash=[1,1]).encode(y='y')"
   ]
  },
  {
   "cell_type": "code",
   "execution_count": null,
   "id": "a7c28f36",
   "metadata": {},
   "outputs": [],
   "source": [
    "change_mob = lineplot_mob_n + lineplot_mob_s + line\n",
    "change_mob"
   ]
  },
  {
   "cell_type": "code",
   "execution_count": null,
   "id": "8e563f6f",
   "metadata": {},
   "outputs": [],
   "source": [
    "change_mob.save('change_mob.png')"
   ]
  },
  {
   "cell_type": "code",
   "execution_count": null,
   "id": "0ccbd049",
   "metadata": {},
   "outputs": [],
   "source": []
  }
 ],
 "metadata": {
  "kernelspec": {
   "display_name": "Python (nextstrain)",
   "language": "python",
   "name": "nextstrain"
  },
  "language_info": {
   "codemirror_mode": {
    "name": "ipython",
    "version": 3
   },
   "file_extension": ".py",
   "mimetype": "text/x-python",
   "name": "python",
   "nbconvert_exporter": "python",
   "pygments_lexer": "ipython3",
   "version": "3.6.10"
  }
 },
 "nbformat": 4,
 "nbformat_minor": 5
}
