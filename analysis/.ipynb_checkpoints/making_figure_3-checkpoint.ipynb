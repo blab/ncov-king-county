{
 "cells": [
  {
   "cell_type": "code",
   "execution_count": null,
   "id": "27196a80",
   "metadata": {},
   "outputs": [],
   "source": [
    "import pandas as pd\n",
    "import numpy as np\n",
    "import altair as alt\n",
    "from altair import datum\n",
    "alt.data_transformers.disable_max_rows()"
   ]
  },
  {
   "cell_type": "code",
   "execution_count": null,
   "id": "64cbee3e",
   "metadata": {},
   "outputs": [],
   "source": [
    "\n",
    "#highlighting important NPIs in WA\n",
    "data = {'date': [ \"2020-03-23\", \"2020-06-01\", \"2020-11-18\", \"2021-02-14\"], 'event':[ \"Stay at home\", \"Stay at home lifted\", \"Closing restaurants\", \"Reopening restaurants\"]}\n",
    "\n",
    "npidf = pd.DataFrame(data)\n",
    "npidf.date = pd.to_datetime(npidf.date)\n",
    "\n",
    "rule = alt.Chart(npidf).mark_rule(\n",
    "    color=\"black\",\n",
    "    strokeWidth=2, \n",
    "    opacity = 0.3\n",
    ").encode(\n",
    "    alt.X('date:T', axis=alt.Axis(title=None))\n",
    ").properties(\n",
    "    width=800,\n",
    "    height=300\n",
    ")\n",
    "\n",
    "text = alt.Chart(npidf).mark_text(\n",
    "    align='left',\n",
    "    baseline='middle',\n",
    "    dx=2,\n",
    "    dy=-135,\n",
    "    size=13\n",
    ").encode(\n",
    "    alt.X('date:T',axis=alt.Axis(title=None)),\n",
    "    text='event',\n",
    "    color=alt.value('#000000')\n",
    ").properties(\n",
    "    width=800,\n",
    "    height=300\n",
    ")"
   ]
  },
  {
   "cell_type": "code",
   "execution_count": null,
   "id": "f4a3fc4b",
   "metadata": {},
   "outputs": [],
   "source": [
    "persistance_data = \"/Users/miguelparedes/Desktop/gitrepos/ncov-king-county/scripts/persistance_df.csv\"\n",
    "north_percent_intro= \"/Users/miguelparedes/Desktop/gitrepos/ncov-king-county/scripts/north_percent_intro.csv\"\n",
    "south_percent_intro = \"/Users/miguelparedes/Desktop/gitrepos/ncov-king-county/scripts/south_percent_intro.csv\"\n",
    "percent_intro_mob = \"/Users/miguelparedes/Desktop/gitrepos/ncov-king-county/scripts/percent_intro_from_mob.csv\""
   ]
  },
  {
   "cell_type": "code",
   "execution_count": null,
   "id": "b5828be5",
   "metadata": {},
   "outputs": [],
   "source": [
    "persistance_df = pd.read_csv(persistance_data)\n",
    "\n",
    "north_df = pd.read_csv(north_percent_intro)\n",
    "south_df = pd.read_csv(south_percent_intro)\n",
    "mob_df = pd.read_csv(percent_intro_mob)"
   ]
  },
  {
   "cell_type": "code",
   "execution_count": null,
   "id": "617e05dc",
   "metadata": {},
   "outputs": [],
   "source": [
    "persistance_df.rename(columns={'child_host': 'Region'}, inplace=True)\n",
    "persistance_df.Region[persistance_df.Region == \"North_King_County\"] = \"North King County\"\n",
    "persistance_df.Region[persistance_df.Region == \"South_King_County\"] = \"South King County\""
   ]
  },
  {
   "cell_type": "code",
   "execution_count": null,
   "id": "28d36db1",
   "metadata": {},
   "outputs": [],
   "source": [
    "lineplot =  alt.Chart(persistance_df, width = 750).mark_line(interpolate='monotone').encode(\n",
    "    x=alt.X('year-month:T',axis=alt.Axis(title=\"\", grid=False)),\n",
    "    y=alt.Y('mean(persistence_time)',axis=alt.Axis(title=\"Length of Local Transmission (in days)\", grid=False)),\n",
    "    color=alt.Color('Region:N', legend = alt.Legend(offset = -155, labelFontSize = 16, titleFontSize = 16))).properties(\n",
    "    width=1000,\n",
    "    height=300\n",
    ")\n",
    "\n",
    "band = alt.Chart(persistance_df).mark_errorband(extent='ci', interpolate='monotone').encode(\n",
    "    x=alt.X('year-month:T'),\n",
    "    y=alt.Y('persistence_time:Q',axis=alt.Axis(title=\"\", grid=False)), \n",
    "    color =alt.Color('Region:N')\n",
    "    \n",
    ").properties(\n",
    "    width=1000,\n",
    "    height=300)\n",
    "persist = lineplot + band + rule + text\n",
    "#persist.save(\"persistence.png\")\n",
    "persist.configure_axis(\n",
    "    labelFontSize=14,\n",
    "    titleFontSize=14\n",
    ")"
   ]
  },
  {
   "cell_type": "code",
   "execution_count": null,
   "id": "d003b2d7",
   "metadata": {},
   "outputs": [],
   "source": [
    "error_bars = alt.Chart(persistance_df).mark_errorbar(extent='ci').encode(\n",
    "  x=alt.X('persistence_time:Q', scale=alt.Scale(zero=False), axis=alt.Axis(title=\"Mean Length of Local Transmission (in days)\")),\n",
    "  y=alt.Y('Region:N')\n",
    ")\n",
    "\n",
    "points = alt.Chart(persistance_df).mark_point(filled=True, color='black').encode(\n",
    "  x=alt.X('persistence_time:Q', aggregate='mean'),\n",
    "  y=alt.Y('Region:N'),\n",
    ")\n",
    "\n",
    "error = error_bars + points\n",
    "error.save(\"persistence_error.png\")\n",
    "error"
   ]
  },
  {
   "cell_type": "code",
   "execution_count": null,
   "id": "175deec6",
   "metadata": {},
   "outputs": [],
   "source": [
    "# import matplotlib.pyplot as plt\n",
    "\n",
    "# fig, ax1 = plt.subplots()\n",
    "\n",
    "# # These are in unitless percentages of the figure size. (0,0 is bottom left)\n",
    "# left, bottom, width, height = [0.25, 0.6, 0.2, 0.2]\n",
    "# ax2 = fig.add_axes([left, bottom, width, height])\n",
    "# im_base = plt.imread('persistance.png') # insert local path of the image.\n",
    "# im = plt.imread('persistence_error.png') # insert local path of the image.\n",
    "\n",
    "# ax1.imshow(im_base)\n",
    "# ax1.axis(\"off\")\n",
    "# ax2.imshow(im)\n",
    "# ax2.axis('off')\n",
    "# plt.show()"
   ]
  },
  {
   "cell_type": "code",
   "execution_count": null,
   "id": "9218515a",
   "metadata": {},
   "outputs": [],
   "source": [
    "mob_df = mob_df[mob_df.date < \"2022-03-02\"]\n",
    "mob_df = mob_df[mob_df.date > \"2020-02-01\"]"
   ]
  },
  {
   "cell_type": "code",
   "execution_count": null,
   "id": "90b10f19",
   "metadata": {},
   "outputs": [],
   "source": [
    "mob_df = mob_df.drop(columns = ['Unnamed: 0'])"
   ]
  },
  {
   "cell_type": "code",
   "execution_count": null,
   "id": "a42933dc",
   "metadata": {},
   "outputs": [],
   "source": [
    "mob_long = mob_df.melt('date', var_name='Region', value_name='movement')"
   ]
  },
  {
   "cell_type": "code",
   "execution_count": null,
   "id": "13a0ef39",
   "metadata": {},
   "outputs": [],
   "source": [
    "mob_long"
   ]
  },
  {
   "cell_type": "code",
   "execution_count": null,
   "id": "4fb80dd8",
   "metadata": {},
   "outputs": [],
   "source": [
    "percent_cases_from_intro_mob = alt.Chart(mob_long, width = 750).mark_line(interpolate='monotone', opacity = 1.0, color = \"black\").encode(\n",
    "    alt.X('date:T', axis=alt.Axis(title=None, grid=False)),\n",
    "    alt.Y('movement:Q',axis=alt.Axis(title=\"\", grid=False)), \n",
    "    strokeDash =\"Region:N\").properties(\n",
    "    width=800,\n",
    "    height=400\n",
    ")\n",
    "\n",
    "\n",
    "percent_cases_from_intro_mob"
   ]
  },
  {
   "cell_type": "code",
   "execution_count": null,
   "id": "46853140",
   "metadata": {},
   "outputs": [],
   "source": [
    "north_test = north_df[north_df.date < \"2022-03-02\"]\n",
    "south_test = south_df[south_df.date <\"2022-03-02\"]"
   ]
  },
  {
   "cell_type": "code",
   "execution_count": null,
   "id": "5fc3b909",
   "metadata": {},
   "outputs": [],
   "source": []
  },
  {
   "cell_type": "code",
   "execution_count": null,
   "id": "e0158b70",
   "metadata": {},
   "outputs": [],
   "source": [
    "line1 = alt.Chart(north_test).mark_area(interpolate='monotone').encode(\n",
    "    alt.X('date:T', axis=alt.Axis(title=\"Date\", grid=False)),\n",
    "    alt.Y('lower_hpd_log_50',axis=alt.Axis(title=\"\", grid=False)),\n",
    "    alt.Y2('upper_hpd_log_50' )\n",
    ").properties(\n",
    "    width=1000,\n",
    "    height=300\n",
    ").transform_filter(\n",
    "    (datum.lower_hpd_log_50 >0) & (datum.upper_hpd_log_50 < 1)\n",
    ")\n",
    "\n",
    "band1 = alt.Chart(north_test).mark_area(\n",
    "    opacity=0.3, interpolate='monotone'\n",
    ").encode(\n",
    "    alt.X('date:T', axis=alt.Axis(title=\"Date\", grid=False)),\n",
    "    alt.Y('lower_hpd_log_95', axis=alt.Axis(title=\"\", grid=False)),\n",
    "    alt.Y2('upper_hpd_log_95')\n",
    ").properties(\n",
    "    width=1000,\n",
    "    height=300\n",
    ").transform_filter(\n",
    "    (datum.lower_hpd_log_95 >0) & (datum.upper_hpd_log_95 < 0.7)\n",
    ")\n",
    "\n",
    "band1 + line1"
   ]
  },
  {
   "cell_type": "code",
   "execution_count": null,
   "id": "2392bbb3",
   "metadata": {},
   "outputs": [],
   "source": [
    "line2 = alt.Chart(south_test).mark_area(interpolate='monotone', opacity = 1 ,color = \"#f58518\").encode(\n",
    "    alt.X('date:T', axis=alt.Axis(title=\"Date\", grid=False)),\n",
    "    alt.Y('lower_hpd_log_50',axis=alt.Axis(title=\"Percent of cases due to introductions\", grid=False)),\n",
    "    alt.Y2('upper_hpd_log_50' )\n",
    ").properties(\n",
    "    width=1000,\n",
    "    height=300\n",
    ").transform_filter(\n",
    "    (datum.lower_hpd_log_50 >0) & (datum.upper_hpd_log_50 < 1)\n",
    ")\n",
    "\n",
    "band2 = alt.Chart(south_test).mark_area(\n",
    "    opacity=0.3, interpolate='monotone', color = \"#f58518\"\n",
    ").encode(\n",
    "    alt.X('date:T', axis=alt.Axis(title=\"Date\", grid=False)),\n",
    "    alt.Y('lower_hpd_log_95', axis=alt.Axis(title=\"\", grid=False)),\n",
    "    alt.Y2('upper_hpd_log_95')\n",
    ").properties(\n",
    "    width=1000,\n",
    "    height=300\n",
    ").transform_filter(\n",
    "    (datum.lower_hpd_log_95 >0) & (datum.upper_hpd_log_95 < 0.7)\n",
    ")\n",
    "\n",
    "band2 + line2"
   ]
  },
  {
   "cell_type": "code",
   "execution_count": null,
   "id": "5bb55831",
   "metadata": {},
   "outputs": [],
   "source": [
    "percent_case_intro = band1+ line1+ band2+ line2 + text + rule\n",
    "percent_case_intro.configure_axis(\n",
    "    labelFontSize=14,\n",
    "    titleFontSize=14\n",
    ")"
   ]
  },
  {
   "cell_type": "code",
   "execution_count": null,
   "id": "fea00e22",
   "metadata": {},
   "outputs": [],
   "source": [
    "combined_percent_intro = (percent_case_intro + percent_cases_from_intro_mob).configure_axis(\n",
    "    labelFontSize=14,\n",
    "    titleFontSize=14\n",
    ")\n",
    "combined_percent_intro"
   ]
  },
  {
   "cell_type": "code",
   "execution_count": null,
   "id": "11eb8c33",
   "metadata": {},
   "outputs": [],
   "source": [
    "combined_percent_intro.save(\"combined_percent_intro.png\")"
   ]
  },
  {
   "cell_type": "code",
   "execution_count": null,
   "id": "074d1aca",
   "metadata": {},
   "outputs": [],
   "source": [
    "figure3 = persist & percent_case_intro\n",
    "figure3 = figure3.configure_axis(\n",
    "    labelFontSize=14,\n",
    "    titleFontSize=14\n",
    ")\n",
    "figure3"
   ]
  },
  {
   "cell_type": "code",
   "execution_count": null,
   "id": "0d0600a2",
   "metadata": {},
   "outputs": [],
   "source": [
    "figure3.save(\"figure3.png\")"
   ]
  },
  {
   "cell_type": "code",
   "execution_count": null,
   "id": "e57e1f18",
   "metadata": {},
   "outputs": [],
   "source": []
  }
 ],
 "metadata": {
  "kernelspec": {
   "display_name": "Python (nextstrain)",
   "language": "python",
   "name": "nextstrain"
  },
  "language_info": {
   "codemirror_mode": {
    "name": "ipython",
    "version": 3
   },
   "file_extension": ".py",
   "mimetype": "text/x-python",
   "name": "python",
   "nbconvert_exporter": "python",
   "pygments_lexer": "ipython3",
   "version": "3.6.10"
  }
 },
 "nbformat": 4,
 "nbformat_minor": 5
}
