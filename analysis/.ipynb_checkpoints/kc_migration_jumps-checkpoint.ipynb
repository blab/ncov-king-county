{
 "cells": [
  {
   "cell_type": "code",
   "execution_count": null,
   "id": "7bfb4d36",
   "metadata": {
    "scrolled": false
   },
   "outputs": [],
   "source": [
    "## trying out baltic for ncov-KC project"
   ]
  },
  {
   "cell_type": "code",
   "execution_count": null,
   "id": "fe977cb5",
   "metadata": {
    "scrolled": false
   },
   "outputs": [],
   "source": [
    "import baltic as bt\n",
    "import pandas as pd\n",
    "import numpy as np\n",
    "import matplotlib as mpl\n",
    "from matplotlib import pyplot as plt\n",
    "from datetime import datetime as dt\n",
    "from datetime import timedelta\n",
    "import time\n",
    "from io import StringIO\n",
    "import altair as alt\n",
    "from altair import datum\n",
    "alt.data_transformers.disable_max_rows()"
   ]
  },
  {
   "cell_type": "code",
   "execution_count": null,
   "id": "2f657b85",
   "metadata": {
    "scrolled": false
   },
   "outputs": [],
   "source": [
    "trees =  \"/Users/miguelparedes/Desktop/glm_multi/rhino/variant_builds/results/glm_randomkc_clusters_combined_3000.typed.trees\""
   ]
  },
  {
   "cell_type": "code",
   "execution_count": null,
   "id": "c3fb7dd1",
   "metadata": {},
   "outputs": [],
   "source": [
    "def get_burnin_value(tree_path, burnin_percent):\n",
    "    with open(tree_path, 'rU') as infile:\n",
    "        numtrees = 0\n",
    "        for line in infile: ## iterate through each line\n",
    "            if 'state' in line.lower(): #going to grab all the interesting stuff in the .trees file prior to the newick tree strings\n",
    "                numtrees += 1\n",
    "    \n",
    "    burnin = numtrees * burnin_percent\n",
    "    return(burnin)"
   ]
  },
  {
   "cell_type": "code",
   "execution_count": null,
   "id": "2a9e0e4b",
   "metadata": {
    "scrolled": false
   },
   "outputs": [],
   "source": [
    "#making decimal date from string dates adapted from stackoverflow (thank you coding geniuses)\n",
    "def toYearFraction(date):\n",
    "    def sinceEpoch(date): # returns seconds since epoch\n",
    "        return time.mktime(date.timetuple())\n",
    "    s = sinceEpoch\n",
    "\n",
    "    year = date.year\n",
    "    startOfThisYear = dt(year=year, month=1, day=1)\n",
    "    startOfNextYear = dt(year=year+1, month=1, day=1)\n",
    "\n",
    "    yearElapsed = s(date) - s(startOfThisYear)\n",
    "    yearDuration = s(startOfNextYear) - s(startOfThisYear)\n",
    "    fraction = yearElapsed/yearDuration\n",
    "\n",
    "    return date.year + fraction"
   ]
  },
  {
   "cell_type": "code",
   "execution_count": null,
   "id": "51c19391",
   "metadata": {},
   "outputs": [],
   "source": [
    "toYearFraction(dt.strptime(\"2022-03-06\",  \"%Y-%m-%d\"))"
   ]
  },
  {
   "cell_type": "code",
   "execution_count": null,
   "id": "f05fc729",
   "metadata": {
    "scrolled": false
   },
   "outputs": [],
   "source": [
    "#counts the number of lineages at a specific point in time. Adapted from baltic's function.\n",
    "def countLineages_ns(tree,t,attr='absoluteTime', region = 'North_King_County', condition=lambda x:True):\n",
    "    return len([k for k in tree.Objects if getattr(k.parent,attr)!=None and getattr(k.parent,attr)<t<=getattr(k,attr) and condition(k) and k.parent.traits['typeTrait']!=None and k.parent.traits['typeTrait'] ==region])\n"
   ]
  },
  {
   "cell_type": "code",
   "execution_count": null,
   "id": "a5eea2b0",
   "metadata": {},
   "outputs": [],
   "source": [
    "#counts the number of lineages at a specific point in time. Adapted from baltic's function.\n",
    "def countBL_ns(tree,t,attr='absoluteTime', region = 'North_King_County', condition=lambda x:True):\n",
    "    return sum([(k.absoluteTime - k.parent.absoluteTime) for k in tree.Objects if getattr(k.parent,attr)!=None and getattr(k.parent,attr)<t<=getattr(k,attr) and condition(k) and k.parent.traits['typeTrait']!=None and k.parent.traits['typeTrait'] ==region])\n"
   ]
  },
  {
   "cell_type": "markdown",
   "id": "94c80d28",
   "metadata": {},
   "source": [
    "## Calculating branch lengths over time"
   ]
  },
  {
   "cell_type": "code",
   "execution_count": null,
   "id": "6b126c95",
   "metadata": {},
   "outputs": [],
   "source": [
    "dates1= pd.date_range('2020-01','2022-04' , freq='1M').strftime('%Y-%m')"
   ]
  },
  {
   "cell_type": "code",
   "execution_count": null,
   "id": "693c61d3",
   "metadata": {},
   "outputs": [],
   "source": [
    "date_df = pd.DataFrame(dates1)\n",
    "date_df = date_df.rename(columns = {0: 'yearmonth'})\n",
    "\n",
    "date_df['first_day'] = pd.date_range('2020-01','2022-04' , freq='1M')-pd.offsets.MonthBegin(1)\n",
    "date_df['last_day'] =  pd.date_range('2020-01','2022-04' , freq='1M')\n",
    "\n",
    "date_df.first_day= date_df.first_day.map(toYearFraction)\n",
    "date_df.last_day= date_df.last_day.map(toYearFraction)\n",
    "\n",
    "date_df"
   ]
  },
  {
   "cell_type": "code",
   "execution_count": null,
   "id": "65011ddf",
   "metadata": {},
   "outputs": [],
   "source": [
    "def bl_overtime(date_df, tree, condition=lambda x:True):\n",
    "    output_dict = {}\n",
    "    for index, row in date_df.iterrows():\n",
    "        north_bl = []\n",
    "        south_bl = []\n",
    "        for k in tree.Objects:\n",
    "            try:\n",
    "                if (k.parent.absoluteTime != None) and (row.first_day<=k.parent.absoluteTime<row.last_day) and (condition(k)) and (k.parent.traits['typeTrait'] ==\"North_King_County\"):\n",
    "                    if k.absoluteTime > row.last_day:\n",
    "                        child_time = row.last_day \n",
    "                    else:\n",
    "                        child_time = k.absoluteTime\n",
    "                    \n",
    "                    bl = child_time- k.parent.absoluteTime\n",
    "                    north_bl.append(bl)\n",
    "                    \n",
    "            except KeyError:\n",
    "                continue\n",
    " \n",
    "            try:\n",
    "                if (k.parent.absoluteTime != None) and (row.first_day<=k.parent.absoluteTime<row.last_day) and (condition(k)) and (k.parent.traits['typeTrait'] ==\"South_King_County\"):\n",
    "                    if k.absoluteTime > row.last_day:\n",
    "                        child_time = row.last_day \n",
    "                    else:\n",
    "                        child_time = k.absoluteTime\n",
    "                    \n",
    "                    bl = child_time- k.parent.absoluteTime\n",
    "                    south_bl.append(bl)\n",
    "                    \n",
    "            except KeyError:\n",
    "                continue\n",
    "                \n",
    "        total_bl_n = sum(north_bl)\n",
    "        \n",
    "        total_bl_s = sum(south_bl)\n",
    "        \n",
    "        output_dict[index] = {\"yearmonth\":row.yearmonth, \"total_bl_n\":total_bl_n, \"total_bl_s\": total_bl_s}    \n",
    "    return(output_dict)  "
   ]
  },
  {
   "cell_type": "code",
   "execution_count": null,
   "id": "2bc1cb3b",
   "metadata": {
    "scrolled": false
   },
   "outputs": [],
   "source": [
    "def enumerate_migration_events(tree):\n",
    "        \n",
    "    output_dict = {}\n",
    "    migration_events_counter = 0\n",
    "        \n",
    "    for k in tree.Objects:\n",
    "        if k.traits == {}:\n",
    "            k.traits = {'obs': 0.0, 'typeTrait':\"root\"}\n",
    "        elif k.traits['obs'] ==  0.0:\n",
    "            k.traits = {'obs': 0.0, 'typeTrait':\"none\"}\n",
    "        \n",
    "        trait = k.traits['typeTrait']\n",
    "        parent_node = k.parent\n",
    "        if ('root' in parent_node.traits) or (parent_node.traits == {}) :\n",
    "            parent_trait = \"root\"\n",
    "        \n",
    "        # only write out migration events that are not from root to deme\n",
    "        else:\n",
    "\n",
    "        \n",
    "            parent_trait = parent_node.traits['typeTrait']\n",
    "            \n",
    "            if trait != parent_trait:\n",
    "                migration_events_counter += 1\n",
    "                migration_event = parent_trait + \"-to-\" + trait\n",
    "                migration_date = parent_node.absoluteTime  \n",
    "                if trait == \"South_King_County\" or trait == \"North_King_County\":\n",
    "                    try:\n",
    "                        concurrent_lineages = countLineages_ns(tree, parent_node.absoluteTime, region = trait)\n",
    "                        concurrent_bl = countBL_ns(tree, parent_node.absoluteTime, region = trait)\n",
    "                    except: \n",
    "                        pass\n",
    "                else: \n",
    "                    concurrent_lineages = np.nan\n",
    "                    concurrent_bl = np.nan\n",
    "\n",
    "                \n",
    "\n",
    "                # write to output dictionary\n",
    "                output_dict[migration_events_counter] = {\"type\":migration_event, \"date\":migration_date, 'lineages': concurrent_lineages,\n",
    "                                                         \"branch_lengths\" : concurrent_bl,\n",
    "                                                        \"parent_host\":parent_trait,\n",
    "                                                        \"child_host\": trait}\n",
    "    \n",
    "    return(output_dict)"
   ]
  },
  {
   "cell_type": "code",
   "execution_count": null,
   "id": "842ca1c2",
   "metadata": {},
   "outputs": [],
   "source": [
    "burnin_percent = 0.1\n",
    "\n",
    "burnin = get_burnin_value(trees, burnin_percent)\n",
    "print(burnin)"
   ]
  },
  {
   "cell_type": "code",
   "execution_count": null,
   "id": "926ee440",
   "metadata": {
    "scrolled": true
   },
   "outputs": [],
   "source": [
    "start_time = time.time()\n",
    "\n",
    "with open(trees, \"r\") as infile:\n",
    "    \n",
    "    tree_counter = 0\n",
    "    trees_processed = 0\n",
    "    migrations_dict = {}\n",
    "    time_dict = {}\n",
    "    \n",
    "    for line in infile:\n",
    "       # print(line)\n",
    "        if 'tree STATE_' in line:\n",
    "            tree_counter += 1\n",
    "            \n",
    "            if tree_counter > burnin:\n",
    "                temp_tree = StringIO(line)\n",
    "                tree = bt.loadNexus(temp_tree, absoluteTime = False)\n",
    "                tree.setAbsoluteTime(2022.1753424657534)\n",
    "                trees_processed += 1\n",
    "\n",
    "                # iterate through the tree and pull out all migration events\n",
    "                migrations_dict[tree_counter] = enumerate_migration_events(tree)\n",
    "                time_dict[tree_counter] = bl_overtime(date_df, tree)\n",
    "\n",
    "# print the amount of time this took\n",
    "total_time_seconds = time.time() - start_time\n",
    "total_time_minutes = total_time_seconds/60\n",
    "print(\"this took\", total_time_seconds, \"seconds (\", total_time_minutes,\" minutes) to run on\", trees_processed, \"trees\")"
   ]
  },
  {
   "cell_type": "code",
   "execution_count": null,
   "id": "9000050e",
   "metadata": {},
   "outputs": [],
   "source": [
    "time_df = pd.DataFrame.from_dict({(i,j): time_dict[i][j] \n",
    "                           for i in time_dict.keys() \n",
    "                           for j in time_dict[i].keys()},\n",
    "                       orient='index')\n",
    "time_df\n",
    "time_df.reset_index(inplace=True)\n",
    "time_df.rename(columns={'level_0': 'tree_number', 'level_1': 'event_number', 'yearmonth': 'year-month'}, inplace=True)\n",
    "time_df"
   ]
  },
  {
   "cell_type": "code",
   "execution_count": null,
   "id": "349efdba",
   "metadata": {},
   "outputs": [],
   "source": [
    "\n",
    "alt.Chart(time_df, width = 750).mark_line(size = 10, opacity = 0.2).encode(\n",
    "    x=alt.X('year-month:O'),\n",
    "    y=alt.Y('total_bl_n:Q'),\n",
    "    color=alt.Color('tree_number:N'))"
   ]
  },
  {
   "cell_type": "code",
   "execution_count": null,
   "id": "6b5bb830",
   "metadata": {},
   "outputs": [],
   "source": [
    "\n",
    "alt.Chart(time_df, width = 750).mark_line(size = 10, opacity = 0.2).encode(\n",
    "    x=alt.X('year-month:O'),\n",
    "    y=alt.Y('total_bl_s:Q'),\n",
    "    color=alt.Color('tree_number:N'))"
   ]
  },
  {
   "cell_type": "code",
   "execution_count": null,
   "id": "e007f645",
   "metadata": {
    "scrolled": false
   },
   "outputs": [],
   "source": [
    "migrations_df = pd.DataFrame.from_dict({(i,j): migrations_dict[i][j] \n",
    "                           for i in migrations_dict.keys() \n",
    "                           for j in migrations_dict[i].keys()},\n",
    "                       orient='index')\n",
    "migrations_df\n",
    "migrations_df.reset_index(inplace=True)\n",
    "migrations_df.rename(columns={'level_0': 'tree_number', 'level_1': 'migration_event_number'}, inplace=True)\n",
    "migrations_df.head()"
   ]
  },
  {
   "cell_type": "code",
   "execution_count": null,
   "id": "a9957a65",
   "metadata": {
    "scrolled": false
   },
   "outputs": [],
   "source": [
    "#need to convert the decimal dates back to calendar dates cause it be like that sometimes \n",
    "def convert_partial_year(number):\n",
    "\n",
    "    year = int(number)\n",
    "    d = timedelta(days=(number - year)*(365 + is_leap(year)))\n",
    "    day_one = dt(year,1,1)\n",
    "    date = d + day_one\n",
    "    date = dt.strftime(date, '%Y-%m-%d')\n",
    "    return date"
   ]
  },
  {
   "cell_type": "code",
   "execution_count": null,
   "id": "534ab840",
   "metadata": {},
   "outputs": [],
   "source": [
    "#need to convert the decimal dates back to calendar dates cause it be like that sometimes \n",
    "def convert_persistence(number):\n",
    "\n",
    "    \n",
    "    d = timedelta(days=(number)*(365))\n",
    "    \n",
    "    return d.total_seconds()"
   ]
  },
  {
   "cell_type": "code",
   "execution_count": null,
   "id": "b9310846",
   "metadata": {
    "scrolled": false
   },
   "outputs": [],
   "source": [
    "def is_leap(number):\n",
    "    if number == 2020:\n",
    "        leap = 1\n",
    "    else:\n",
    "        leap = 0\n",
    "    return leap"
   ]
  },
  {
   "cell_type": "code",
   "execution_count": null,
   "id": "f2185513",
   "metadata": {
    "scrolled": false
   },
   "outputs": [],
   "source": [
    "def convert_format(number):\n",
    "    date = dt.strptime(number, '%Y-%m-%d')\n",
    "    date = dt.strftime(date, '%Y-%m')\n",
    "    return date"
   ]
  },
  {
   "cell_type": "code",
   "execution_count": null,
   "id": "5562fbaf",
   "metadata": {
    "scrolled": false
   },
   "outputs": [],
   "source": [
    "migrations_df['calendar_date'] = migrations_df.date.map(convert_partial_year)\n",
    "migrations_df['year-month'] = migrations_df['calendar_date'].map(convert_format)"
   ]
  },
  {
   "cell_type": "code",
   "execution_count": null,
   "id": "ccb1fbe3",
   "metadata": {},
   "outputs": [],
   "source": [
    "merged_mr_df = pd.merge(migrations_df, time_df, on = ['tree_number', 'year-month'], how = 'left')\n",
    "merged_mr_df"
   ]
  },
  {
   "cell_type": "markdown",
   "id": "ebfb960c",
   "metadata": {},
   "source": [
    "## Thoughts: the function below extracts mig jumps for every month of the year. raw counts, however, are biased by sampling. While proportions are also included, it still doesnt give us a good idea of the raw number of transmission events. Might be a good idea to bring in the alignment or metadata file, see how many genomes there are from each location and standardize based on genomes included. EDIT: This was fixed via mig_per_bl addition"
   ]
  },
  {
   "cell_type": "code",
   "execution_count": null,
   "id": "8577a408",
   "metadata": {
    "scrolled": false
   },
   "outputs": [],
   "source": [
    "\n",
    "def return_proportions_dataframe(input_df, time_unit):\n",
    "    output_df = pd.DataFrame()\n",
    "    north_kc = [\"South_King_County-to-North_King_County\", \"none-to-North_King_County\"]\n",
    "    south_kc = [\"North_King_County-to-South_King_County\", \"none-to-South_King_County\"]\n",
    "    \n",
    "    for tree_number in set(input_df['tree_number'].tolist()):\n",
    "        local_df1 = input_df[input_df['tree_number'] == tree_number]\n",
    "        \n",
    "        for v in list(set(input_df['type'].tolist())):\n",
    "            local_df = local_df1[local_df1['type'] == v]\n",
    "            total_transitions = len(local_df)\n",
    "\n",
    "            for item in set(input_df[time_unit].tolist()):\n",
    "                local_df2 = local_df[local_df[time_unit] == item]\n",
    "                transitions_in_time_unit = len(local_df2)\n",
    "                average_lin = local_df2.lineages.mean()\n",
    "                average_bl = 0\n",
    "                if v in north_kc:\n",
    "                    average_bl = local_df2.total_bl_n.mean()\n",
    "                elif v in south_kc: \n",
    "                    average_bl = local_df2.total_bl_s.mean()\n",
    "                               \n",
    "                if total_transitions != 0 :\n",
    "                    prop_transitions_in_time_unit = transitions_in_time_unit/total_transitions\n",
    "                else:\n",
    "                    prop_transitions_in_time_unit = 0\n",
    "                    \n",
    "                if transitions_in_time_unit != 0 and average_bl != 0:\n",
    "                    mig_per_bl = transitions_in_time_unit/average_bl\n",
    "                else:\n",
    "                    mig_per_bl = 0\n",
    "                    \n",
    "                if transitions_in_time_unit != 0:\n",
    "                    mig_per_lineage = transitions_in_time_unit/average_lin\n",
    "                else:\n",
    "                    mig_per_lineage = 0\n",
    "\n",
    "                to_add = pd.DataFrame({\"migration_direction\":[v],time_unit:[item],\"tree_number\":[tree_number], \n",
    "                                       \"total_transitions\":[total_transitions],\n",
    "                                       \"transitions_in_time_interval\":[transitions_in_time_unit],\n",
    "                                      \"proportion_transitions_in_time_interval\":[prop_transitions_in_time_unit], \"mig_per_lineage\":[mig_per_lineage], \"mig_per_bl\":[mig_per_bl]})\n",
    "                output_df = output_df.append(to_add)\n",
    "            \n",
    "    return(output_df)"
   ]
  },
  {
   "cell_type": "code",
   "execution_count": null,
   "id": "ece8adce",
   "metadata": {
    "scrolled": false
   },
   "outputs": [],
   "source": [
    "start_time = time.time()\n",
    "\n",
    "mig = return_proportions_dataframe(merged_mr_df, \"year-month\")\n",
    "\n",
    "total_time_seconds = time.time() - start_time\n",
    "total_time_minutes = total_time_seconds/60\n",
    "print(total_time_minutes)\n",
    "\n",
    "mig.head()"
   ]
  },
  {
   "cell_type": "code",
   "execution_count": null,
   "id": "ec31ece9",
   "metadata": {
    "scrolled": false
   },
   "outputs": [],
   "source": [
    "mig.migration_direction.value_counts()"
   ]
  },
  {
   "cell_type": "code",
   "execution_count": null,
   "id": "f56a2a6c",
   "metadata": {
    "scrolled": false
   },
   "outputs": [],
   "source": [
    "notwanted = [\"none-to-South_King_County\", \"none-to-North_King_County\",\"root-to-none\" ]\n",
    "mig_clean = mig\n",
    "for mr in notwanted:\n",
    "    mig_clean = mig_clean[mig_clean['migration_direction'] != mr]\n"
   ]
  },
  {
   "cell_type": "code",
   "execution_count": null,
   "id": "9eacabb8",
   "metadata": {},
   "outputs": [],
   "source": [
    "mig_coll = mig\n",
    "mig_coll['region'] = np.nan\n",
    "mig_coll.loc[(mig_coll.migration_direction == \"none-to-South_King_County\")| (mig_coll.migration_direction == \"North_King_County-to-South_King_County\"), \"region\"] = \"South\"\n",
    "mig_coll.loc[(mig_coll.migration_direction == \"none-to-North_King_County\")| (mig_coll.migration_direction == \"South_King_County-to-North_King_County\"), \"region\"] = \"North\"\n",
    "mig_coll = mig_coll.dropna(subset=['region'])\n",
    "mig_coll"
   ]
  },
  {
   "cell_type": "code",
   "execution_count": null,
   "id": "13c28555",
   "metadata": {},
   "outputs": [],
   "source": [
    "#plot total introductions over time for N and S"
   ]
  },
  {
   "cell_type": "code",
   "execution_count": null,
   "id": "8359c6e7",
   "metadata": {},
   "outputs": [],
   "source": [
    "mig_coll_short = mig_coll[mig_coll['year-month'] > \"2020-01\"] #before march it's mostly sparsely north "
   ]
  },
  {
   "cell_type": "markdown",
   "id": "1ea70e9d",
   "metadata": {},
   "source": [
    "## subsetting to after march 2020\n"
   ]
  },
  {
   "cell_type": "code",
   "execution_count": null,
   "id": "90689cde",
   "metadata": {
    "scrolled": false
   },
   "outputs": [],
   "source": [
    "mig_short = mig_clean[(mig_clean['year-month'] > \"2020-01\") & (mig_clean['year-month'] < \"2022-03\")] #before march it's mostly sparsely north\n",
    "mig_short.to_csv(\"migration_jumps_df.csv\")"
   ]
  },
  {
   "cell_type": "code",
   "execution_count": null,
   "id": "ee212b8b",
   "metadata": {},
   "outputs": [],
   "source": [
    "## jumps per BL"
   ]
  },
  {
   "cell_type": "code",
   "execution_count": null,
   "id": "c79c14dd",
   "metadata": {},
   "outputs": [],
   "source": [
    "domain = ['North_King_County-to-South_King_County', 'South_King_County-to-North_King_County']\n",
    "#range_ = ['red', 'green']\n",
    "\n",
    "\n",
    "stripplot3 =  alt.Chart(mig_short, width = 750).mark_circle(size = 10, opacity = 0.2).encode(\n",
    "    x=alt.X('year-month:O'),\n",
    "    y=alt.Y('mig_per_bl:Q'),\n",
    "    color=alt.Color('migration_direction:N'))\n",
    "\n",
    "\n",
    "lineplot3 =  alt.Chart(mig_short, width = 750).mark_line(interpolate='monotone', clip = True).encode(\n",
    "    x=alt.X('year-month:T',axis=alt.Axis( grid=False)),\n",
    "    y=alt.Y('median(mig_per_bl)',axis=alt.Axis(title=\"Number of Migration Events (Normalized by Branch Length)\", grid=False)),\n",
    "    color=alt.Color('migration_direction:N')).properties(\n",
    "    width=850,\n",
    "    height=300\n",
    ")\n",
    "\n",
    "band3 = alt.Chart(mig_short).mark_errorband(extent='iqr', interpolate='monotone', clip = True).encode(\n",
    "    x=alt.X('year-month:T'),\n",
    "    y=alt.Y('mig_per_bl',axis=alt.Axis(title=\"\", grid=False)), \n",
    "    color =alt.Color('migration_direction:N')).properties(\n",
    "    width=850,\n",
    "    height=300\n",
    ") \n",
    "jumps_per_bl = lineplot3 + band3 + rule + text "
   ]
  },
  {
   "cell_type": "code",
   "execution_count": null,
   "id": "29db7119",
   "metadata": {},
   "outputs": [],
   "source": [
    "jumps_per_bl = lineplot3 + band3 + rule + text "
   ]
  },
  {
   "cell_type": "code",
   "execution_count": null,
   "id": "33a6490f",
   "metadata": {},
   "outputs": [],
   "source": [
    "jumps_per_bl"
   ]
  },
  {
   "cell_type": "code",
   "execution_count": null,
   "id": "d3ee5930",
   "metadata": {},
   "outputs": [],
   "source": [
    "jumps_per_bl.save(\"jumps_per_bl.png\")"
   ]
  },
  {
   "cell_type": "code",
   "execution_count": null,
   "id": "ec64a559",
   "metadata": {},
   "outputs": [],
   "source": [
    "outside_df = mig[(mig['migration_direction'] == \"none-to-North_King_County\") | (mig['migration_direction'] == \"none-to-South_King_County\") ]"
   ]
  },
  {
   "cell_type": "code",
   "execution_count": null,
   "id": "b739e801",
   "metadata": {},
   "outputs": [],
   "source": [
    "lineplot4 =  alt.Chart(outside_df, width = 750).mark_line(interpolate='monotone').encode(\n",
    "    x=alt.X('year-month:T'),\n",
    "    y=alt.Y('mean(mig_per_lineage)'),\n",
    "    color=alt.Color('migration_direction:N')).properties(\n",
    "    width=800,\n",
    "    height=300\n",
    ")\n",
    "\n",
    "band4 = alt.Chart(outside_df).mark_errorband(extent='ci', interpolate='monotone').encode(\n",
    "    x=alt.X('year-month:T'),\n",
    "    y=alt.Y('mig_per_lineage'), \n",
    "    color =alt.Color('migration_direction:N')).properties(\n",
    "    width=800,\n",
    "    height=300\n",
    ")\n",
    "    "
   ]
  },
  {
   "cell_type": "code",
   "execution_count": null,
   "id": "c060a4ab",
   "metadata": {},
   "outputs": [],
   "source": [
    "lineplot4 +band4 + rule + text "
   ]
  },
  {
   "cell_type": "code",
   "execution_count": null,
   "id": "b25da78c",
   "metadata": {},
   "outputs": [],
   "source": [
    "chart = alt.Chart(mig_short).mark_bar().encode(\n",
    "    alt.X('year-month:O'), \n",
    "    alt.Color('migration_direction:N'),\n",
    "    alt.Y(\"mean(mig_per_bl)\", stack=\"normalize\", title='Mig_per_bl'))\n",
    "\n"
   ]
  },
  {
   "cell_type": "code",
   "execution_count": null,
   "id": "60d0491c",
   "metadata": {},
   "outputs": [],
   "source": [
    "chart"
   ]
  },
  {
   "cell_type": "code",
   "execution_count": null,
   "id": "a5ae0978",
   "metadata": {},
   "outputs": [],
   "source": []
  },
  {
   "cell_type": "code",
   "execution_count": null,
   "id": "47b981e0",
   "metadata": {},
   "outputs": [],
   "source": [
    "chart.save(\"normalized_jumps_per_bl.png\")"
   ]
  },
  {
   "cell_type": "code",
   "execution_count": null,
   "id": "a30bb350",
   "metadata": {},
   "outputs": [],
   "source": [
    "test_c = alt.Chart(mig_short).mark_bar().encode(\n",
    "    alt.X('migration_direction:N',  axis=alt.Axis(title=None, labels=False, ticks=False)), alt.Y(\"mean(mig_per_bl)\", stack=False,  axis=alt.Axis(grid=False), title='Mig_per_bl'),\n",
    "    alt.Color('migration_direction:N')#, column = alt.Column(\"year-month:N\", header=alt.Header(title=None, labelOrient='bottom'))\n",
    "    )\n",
    "error_bars = alt.Chart().mark_errorbar(extent='ci').encode(\n",
    "    x='migration_direction:N',\n",
    "    y='mig_per_bl:Q'\n",
    ")\n",
    "alt.layer(test_c, error_bars, data=mig_short).facet(\n",
    "    alt.Column(\"year-month:N\", header=alt.Header(title=None, labelOrient='bottom')))"
   ]
  },
  {
   "cell_type": "code",
   "execution_count": null,
   "id": "2accb805",
   "metadata": {},
   "outputs": [],
   "source": [
    "error_bars = alt.Chart(mig_short).mark_errorbar(extent='ci').encode(\n",
    "  x=alt.X('year-month:O'),\n",
    "  y=alt.Y('mig_per_bl:Q'), color = alt.Color(\"migration_direction:N\")\n",
    ")\n",
    "\n",
    "points = alt.Chart(mig_short).mark_point(filled=True, color='black').encode(\n",
    "  x=alt.X('year-month:O'),\n",
    "  y=alt.Y('mig_per_bl:Q', aggregate='mean'),\n",
    "    color = alt.Color(\"migration_direction:N\")\n",
    ")\n",
    "\n",
    "ave = error_bars + points\n",
    "ave"
   ]
  },
  {
   "cell_type": "code",
   "execution_count": null,
   "id": "b9e4e470",
   "metadata": {},
   "outputs": [],
   "source": [
    "points = alt.Chart(mig_short).mark_point(filled=True, opacity = 0.25).encode(\n",
    "  x=alt.X('year-month:O'),\n",
    "  y=alt.Y('mig_per_bl:Q'),\n",
    "    color = alt.Color(\"migration_direction:N\")\n",
    ")\n",
    "\n",
    "line= alt.Chart(mig_short).mark_line().encode(\n",
    "  x=alt.X('year-month:O'),\n",
    "  y=alt.Y('mean(mig_per_bl):Q'),\n",
    "    color = alt.Color(\"migration_direction:N\")\n",
    ")\n",
    "points + line"
   ]
  },
  {
   "cell_type": "code",
   "execution_count": null,
   "id": "6fc75ca4",
   "metadata": {},
   "outputs": [],
   "source": [
    "\n",
    "\n",
    "test_c = alt.Chart(mig_short).mark_circle().encode(\n",
    "    alt.X('migration_direction:N',  axis=alt.Axis(title=None, labels=False, ticks=False)), alt.Y(\"mig_per_bl\", stack=False,  axis=alt.Axis(grid=False), title='Mig_per_bl'),\n",
    "    alt.Color('migration_direction:N'), column = alt.Column(\"year-month:N\", header=alt.Header(title=None, labelOrient='bottom'))\n",
    "    )\n",
    "test_c"
   ]
  },
  {
   "cell_type": "code",
   "execution_count": null,
   "id": "f2871b93",
   "metadata": {},
   "outputs": [],
   "source": [
    "error_bars = alt.Chart(mig_short).mark_errorbar(extent='ci').encode(\n",
    "  x=alt.X('mig_per_bl:Q', scale=alt.Scale(zero=False)),\n",
    "  y=alt.Y('migration_direction:N')\n",
    ")\n",
    "\n",
    "points = alt.Chart(mig_short).mark_point(filled=True, color='black').encode(\n",
    "  x=alt.X('mig_per_bl:Q', aggregate='mean'),\n",
    "  y=alt.Y('migration_direction:N'),\n",
    ")\n",
    "\n",
    "ave = error_bars + points\n",
    "ave"
   ]
  },
  {
   "cell_type": "code",
   "execution_count": null,
   "id": "c9eb232e",
   "metadata": {},
   "outputs": [],
   "source": [
    "summary = chart | ave\n",
    "summary.save(\"summary_jumps.png\")"
   ]
  },
  {
   "cell_type": "markdown",
   "id": "634fba20",
   "metadata": {},
   "source": [
    "### Working on calculating persistence times"
   ]
  },
  {
   "cell_type": "code",
   "execution_count": null,
   "id": "3e7a7249",
   "metadata": {},
   "outputs": [],
   "source": [
    "def estimate_persistence(tree):\n",
    "        \n",
    "    output_dict = {}\n",
    "    persistence_counter = 0\n",
    "        \n",
    "    for k in tree.Objects:\n",
    "        \n",
    "        if k.traits == {}:\n",
    "            k.traits = {'obs': 0.0, 'typeTrait':\"root\"}\n",
    "        elif k.traits['obs'] ==  0.0:\n",
    "            k.traits = {'obs': 0.0, 'typeTrait':\"none\"}\n",
    "        \n",
    "        trait = k.traits['typeTrait']\n",
    "        parent_node = k.parent\n",
    "        if ('root' in parent_node.traits) or (parent_node.traits == {}) :\n",
    "            parent_trait = \"root\"\n",
    "        \n",
    "        # only write out migration events that are not from root to deme\n",
    "        elif k.branchType=='leaf':\n",
    "            tip_date= k.absoluteTime\n",
    "            tip_name = k.name\n",
    "            confirm = True\n",
    "            while confirm == True:\n",
    "                try:\n",
    "                    parent_trait = parent_node.traits['typeTrait']\n",
    "                    \n",
    "                    if trait != parent_trait:\n",
    "                        persistence_counter += 1\n",
    "\n",
    "                        migration_event = parent_trait + \"-to-\" + trait\n",
    "                        migration_date = parent_node.absoluteTime\n",
    "                        \n",
    "                        persistence =  tip_date - migration_date\n",
    "\n",
    "    \n",
    "                        # write to output dictionary\n",
    "                        output_dict[persistence_counter] = {\"type\":migration_event, \"migration date\":migration_date,\"tip date\": tip_date, \"persistance\": persistence, \"tip_name\" : tip_name,\n",
    "                                                        \"parent_host\":parent_trait,\n",
    "                                                        \"child_host\": trait}\n",
    "                        confirm = False\n",
    "                    else:    \n",
    "                        parent_node = parent_node.parent    \n",
    "\n",
    "                except:\n",
    "                    break\n",
    "                    \n",
    "\n",
    "        else:\n",
    "            continue\n",
    "    \n",
    "    return(output_dict)"
   ]
  },
  {
   "cell_type": "code",
   "execution_count": null,
   "id": "460d02be",
   "metadata": {},
   "outputs": [],
   "source": [
    "start_time = time.time()\n",
    "\n",
    "with open(trees, \"r\") as infile:\n",
    "    \n",
    "    tree_counter = 0\n",
    "    trees_processed = 0\n",
    "    persistence_dict = {}\n",
    "    \n",
    "    for line in infile:\n",
    "       # print(line)\n",
    "        if 'tree STATE_' in line:\n",
    "            tree_counter += 1\n",
    "            \n",
    "\n",
    "            temp_tree = StringIO(line)\n",
    "            tree = bt.loadNexus(temp_tree, absoluteTime = False)\n",
    "            tree.setAbsoluteTime(2022.1753424657534)\n",
    "            trees_processed += 1\n",
    "\n",
    "            # iterate through the tree and pull out all migration events\n",
    "            persistence_dict[tree_counter] =  estimate_persistence(tree)\n",
    "            \n",
    "# print the amount of time this took\n",
    "total_time_seconds = time.time() - start_time\n",
    "total_time_minutes = total_time_seconds/60\n",
    "print(\"this took\", total_time_seconds, \"seconds (\", total_time_minutes,\" minutes) to run on\", trees_processed, \"trees\")"
   ]
  },
  {
   "cell_type": "code",
   "execution_count": null,
   "id": "08be443b",
   "metadata": {},
   "outputs": [],
   "source": [
    "persistence_df = pd.DataFrame.from_dict({(i,j): persistence_dict[i][j] \n",
    "                           for i in persistence_dict.keys() \n",
    "                           for j in persistence_dict[i].keys()},\n",
    "                       orient='index')\n",
    "persistence_df\n",
    "persistence_df.reset_index(inplace=True)\n",
    "persistence_df.rename(columns={'level_0': 'tree_number', 'level_1': 'migration_event_number'}, inplace=True)\n",
    "persistence_df.head(5)"
   ]
  },
  {
   "cell_type": "code",
   "execution_count": null,
   "id": "1996a3f6",
   "metadata": {
    "scrolled": true
   },
   "outputs": [],
   "source": [
    "persistence_df.type.value_counts()#[persistence_df[\"tree_number\"] == 1]"
   ]
  },
  {
   "cell_type": "code",
   "execution_count": null,
   "id": "3f3575cb",
   "metadata": {},
   "outputs": [],
   "source": [
    "persistence_df['migration_date'] = persistence_df['migration date'].map(convert_partial_year)\n",
    "persistence_df['tip_date'] = persistence_df['tip date'].map(convert_partial_year)\n",
    "persistence_df['year-month'] = persistence_df['migration_date'].map(convert_format)\n",
    "persistence_df['persistence_time'] = persistence_df['persistance'].map(convert_persistence)\n",
    "persistence_df['persistence_time'] = persistence_df['persistence_time'].div(86400) #calculating number of days from seconds"
   ]
  },
  {
   "cell_type": "code",
   "execution_count": null,
   "id": "1f62183e",
   "metadata": {},
   "outputs": [],
   "source": [
    "temp = persistence_df[(persistence_df['year-month'] > \"2020-01\") ]"
   ]
  },
  {
   "cell_type": "code",
   "execution_count": null,
   "id": "3e4b4145",
   "metadata": {},
   "outputs": [],
   "source": [
    "temp.to_csv(\"persistance_df.csv\")"
   ]
  },
  {
   "cell_type": "code",
   "execution_count": null,
   "id": "318d081d",
   "metadata": {},
   "outputs": [],
   "source": [
    "stripplot =  alt.Chart(temp, width = 750).mark_circle(size=8, opacity = 0.2).encode(\n",
    "    x=alt.X('year-month:O'),\n",
    "    y=alt.Y('persistence_time:Q'),\n",
    "    color=alt.Color('child_host:N'))\n",
    "\n",
    "lineplot =  alt.Chart(temp, width = 750).mark_line(interpolate='monotone').encode(\n",
    "    x=alt.X('year-month:T',axis=alt.Axis(title=\"\", grid=False)),\n",
    "    y=alt.Y('mean(persistence_time)',axis=alt.Axis(title=\"Length of Local Transmission (in Days)\", grid=False)),\n",
    "    color=alt.Color('child_host:N')).properties(\n",
    "    width=800,\n",
    "    height=300\n",
    ")\n",
    "\n",
    "band = alt.Chart(temp).mark_errorband(extent='ci', interpolate='monotone').encode(\n",
    "    x=alt.X('year-month:T'),\n",
    "    y=alt.Y('persistence_time:Q',axis=alt.Axis(title=\"\", grid=False)), \n",
    "    color =alt.Color('child_host:N')\n",
    "    \n",
    ").properties(\n",
    "    width=800,\n",
    "    height=300\n",
    ")"
   ]
  },
  {
   "cell_type": "code",
   "execution_count": null,
   "id": "68c07111",
   "metadata": {
    "scrolled": true
   },
   "outputs": [],
   "source": [
    "persist = lineplot + band +rule + text"
   ]
  },
  {
   "cell_type": "code",
   "execution_count": null,
   "id": "d2789a22",
   "metadata": {},
   "outputs": [],
   "source": [
    "persist"
   ]
  },
  {
   "cell_type": "code",
   "execution_count": null,
   "id": "9e4a8577",
   "metadata": {},
   "outputs": [],
   "source": [
    "persist.save(\"persistance.png\")"
   ]
  },
  {
   "cell_type": "code",
   "execution_count": null,
   "id": "0400b53e",
   "metadata": {},
   "outputs": [],
   "source": [
    "chart = alt.Chart(temp).mark_bar().encode(\n",
    "    alt.X('year-month:O'), \n",
    "    alt.Color('child_host:N'),\n",
    "    alt.Y(\"mean(persistence_time)\", stack=\"normalize\", title='Mig_per_lineage'))\n",
    "\n"
   ]
  },
  {
   "cell_type": "code",
   "execution_count": null,
   "id": "229bf8ad",
   "metadata": {},
   "outputs": [],
   "source": [
    "chart"
   ]
  },
  {
   "cell_type": "code",
   "execution_count": null,
   "id": "d80a0d88",
   "metadata": {},
   "outputs": [],
   "source": [
    "error_bars = alt.Chart(temp).mark_errorbar(extent='ci').encode(\n",
    "  x=alt.X('persistence_time:Q', scale=alt.Scale(zero=False)),\n",
    "  y=alt.Y('child_host:N')\n",
    ")\n",
    "\n",
    "points = alt.Chart(temp).mark_point(filled=True, color='black').encode(\n",
    "  x=alt.X('persistence_time:Q', aggregate='mean'),\n",
    "  y=alt.Y('child_host:N'),\n",
    ")\n",
    "\n",
    "error = error_bars + points"
   ]
  },
  {
   "cell_type": "code",
   "execution_count": null,
   "id": "88e0dc11",
   "metadata": {},
   "outputs": [],
   "source": [
    "summary_persist = alt.vconcat(chart, error)"
   ]
  },
  {
   "cell_type": "code",
   "execution_count": null,
   "id": "3c713ebb",
   "metadata": {},
   "outputs": [],
   "source": [
    "summary_persist"
   ]
  },
  {
   "cell_type": "code",
   "execution_count": null,
   "id": "e9df21ac",
   "metadata": {},
   "outputs": [],
   "source": [
    "summary_persist.save(\"summary_persist.png\")"
   ]
  },
  {
   "cell_type": "markdown",
   "id": "c8e6ff69",
   "metadata": {},
   "source": [
    "## based on conversations with PHSKC, what happens if you have an ancestral infection in N/S and then it jumps to the other, what does that look like? "
   ]
  },
  {
   "cell_type": "code",
   "execution_count": null,
   "id": "2dcf8eff",
   "metadata": {},
   "outputs": [],
   "source": []
  },
  {
   "cell_type": "code",
   "execution_count": null,
   "id": "279ee092",
   "metadata": {},
   "outputs": [],
   "source": [
    "jump_df = persistence_df[(persistence_df['parent_host'] == \"South_King_County\") | (persistence_df['parent_host'] == \"North_King_County\") ]"
   ]
  },
  {
   "cell_type": "code",
   "execution_count": null,
   "id": "b6879b0e",
   "metadata": {},
   "outputs": [],
   "source": [
    "jump_df"
   ]
  },
  {
   "cell_type": "code",
   "execution_count": null,
   "id": "a8371427",
   "metadata": {},
   "outputs": [],
   "source": [
    "stripplot =  alt.Chart(jump_df, width = 750).mark_circle(size=8, opacity = 0.2).encode(\n",
    "    x=alt.X('year-month:O'),\n",
    "    y=alt.Y('persistence_time:Q'),\n",
    "    color=alt.Color('type:N'))\n",
    "\n",
    "lineplot =  alt.Chart(jump_df, width = 750).mark_line(interpolate='monotone').encode(\n",
    "    x=alt.X('year-month:O'),\n",
    "    y=alt.Y('mean(persistence_time)'),\n",
    "    color=alt.Color('type:N'))\n",
    "\n",
    "band = alt.Chart(jump_df).mark_errorband(extent='ci', interpolate='monotone').encode(\n",
    "    x=alt.X('year-month:O'),\n",
    "    y=alt.Y('persistence_time:Q'), \n",
    "    color =alt.Color('type:N')\n",
    "    \n",
    ")"
   ]
  },
  {
   "cell_type": "code",
   "execution_count": null,
   "id": "398daa89",
   "metadata": {},
   "outputs": [],
   "source": [
    "lineplot + band "
   ]
  },
  {
   "cell_type": "code",
   "execution_count": null,
   "id": "8878e560",
   "metadata": {},
   "outputs": [],
   "source": [
    "error_bars = alt.Chart(jump_df).mark_errorbar(extent='ci').encode(\n",
    "  x=alt.X('persistence_time:Q', scale=alt.Scale(zero=False)),\n",
    "  y=alt.Y('type:N')\n",
    ")\n",
    "\n",
    "points = alt.Chart(jump_df).mark_point(filled=True, color='black').encode(\n",
    "  x=alt.X('persistence_time:Q', aggregate='mean'),\n",
    "  y=alt.Y('type:N'),\n",
    ")\n",
    "\n",
    "error_bars + points"
   ]
  },
  {
   "cell_type": "code",
   "execution_count": null,
   "id": "7918688a",
   "metadata": {},
   "outputs": [],
   "source": [
    "short_jump =  jump_df[jump_df['year-month'] > \"2020-01\"]"
   ]
  },
  {
   "cell_type": "code",
   "execution_count": null,
   "id": "eb3ae5dc",
   "metadata": {},
   "outputs": [],
   "source": [
    "\n",
    "\n",
    "lineplot =  alt.Chart(short_jump, width = 750).mark_line(interpolate='monotone').encode(\n",
    "    x=alt.X('year-month:T'),\n",
    "    y=alt.Y('mean(persistence_time)'),\n",
    "    color=alt.Color('type:N')).properties(\n",
    "    width=850,\n",
    "    height=300\n",
    ")\n",
    "\n",
    "band = alt.Chart(short_jump).mark_errorband(extent='ci', interpolate='monotone').encode(\n",
    "    x=alt.X('year-month:T'),\n",
    "    y=alt.Y('persistence_time:Q'), \n",
    "    color =alt.Color('type:N')\n",
    "    \n",
    ").properties(\n",
    "    width=800,\n",
    "    height=300\n",
    ")"
   ]
  },
  {
   "cell_type": "code",
   "execution_count": null,
   "id": "b0b8a3b5",
   "metadata": {},
   "outputs": [],
   "source": [
    "lineplot + band + rule + text"
   ]
  },
  {
   "cell_type": "code",
   "execution_count": null,
   "id": "f225b214",
   "metadata": {},
   "outputs": [],
   "source": [
    "chart = alt.Chart(short_jump).mark_bar().encode(\n",
    "    alt.X('year-month:O'), \n",
    "    alt.Color('type:N'),\n",
    "    alt.Y(\"mean(persistence_time)\", stack=\"normalize\", title='Mig_per_lineage'))\n",
    "\n"
   ]
  },
  {
   "cell_type": "code",
   "execution_count": null,
   "id": "51179f75",
   "metadata": {},
   "outputs": [],
   "source": [
    "chart"
   ]
  },
  {
   "cell_type": "code",
   "execution_count": null,
   "id": "754a11fb",
   "metadata": {},
   "outputs": [],
   "source": [
    "error_bars = alt.Chart(short_jump).mark_errorbar(extent='ci').encode(\n",
    "  x=alt.X('persistence_time:Q', scale=alt.Scale(zero=False)),\n",
    "  y=alt.Y('type:N')\n",
    ")\n",
    "\n",
    "points = alt.Chart(short_jump).mark_point(filled=True, color='black').encode(\n",
    "  x=alt.X('persistence_time:Q', aggregate='mean'),\n",
    "  y=alt.Y('type:N'),\n",
    ")\n",
    "\n",
    "error_direct = error_bars + points"
   ]
  },
  {
   "cell_type": "code",
   "execution_count": null,
   "id": "d2924ba0",
   "metadata": {},
   "outputs": [],
   "source": [
    "summary_direct = alt.vconcat(chart, error_direct)"
   ]
  },
  {
   "cell_type": "code",
   "execution_count": null,
   "id": "5370b104",
   "metadata": {},
   "outputs": [],
   "source": [
    "summary_direct"
   ]
  },
  {
   "cell_type": "code",
   "execution_count": null,
   "id": "6f380610",
   "metadata": {},
   "outputs": [],
   "source": [
    "summary_direct.save(\"summary_direct.png\")"
   ]
  },
  {
   "cell_type": "code",
   "execution_count": null,
   "id": "b302a5dc",
   "metadata": {},
   "outputs": [],
   "source": [
    "#highlighting important NPIs in WA\n",
    "data = {'date': [ \"2020-03-23\", \"2020-06-01\", \"2020-11-18\", \"2021-02-14\"], 'event':[ \"Stay at home\", \"Stay at home lifted\", \"Closing restaurants\", \"Reopening restaurants\"]}\n",
    "\n",
    "npidf = pd.DataFrame(data)\n",
    "npidf.date = pd.to_datetime(npidf.date)\n",
    "\n",
    "rule = alt.Chart(npidf).mark_rule(\n",
    "    color=\"black\",\n",
    "    strokeWidth=2, \n",
    "    opacity = 0.3\n",
    ").encode(\n",
    "    alt.X('date:T', axis=alt.Axis(title=None))\n",
    ").properties(\n",
    "    width=800,\n",
    "    height=300\n",
    ")\n",
    "\n",
    "text = alt.Chart(npidf).mark_text(\n",
    "    align='left',\n",
    "    baseline='middle',\n",
    "    dx=2,\n",
    "    dy=-135,\n",
    "    size=11\n",
    ").encode(\n",
    "    alt.X('date:T',axis=alt.Axis(title=None)),\n",
    "    text='event',\n",
    "    color=alt.value('#000000')\n",
    ").properties(\n",
    "    width=800,\n",
    "    height=300\n",
    ")"
   ]
  },
  {
   "cell_type": "code",
   "execution_count": null,
   "id": "d06466ce",
   "metadata": {},
   "outputs": [],
   "source": []
  },
  {
   "cell_type": "code",
   "execution_count": null,
   "id": "58d30eff",
   "metadata": {},
   "outputs": [],
   "source": []
  },
  {
   "cell_type": "code",
   "execution_count": null,
   "id": "7712dbb5",
   "metadata": {},
   "outputs": [],
   "source": []
  }
 ],
 "metadata": {
  "kernelspec": {
   "display_name": "Python (nextstrain)",
   "language": "python",
   "name": "nextstrain"
  },
  "language_info": {
   "codemirror_mode": {
    "name": "ipython",
    "version": 3
   },
   "file_extension": ".py",
   "mimetype": "text/x-python",
   "name": "python",
   "nbconvert_exporter": "python",
   "pygments_lexer": "ipython3",
   "version": "3.6.10"
  }
 },
 "nbformat": 4,
 "nbformat_minor": 5
}
