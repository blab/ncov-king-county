{
 "cells": [
  {
   "cell_type": "markdown",
   "id": "c321fbd9",
   "metadata": {},
   "source": [
    "## in order to have a subsampling scheme weighted by hospitalizations, we need to first wrangle the data into a weekly time series that we can feed into MATLAB"
   ]
  },
  {
   "cell_type": "code",
   "execution_count": null,
   "id": "cf5e670b",
   "metadata": {},
   "outputs": [],
   "source": [
    "import pandas as pd\n",
    "import numpy as np\n",
    "from datetime import datetime as dt\n"
   ]
  },
  {
   "cell_type": "code",
   "execution_count": null,
   "id": "a8db965b",
   "metadata": {},
   "outputs": [],
   "source": [
    "def convert_format(number):\n",
    "   # date = dt.strptime(number, '%m/%d/%Y')\n",
    "    date = dt.strftime(number, '%V')\n",
    "    return date"
   ]
  },
  {
   "cell_type": "code",
   "execution_count": null,
   "id": "9936f5e4",
   "metadata": {},
   "outputs": [],
   "source": [
    "def take_first(array_like):\n",
    "    return array_like[0]"
   ]
  },
  {
   "cell_type": "code",
   "execution_count": null,
   "id": "f3eb9e4f",
   "metadata": {},
   "outputs": [],
   "source": [
    "#need to not hard code this.\n",
    "hosps = 'kc_hospitalizations.csv'#data taken from https://kingcounty.gov/depts/health/covid-19/data/daily-summary.aspx"
   ]
  },
  {
   "cell_type": "code",
   "execution_count": null,
   "id": "0d5ad84a",
   "metadata": {},
   "outputs": [],
   "source": [
    "hosp_df = pd.read_csv(hosps, parse_dates = [2])"
   ]
  },
  {
   "cell_type": "code",
   "execution_count": null,
   "id": "25a5b458",
   "metadata": {},
   "outputs": [],
   "source": [
    "hosp_df"
   ]
  },
  {
   "cell_type": "code",
   "execution_count": null,
   "id": "12cf464b",
   "metadata": {},
   "outputs": [],
   "source": [
    "hosp_df.date.to_numpy()"
   ]
  },
  {
   "cell_type": "code",
   "execution_count": null,
   "id": "56dc5050",
   "metadata": {},
   "outputs": [],
   "source": [
    "hosp_df = hosp_df.set_index('date')"
   ]
  },
  {
   "cell_type": "code",
   "execution_count": null,
   "id": "2dee6dc0",
   "metadata": {},
   "outputs": [],
   "source": [
    "hosp_df = hosp_df.resample('W-Sat').agg({'Hospitalizations': \"sum\", \n",
    "                               })"
   ]
  },
  {
   "cell_type": "code",
   "execution_count": null,
   "id": "39dd04df",
   "metadata": {},
   "outputs": [],
   "source": [
    "hosp_df.reset_index().date.to_numpy()"
   ]
  },
  {
   "cell_type": "code",
   "execution_count": null,
   "id": "0c07cf55",
   "metadata": {},
   "outputs": [],
   "source": [
    "hosp_df.to_csv(\"kc_hosp_weekly.csv\")"
   ]
  }
 ],
 "metadata": {
  "kernelspec": {
   "display_name": "Python 3 (ipykernel)",
   "language": "python",
   "name": "python3"
  },
  "language_info": {
   "codemirror_mode": {
    "name": "ipython",
    "version": 3
   },
   "file_extension": ".py",
   "mimetype": "text/x-python",
   "name": "python",
   "nbconvert_exporter": "python",
   "pygments_lexer": "ipython3",
   "version": "3.8.13"
  }
 },
 "nbformat": 4,
 "nbformat_minor": 5
}
