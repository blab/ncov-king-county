{
 "cells": [
  {
   "cell_type": "markdown",
   "id": "655b3ea0",
   "metadata": {},
   "source": [
    "## this script is similar to the hosp and cases scripts where they prep mobility data to feed into mascot glm as migration predictors"
   ]
  },
  {
   "cell_type": "code",
   "execution_count": 1,
   "id": "a1a5eeab",
   "metadata": {},
   "outputs": [],
   "source": [
    "import pandas as pd\n",
    "import numpy as np\n",
    "import altair as alt"
   ]
  },
  {
   "cell_type": "code",
   "execution_count": 4,
   "id": "4e403cf1",
   "metadata": {},
   "outputs": [],
   "source": [
    "mob = '/Users/mparedes/Desktop/gitrepos/ncov-king-county/analysis/data-files/movement_within_king_co.tsv'"
   ]
  },
  {
   "cell_type": "code",
   "execution_count": 5,
   "id": "50eeedd7",
   "metadata": {},
   "outputs": [],
   "source": [
    "dfnew = pd.read_csv(mob, sep='\\t', parse_dates = [1])"
   ]
  },
  {
   "cell_type": "code",
   "execution_count": 6,
   "id": "159eee63",
   "metadata": {},
   "outputs": [
    {
     "data": {
      "text/html": [
       "<div>\n",
       "<style scoped>\n",
       "    .dataframe tbody tr th:only-of-type {\n",
       "        vertical-align: middle;\n",
       "    }\n",
       "\n",
       "    .dataframe tbody tr th {\n",
       "        vertical-align: top;\n",
       "    }\n",
       "\n",
       "    .dataframe thead th {\n",
       "        text-align: right;\n",
       "    }\n",
       "</style>\n",
       "<table border=\"1\" class=\"dataframe\">\n",
       "  <thead>\n",
       "    <tr style=\"text-align: right;\">\n",
       "      <th></th>\n",
       "      <th>start_date</th>\n",
       "      <th>poi_geo</th>\n",
       "      <th>visitor_geo</th>\n",
       "      <th>sum_visits</th>\n",
       "      <th>category</th>\n",
       "    </tr>\n",
       "  </thead>\n",
       "  <tbody>\n",
       "    <tr>\n",
       "      <th>0</th>\n",
       "      <td>2018-01-01</td>\n",
       "      <td>North King</td>\n",
       "      <td>North King</td>\n",
       "      <td>6.618740e+06</td>\n",
       "      <td>within North</td>\n",
       "    </tr>\n",
       "    <tr>\n",
       "      <th>1</th>\n",
       "      <td>2018-01-01</td>\n",
       "      <td>North King</td>\n",
       "      <td>South King</td>\n",
       "      <td>7.810967e+05</td>\n",
       "      <td>South to North</td>\n",
       "    </tr>\n",
       "    <tr>\n",
       "      <th>2</th>\n",
       "      <td>2018-01-01</td>\n",
       "      <td>South King</td>\n",
       "      <td>North King</td>\n",
       "      <td>5.942274e+05</td>\n",
       "      <td>North to South</td>\n",
       "    </tr>\n",
       "    <tr>\n",
       "      <th>3</th>\n",
       "      <td>2018-01-01</td>\n",
       "      <td>South King</td>\n",
       "      <td>South King</td>\n",
       "      <td>2.783091e+06</td>\n",
       "      <td>within South</td>\n",
       "    </tr>\n",
       "    <tr>\n",
       "      <th>4</th>\n",
       "      <td>2018-01-08</td>\n",
       "      <td>North King</td>\n",
       "      <td>North King</td>\n",
       "      <td>7.403306e+06</td>\n",
       "      <td>within North</td>\n",
       "    </tr>\n",
       "    <tr>\n",
       "      <th>...</th>\n",
       "      <td>...</td>\n",
       "      <td>...</td>\n",
       "      <td>...</td>\n",
       "      <td>...</td>\n",
       "      <td>...</td>\n",
       "    </tr>\n",
       "    <tr>\n",
       "      <th>883</th>\n",
       "      <td>2022-03-21</td>\n",
       "      <td>South King</td>\n",
       "      <td>South King</td>\n",
       "      <td>3.935360e+06</td>\n",
       "      <td>within South</td>\n",
       "    </tr>\n",
       "    <tr>\n",
       "      <th>884</th>\n",
       "      <td>2022-03-28</td>\n",
       "      <td>North King</td>\n",
       "      <td>North King</td>\n",
       "      <td>5.244599e+06</td>\n",
       "      <td>within North</td>\n",
       "    </tr>\n",
       "    <tr>\n",
       "      <th>885</th>\n",
       "      <td>2022-03-28</td>\n",
       "      <td>North King</td>\n",
       "      <td>South King</td>\n",
       "      <td>8.432897e+05</td>\n",
       "      <td>South to North</td>\n",
       "    </tr>\n",
       "    <tr>\n",
       "      <th>886</th>\n",
       "      <td>2022-03-28</td>\n",
       "      <td>South King</td>\n",
       "      <td>North King</td>\n",
       "      <td>7.431200e+05</td>\n",
       "      <td>North to South</td>\n",
       "    </tr>\n",
       "    <tr>\n",
       "      <th>887</th>\n",
       "      <td>2022-03-28</td>\n",
       "      <td>South King</td>\n",
       "      <td>South King</td>\n",
       "      <td>4.037769e+06</td>\n",
       "      <td>within South</td>\n",
       "    </tr>\n",
       "  </tbody>\n",
       "</table>\n",
       "<p>888 rows × 5 columns</p>\n",
       "</div>"
      ],
      "text/plain": [
       "     start_date     poi_geo visitor_geo    sum_visits        category\n",
       "0    2018-01-01  North King  North King  6.618740e+06    within North\n",
       "1    2018-01-01  North King  South King  7.810967e+05  South to North\n",
       "2    2018-01-01  South King  North King  5.942274e+05  North to South\n",
       "3    2018-01-01  South King  South King  2.783091e+06    within South\n",
       "4    2018-01-08  North King  North King  7.403306e+06    within North\n",
       "..          ...         ...         ...           ...             ...\n",
       "883  2022-03-21  South King  South King  3.935360e+06    within South\n",
       "884  2022-03-28  North King  North King  5.244599e+06    within North\n",
       "885  2022-03-28  North King  South King  8.432897e+05  South to North\n",
       "886  2022-03-28  South King  North King  7.431200e+05  North to South\n",
       "887  2022-03-28  South King  South King  4.037769e+06    within South\n",
       "\n",
       "[888 rows x 5 columns]"
      ]
     },
     "execution_count": 6,
     "metadata": {},
     "output_type": "execute_result"
    }
   ],
   "source": [
    "dfnew"
   ]
  },
  {
   "cell_type": "code",
   "execution_count": 7,
   "id": "c5041894",
   "metadata": {},
   "outputs": [],
   "source": [
    "mig_df = dfnew[(dfnew.category == \"North to South\") | (dfnew.category == \"South to North\")]\n",
    "mig_df = mig_df[(mig_df.start_date > \"2019-02-03\") & (mig_df.start_date <= \"2022-03-15\")]"
   ]
  },
  {
   "cell_type": "code",
   "execution_count": 8,
   "id": "daa3dcee",
   "metadata": {},
   "outputs": [],
   "source": [
    "agg_mig = mig_df.groupby(\"start_date\")[\"sum_visits\"].sum().reset_index().sort_values('start_date')\n",
    "agg_mig.index = pd.to_datetime(agg_mig['start_date'])"
   ]
  },
  {
   "cell_type": "code",
   "execution_count": 9,
   "id": "2ff07530",
   "metadata": {},
   "outputs": [
    {
     "data": {
      "text/html": [
       "<div>\n",
       "<style scoped>\n",
       "    .dataframe tbody tr th:only-of-type {\n",
       "        vertical-align: middle;\n",
       "    }\n",
       "\n",
       "    .dataframe tbody tr th {\n",
       "        vertical-align: top;\n",
       "    }\n",
       "\n",
       "    .dataframe thead th {\n",
       "        text-align: right;\n",
       "    }\n",
       "</style>\n",
       "<table border=\"1\" class=\"dataframe\">\n",
       "  <thead>\n",
       "    <tr style=\"text-align: right;\">\n",
       "      <th></th>\n",
       "      <th>start_date</th>\n",
       "      <th>sum_visits</th>\n",
       "    </tr>\n",
       "    <tr>\n",
       "      <th>start_date</th>\n",
       "      <th></th>\n",
       "      <th></th>\n",
       "    </tr>\n",
       "  </thead>\n",
       "  <tbody>\n",
       "    <tr>\n",
       "      <th>2019-02-04</th>\n",
       "      <td>2019-02-04</td>\n",
       "      <td>1.083670e+06</td>\n",
       "    </tr>\n",
       "    <tr>\n",
       "      <th>2019-02-11</th>\n",
       "      <td>2019-02-11</td>\n",
       "      <td>1.282068e+06</td>\n",
       "    </tr>\n",
       "    <tr>\n",
       "      <th>2019-02-18</th>\n",
       "      <td>2019-02-18</td>\n",
       "      <td>1.535423e+06</td>\n",
       "    </tr>\n",
       "    <tr>\n",
       "      <th>2019-02-25</th>\n",
       "      <td>2019-02-25</td>\n",
       "      <td>1.834778e+06</td>\n",
       "    </tr>\n",
       "    <tr>\n",
       "      <th>2019-03-04</th>\n",
       "      <td>2019-03-04</td>\n",
       "      <td>1.503784e+06</td>\n",
       "    </tr>\n",
       "    <tr>\n",
       "      <th>...</th>\n",
       "      <td>...</td>\n",
       "      <td>...</td>\n",
       "    </tr>\n",
       "    <tr>\n",
       "      <th>2022-02-14</th>\n",
       "      <td>2022-02-14</td>\n",
       "      <td>1.206879e+06</td>\n",
       "    </tr>\n",
       "    <tr>\n",
       "      <th>2022-02-21</th>\n",
       "      <td>2022-02-21</td>\n",
       "      <td>1.429560e+06</td>\n",
       "    </tr>\n",
       "    <tr>\n",
       "      <th>2022-02-28</th>\n",
       "      <td>2022-02-28</td>\n",
       "      <td>1.489842e+06</td>\n",
       "    </tr>\n",
       "    <tr>\n",
       "      <th>2022-03-07</th>\n",
       "      <td>2022-03-07</td>\n",
       "      <td>1.397995e+06</td>\n",
       "    </tr>\n",
       "    <tr>\n",
       "      <th>2022-03-14</th>\n",
       "      <td>2022-03-14</td>\n",
       "      <td>1.426786e+06</td>\n",
       "    </tr>\n",
       "  </tbody>\n",
       "</table>\n",
       "<p>163 rows × 2 columns</p>\n",
       "</div>"
      ],
      "text/plain": [
       "            start_date    sum_visits\n",
       "start_date                          \n",
       "2019-02-04  2019-02-04  1.083670e+06\n",
       "2019-02-11  2019-02-11  1.282068e+06\n",
       "2019-02-18  2019-02-18  1.535423e+06\n",
       "2019-02-25  2019-02-25  1.834778e+06\n",
       "2019-03-04  2019-03-04  1.503784e+06\n",
       "...                ...           ...\n",
       "2022-02-14  2022-02-14  1.206879e+06\n",
       "2022-02-21  2022-02-21  1.429560e+06\n",
       "2022-02-28  2022-02-28  1.489842e+06\n",
       "2022-03-07  2022-03-07  1.397995e+06\n",
       "2022-03-14  2022-03-14  1.426786e+06\n",
       "\n",
       "[163 rows x 2 columns]"
      ]
     },
     "execution_count": 9,
     "metadata": {},
     "output_type": "execute_result"
    }
   ],
   "source": [
    "agg_mig"
   ]
  },
  {
   "cell_type": "code",
   "execution_count": null,
   "id": "367d599c",
   "metadata": {},
   "outputs": [],
   "source": [
    "first_date = pd.Timestamp('2019-12-28')\n",
    "end_date = pd.Timestamp('2022-03-05')\n",
    "dates = pd.date_range(first_date, end_date, freq='D')\n",
    "dates.name = 'date'"
   ]
  },
  {
   "cell_type": "code",
   "execution_count": null,
   "id": "010504c9",
   "metadata": {},
   "outputs": [],
   "source": [
    "test_filled = agg_mig.reindex(dates, method='bfill')"
   ]
  },
  {
   "cell_type": "code",
   "execution_count": null,
   "id": "da2db7fa",
   "metadata": {},
   "outputs": [],
   "source": [
    "test_filled"
   ]
  },
  {
   "cell_type": "code",
   "execution_count": null,
   "id": "f7ccb0ad",
   "metadata": {},
   "outputs": [],
   "source": [
    "newdf = pd.DataFrame(np.repeat(test_filled.sum_visits, 2), columns=test_filled.columns)"
   ]
  },
  {
   "cell_type": "code",
   "execution_count": null,
   "id": "16d19a2c",
   "metadata": {},
   "outputs": [],
   "source": [
    "newdf = newdf.reset_index()\n"
   ]
  },
  {
   "cell_type": "code",
   "execution_count": null,
   "id": "50c801ea",
   "metadata": {},
   "outputs": [],
   "source": [
    "df_np = newdf['sum_visits'].to_numpy()"
   ]
  },
  {
   "cell_type": "code",
   "execution_count": null,
   "id": "9f37b448",
   "metadata": {},
   "outputs": [],
   "source": [
    "df_np = df_np.flatten()"
   ]
  },
  {
   "cell_type": "code",
   "execution_count": null,
   "id": "5804e13a",
   "metadata": {},
   "outputs": [],
   "source": [
    "blah = df_np.tolist()\n",
    "blah.reverse()"
   ]
  },
  {
   "cell_type": "code",
   "execution_count": null,
   "id": "a1339b6b",
   "metadata": {},
   "outputs": [],
   "source": [
    "len(blah)"
   ]
  },
  {
   "cell_type": "code",
   "execution_count": null,
   "id": "2f50bacd",
   "metadata": {},
   "outputs": [],
   "source": [
    "print(*blah, sep=',')"
   ]
  }
 ],
 "metadata": {
  "kernelspec": {
   "display_name": "Python 3 (ipykernel)",
   "language": "python",
   "name": "python3"
  },
  "language_info": {
   "codemirror_mode": {
    "name": "ipython",
    "version": 3
   },
   "file_extension": ".py",
   "mimetype": "text/x-python",
   "name": "python",
   "nbconvert_exporter": "python",
   "pygments_lexer": "ipython3",
   "version": "3.8.13"
  }
 },
 "nbformat": 4,
 "nbformat_minor": 5
}
