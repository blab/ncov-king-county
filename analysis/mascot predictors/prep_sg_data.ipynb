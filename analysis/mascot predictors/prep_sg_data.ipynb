{
 "cells": [
  {
   "cell_type": "markdown",
   "id": "655b3ea0",
   "metadata": {},
   "source": [
    "## this script is similar to the hosp and cases scripts where they prep mobility data to feed into mascot glm as migration predictors"
   ]
  },
  {
   "cell_type": "code",
   "execution_count": null,
   "id": "a1a5eeab",
   "metadata": {},
   "outputs": [],
   "source": [
    "import pandas as pd\n",
    "import numpy as np\n",
    "import altair as alt"
   ]
  },
  {
   "cell_type": "code",
   "execution_count": null,
   "id": "4e403cf1",
   "metadata": {},
   "outputs": [],
   "source": [
    "mob = '/Users/miguelparedes/Desktop/movement_within_king_co.tsv'"
   ]
  },
  {
   "cell_type": "code",
   "execution_count": null,
   "id": "50eeedd7",
   "metadata": {},
   "outputs": [],
   "source": [
    "dfnew = pd.read_csv(mob, sep='\\t', parse_dates = [1])"
   ]
  },
  {
   "cell_type": "code",
   "execution_count": null,
   "id": "159eee63",
   "metadata": {},
   "outputs": [],
   "source": [
    "dfnew"
   ]
  },
  {
   "cell_type": "code",
   "execution_count": null,
   "id": "c5041894",
   "metadata": {},
   "outputs": [],
   "source": [
    "mig_df = dfnew[(dfnew.category == \"North to South\") | (dfnew.category == \"South to North\")]\n",
    "mig_df = mig_df[(mig_df.start_date > \"2019-02-03\") & (mig_df.start_date <= \"2022-03-15\")]"
   ]
  },
  {
   "cell_type": "code",
   "execution_count": null,
   "id": "daa3dcee",
   "metadata": {},
   "outputs": [],
   "source": [
    "agg_mig = mig_df.groupby(\"start_date\")[\"sum_visits\"].sum().reset_index().sort_values('start_date')\n",
    "agg_mig.index = pd.to_datetime(agg_mig['start_date'])"
   ]
  },
  {
   "cell_type": "code",
   "execution_count": null,
   "id": "2ff07530",
   "metadata": {},
   "outputs": [],
   "source": [
    "agg_mig"
   ]
  },
  {
   "cell_type": "code",
   "execution_count": null,
   "id": "367d599c",
   "metadata": {},
   "outputs": [],
   "source": [
    "first_date = pd.Timestamp('2019-12-28')\n",
    "end_date = pd.Timestamp('2022-03-05')\n",
    "dates = pd.date_range(first_date, end_date, freq='D')\n",
    "dates.name = 'date'"
   ]
  },
  {
   "cell_type": "code",
   "execution_count": null,
   "id": "010504c9",
   "metadata": {},
   "outputs": [],
   "source": [
    "test_filled = agg_mig.reindex(dates, method='bfill')"
   ]
  },
  {
   "cell_type": "code",
   "execution_count": null,
   "id": "da2db7fa",
   "metadata": {},
   "outputs": [],
   "source": [
    "test_filled"
   ]
  },
  {
   "cell_type": "code",
   "execution_count": null,
   "id": "f7ccb0ad",
   "metadata": {},
   "outputs": [],
   "source": [
    "newdf = pd.DataFrame(np.repeat(test_filled.sum_visits, 2), columns=test_filled.columns)"
   ]
  },
  {
   "cell_type": "code",
   "execution_count": null,
   "id": "16d19a2c",
   "metadata": {},
   "outputs": [],
   "source": [
    "newdf = newdf.reset_index()\n"
   ]
  },
  {
   "cell_type": "code",
   "execution_count": null,
   "id": "50c801ea",
   "metadata": {},
   "outputs": [],
   "source": [
    "df_np = newdf['sum_visits'].to_numpy()"
   ]
  },
  {
   "cell_type": "code",
   "execution_count": null,
   "id": "9f37b448",
   "metadata": {},
   "outputs": [],
   "source": [
    "df_np = df_np.flatten()"
   ]
  },
  {
   "cell_type": "code",
   "execution_count": null,
   "id": "5804e13a",
   "metadata": {},
   "outputs": [],
   "source": [
    "blah = df_np.tolist()\n",
    "blah.reverse()"
   ]
  },
  {
   "cell_type": "code",
   "execution_count": null,
   "id": "a1339b6b",
   "metadata": {},
   "outputs": [],
   "source": [
    "len(blah)"
   ]
  },
  {
   "cell_type": "code",
   "execution_count": null,
   "id": "2f50bacd",
   "metadata": {},
   "outputs": [],
   "source": [
    "print(*blah, sep=',')"
   ]
  }
 ],
 "metadata": {
  "kernelspec": {
   "display_name": "Python 3 (ipykernel)",
   "language": "python",
   "name": "python3"
  },
  "language_info": {
   "codemirror_mode": {
    "name": "ipython",
    "version": 3
   },
   "file_extension": ".py",
   "mimetype": "text/x-python",
   "name": "python",
   "nbconvert_exporter": "python",
   "pygments_lexer": "ipython3",
   "version": "3.8.13"
  }
 },
 "nbformat": 4,
 "nbformat_minor": 5
}
