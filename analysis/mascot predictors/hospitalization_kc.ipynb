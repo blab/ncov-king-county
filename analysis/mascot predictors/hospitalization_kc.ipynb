{
 "cells": [
  {
   "cell_type": "markdown",
   "id": "58806694",
   "metadata": {},
   "source": [
    "## this script takes in public time series data from PHSKC on covid hosps by zipcode and formats it to feed into MASCOT GLM"
   ]
  },
  {
   "cell_type": "code",
   "execution_count": null,
   "id": "0737a460",
   "metadata": {},
   "outputs": [],
   "source": [
    "import pandas as pd\n",
    "import numpy as np\n",
    "import altair as alt"
   ]
  },
  {
   "cell_type": "code",
   "execution_count": null,
   "id": "b0f9e82a",
   "metadata": {},
   "outputs": [],
   "source": [
    "kc_data_new = '/Users/miguelparedes/Downloads/ZIP_daily-mar-28.csv'#data taken from https://kingcounty.gov/depts/health/covid-19/data/daily-summary.aspx"
   ]
  },
  {
   "cell_type": "code",
   "execution_count": null,
   "id": "2bf1d8e6",
   "metadata": {},
   "outputs": [],
   "source": [
    "#read in data\n",
    "dfnew = pd.read_csv(kc_data_new, parse_dates = [2])\n",
    "dfnew['Hospitalizations'] = dfnew['Hospitalizations'].astype('int')\n",
    "dfnew.Hospitalization_Rate[dfnew[\"Hospitalization_Rate\"] == \"#NUM!\"] = 0\n",
    "dfnew['Hospitalization_Rate'] = dfnew['Hospitalization_Rate'].astype('float')"
   ]
  },
  {
   "cell_type": "code",
   "execution_count": null,
   "id": "b365bd00",
   "metadata": {},
   "outputs": [],
   "source": [
    "#assigns PUMA based on zipcode - this was provided courtesy of cooper marshall of the Seattle Flu Study\n",
    "dfnew['PUMA'] = np.nan\n",
    "for index, rows in dfnew.iterrows():\n",
    "    if rows.ZIP in (98103, 98107, 98117):\n",
    "        dfnew.loc[index, 'PUMA'] = \"11601\" \n",
    "    elif rows.ZIP in (98105, 98115, 98125, 98195):\n",
    "        dfnew.loc[index, 'PUMA'] = \"11602\" \n",
    "    elif rows.ZIP in (98101, 98102, 98104, 98109, 98119, 98121, 98154, 98164, 98199):\n",
    "        dfnew.loc[index, 'PUMA'] = \"11603\" \n",
    "    elif rows.ZIP in (98112, 98118, 98122, 98144):\n",
    "        dfnew.loc[index, 'PUMA'] = \"11604\" \n",
    "    elif rows.ZIP in (98106, 98108, 98116, 98126, 98134, 98136):\n",
    "        dfnew.loc[index, 'PUMA'] = \"11605\" \n",
    "    elif rows.ZIP in (98133, 98155, 98177, 98011, 98028):\n",
    "        dfnew.loc[index, 'PUMA'] = \"11606\" \n",
    "    elif rows.ZIP in (98033, 98034, 98052):\n",
    "        dfnew.loc[index, 'PUMA'] = \"11607\" \n",
    "    elif rows.ZIP in (98004, 98005, 98006, 98007, 98008, 98039):\n",
    "        dfnew.loc[index, 'PUMA'] = \"11608\" \n",
    "    elif rows.ZIP in (98040, 98029, 98074, 98075):\n",
    "        dfnew.loc[index, 'PUMA'] = \"11609\" \n",
    "    elif rows.ZIP in (98055, 98057, 98056, 98178):\n",
    "        dfnew.loc[index, 'PUMA'] = \"11610\" \n",
    "    elif rows.ZIP in (98146, 98148, 98166, 98168, 98188):\n",
    "        dfnew.loc[index, 'PUMA'] = \"11611\" \n",
    "    elif rows.ZIP in (98003, 98023, 98198, 98070):\n",
    "        dfnew.loc[index, 'PUMA'] = \"11612\" \n",
    "    elif rows.ZIP in (98030, 98031, 98032, 98092):\n",
    "        dfnew.loc[index, 'PUMA'] = \"11613\" \n",
    "    elif rows.ZIP in (98001, 98002, 98047):\n",
    "        dfnew.loc[index, 'PUMA'] = \"11614\" \n",
    "    elif rows.ZIP in (98010, 98022, 98038, 98051, 98027, 98042, 98059, 98058):\n",
    "        dfnew.loc[index, 'PUMA'] = \"11615\" \n",
    "    elif rows.ZIP in (98045, 98065, 98014, 98077, 98053, 98024, 98072, 98019):\n",
    "        dfnew.loc[index, 'PUMA'] = \"11616\" "
   ]
  },
  {
   "cell_type": "code",
   "execution_count": null,
   "id": "e8c8de0e",
   "metadata": {},
   "outputs": [],
   "source": [
    "#assigns puma to N vs S KC\n",
    "north_kc = [\"11601\", \"11602\", \"11603\", \"11604\", \"11605\", \"11606\", \"11607\", \"11608\", \"11609\",  \"11616\" ]\n",
    "south_kc = [ \"11610\", \"11611\", \"11612\", \"11613\", \"11614\", \"11615\"]\n",
    "dfnew['region'] = np.nan\n",
    "for index, row in dfnew.iterrows():\n",
    "    if row.PUMA in north_kc:\n",
    "        dfnew.loc[index, \"region\"] = \"nKC\"\n",
    "    elif row.PUMA in south_kc:\n",
    "        dfnew.loc[index, \"region\"] = \"sKC\"\n",
    "    "
   ]
  },
  {
   "cell_type": "code",
   "execution_count": null,
   "id": "8fa298d0",
   "metadata": {},
   "outputs": [],
   "source": [
    "#calculating a 14 day running average\n",
    "dfnew['Date'] = pd.to_datetime(dfnew['Admission_Date'])\n",
    "df_test = dfnew.groupby(['region', pd.Grouper(key='Date')])['Hospitalizations'].sum().rolling(14, min_periods=1).mean()\n",
    "df = df_test.reset_index()\n",
    "df"
   ]
  },
  {
   "cell_type": "code",
   "execution_count": null,
   "id": "98198625",
   "metadata": {},
   "outputs": [],
   "source": [
    "#this is exported for running Figure 1\n",
    "#df.to_csv(\"hosp_by_puma.csv\")"
   ]
  },
  {
   "cell_type": "code",
   "execution_count": null,
   "id": "d7f1daa7",
   "metadata": {},
   "outputs": [],
   "source": [
    "#MASCOT will log normalize these values and thus we can't have any 0 values. \n",
    "df.Hospitalizations[df.Hospitalizations <= 0] = 0.1"
   ]
  },
  {
   "cell_type": "code",
   "execution_count": null,
   "id": "524d7d1f",
   "metadata": {},
   "outputs": [],
   "source": [
    "nkc_df = df[df['region'] == \"nKC\"]\n",
    "skc_df = df[df['region'] == \"sKC\"]\n",
    "\n",
    "skc_df = skc_df[['region', 'Date', 'Hospitalizations']]\n",
    "nkc_df = nkc_df[['region', 'Date', 'Hospitalizations']]\n",
    "\n",
    "skc_df = skc_df.rename(columns = {\"Hospitalizations\": \"Hospitalizations_skc\"}).reset_index()\n",
    "nkc_df = nkc_df.rename(columns = {\"Hospitalizations\": \"Hospitalizations_nkc\"}).reset_index()\n",
    "\n",
    "nkc_df = nkc_df.drop([\"index\", \"region\"], axis = 1)\n",
    "skc_df = skc_df.drop([\"index\", \"region\"], axis = 1)\n"
   ]
  },
  {
   "cell_type": "code",
   "execution_count": null,
   "id": "7595d615",
   "metadata": {},
   "outputs": [],
   "source": [
    "merged_df = skc_df.merge(nkc_df, on = \"Date\")\n",
    "mar6_df = merged_df[merged_df[\"Date\"] <= \"2022-03-20\"]\n"
   ]
  },
  {
   "cell_type": "code",
   "execution_count": null,
   "id": "de70f421",
   "metadata": {},
   "outputs": [],
   "source": [
    "mar6_df.index = mar6_df.Date\n",
    "first_date = pd.Timestamp('2019-12-28')\n",
    "end_date = pd.Timestamp('2022-03-12')\n",
    "dates = pd.date_range(first_date, end_date, freq='D')\n",
    "dates.name = 'date'\n"
   ]
  },
  {
   "cell_type": "code",
   "execution_count": null,
   "id": "5e80f36f",
   "metadata": {},
   "outputs": [],
   "source": [
    "mar6_df = mar6_df.reindex(dates,  fill_value = 0.1) #this is done for dates before the pandemic"
   ]
  },
  {
   "cell_type": "code",
   "execution_count": null,
   "id": "305da79a",
   "metadata": {},
   "outputs": [],
   "source": [
    "mar6_df"
   ]
  },
  {
   "cell_type": "code",
   "execution_count": null,
   "id": "b17d0611",
   "metadata": {},
   "outputs": [],
   "source": [
    "df_np = mar6_df[['Hospitalizations_skc', 'Hospitalizations_nkc']].to_numpy()\n",
    "df_np = df_np.flatten()"
   ]
  },
  {
   "cell_type": "code",
   "execution_count": null,
   "id": "920bc3f3",
   "metadata": {},
   "outputs": [],
   "source": [
    "blah = df_np.tolist()\n",
    "blah.reverse()"
   ]
  },
  {
   "cell_type": "code",
   "execution_count": null,
   "id": "82ad4b90",
   "metadata": {},
   "outputs": [],
   "source": [
    "len(blah)\n"
   ]
  },
  {
   "cell_type": "code",
   "execution_count": null,
   "id": "42ffb5a8",
   "metadata": {},
   "outputs": [],
   "source": [
    "print(*blah, sep=' ')"
   ]
  },
  {
   "cell_type": "code",
   "execution_count": null,
   "id": "3dc1fded",
   "metadata": {},
   "outputs": [],
   "source": [
    "skc_df.to_csv('skc_weekly_hosp.tsv', sep=\"\\t\", index = False)\n",
    "nkc_df.to_csv('nkc_weekly_hosp.tsv', sep=\"\\t\", index = False)"
   ]
  },
  {
   "cell_type": "markdown",
   "id": "f0163ed1",
   "metadata": {},
   "source": [
    "## Here we make the binary date matrix for Nonpharmaseutical interventions that is fed into MASCOT GLM as a migration predictor"
   ]
  },
  {
   "cell_type": "code",
   "execution_count": null,
   "id": "2fe3a53e",
   "metadata": {},
   "outputs": [],
   "source": [
    "### making NPI prediciton matrix\n",
    "template_df = pd.DataFrame({\"Date\":pd.date_range(start = '2019-12-21', end = '2021-11-18', freq =\"D\")}) #using the earliest and latest seq date from matlab\n"
   ]
  },
  {
   "cell_type": "code",
   "execution_count": null,
   "id": "f7e9e1e3",
   "metadata": {},
   "outputs": [],
   "source": [
    "template_df['NPI'] = 0"
   ]
  },
  {
   "cell_type": "code",
   "execution_count": null,
   "id": "eab4746f",
   "metadata": {},
   "outputs": [],
   "source": [
    "template_df.NPI[(template_df.Date >= \"2020-03-23\") & (template_df[\"Date\"] <= '2020-07-03')] = 1.0\n",
    "#this is calculated from https://www.openicpsr.org/openicpsr/project/119446/version/V133/view?path=/openicpsr/119446/fcr:versions/V133/COVID-19-US-State-Policy-Database-master&type=folder\n",
    "#and taken from the start of stay-at-home orders to when restuarants opened back up for the first time\n",
    "\n",
    "template_df.NPI[(template_df.Date >= \"2020-11-18\") & (template_df[\"Date\"] <= '2021-02-14')] = 1.0\n",
    "#this is calculated from https://www.openicpsr.org/openicpsr/project/119446/version/V133/view?path=/openicpsr/119446/fcr:versions/V133/COVID-19-US-State-Policy-Database-master&type=folder\n",
    "#and taken from the start of lockdowns once again for the second wave in novemeber and stopping when bars and restuarants open up again\n"
   ]
  },
  {
   "cell_type": "code",
   "execution_count": null,
   "id": "508b7843",
   "metadata": {},
   "outputs": [],
   "source": [
    "template_df.NPI.value_counts()"
   ]
  },
  {
   "cell_type": "code",
   "execution_count": null,
   "id": "2c112ae3",
   "metadata": {},
   "outputs": [],
   "source": [
    "template_df['NPI_skc'] = np.nan\n",
    "template_df['NPI_skc'] = template_df[\"NPI\"]\n",
    "\n",
    "template_df['NPI_nkc'] = np.nan\n",
    "template_df['NPI_nkc'] = template_df[\"NPI\"]\n",
    "\n",
    "#template_df.to_csv(\"dates.csv\")\n",
    "\n",
    "template_df = template_df.drop(\"NPI\", axis = 1)"
   ]
  },
  {
   "cell_type": "code",
   "execution_count": null,
   "id": "076f3eca",
   "metadata": {},
   "outputs": [],
   "source": [
    "template_df"
   ]
  },
  {
   "cell_type": "code",
   "execution_count": null,
   "id": "6e6e9a64",
   "metadata": {},
   "outputs": [],
   "source": [
    "june15_mr = template_df[template_df[\"Date\"] <= \"2022-03-06\"]\n",
    "mr_np = template_df[['NPI_skc', 'NPI_nkc']].to_numpy()\n",
    "mr_np = mr_np.flatten()\n",
    "mr_list = mr_np.tolist()\n",
    "mr_list.reverse()\n",
    "print(*mr_list, sep=',')\n",
    "len(mr_list)"
   ]
  },
  {
   "cell_type": "code",
   "execution_count": null,
   "id": "79060cb8",
   "metadata": {},
   "outputs": [],
   "source": [
    "print(*mr_list, sep=' ')"
   ]
  }
 ],
 "metadata": {
  "kernelspec": {
   "display_name": "Python 3 (ipykernel)",
   "language": "python",
   "name": "python3"
  },
  "language_info": {
   "codemirror_mode": {
    "name": "ipython",
    "version": 3
   },
   "file_extension": ".py",
   "mimetype": "text/x-python",
   "name": "python",
   "nbconvert_exporter": "python",
   "pygments_lexer": "ipython3",
   "version": "3.8.13"
  }
 },
 "nbformat": 4,
 "nbformat_minor": 5
}
