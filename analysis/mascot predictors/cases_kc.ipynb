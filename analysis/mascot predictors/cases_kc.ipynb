{
 "cells": [
  {
   "cell_type": "markdown",
   "id": "b4628a10",
   "metadata": {},
   "source": [
    "## in this script we're aggregating cases from zipcode into PUMA and then into KC region to be prepped for MASCOT GLM"
   ]
  },
  {
   "cell_type": "code",
   "execution_count": null,
   "id": "05d536f4",
   "metadata": {},
   "outputs": [],
   "source": [
    "import pandas as pd\n",
    "import xlrd\n",
    "import numpy as np"
   ]
  },
  {
   "cell_type": "code",
   "execution_count": null,
   "id": "100dec25",
   "metadata": {},
   "outputs": [],
   "source": [
    "kc_data = 'kc_cases.csv' #data taken from https://kingcounty.gov/depts/health/covid-19/data/daily-summary.aspx"
   ]
  },
  {
   "cell_type": "code",
   "execution_count": null,
   "id": "0babc7d3",
   "metadata": {},
   "outputs": [],
   "source": [
    "dfnew = pd.read_csv(kc_data, parse_dates = [2])\n",
    "dfnew['Positives'] = dfnew['Positives'].astype(\"str\").astype('float')\n",
    "\n",
    "#dfnew['geo_id'] = dfnew['geo_id'].astype('int')"
   ]
  },
  {
   "cell_type": "code",
   "execution_count": null,
   "id": "7dea70a1",
   "metadata": {},
   "outputs": [],
   "source": [
    "# go from zipcode to PUMA\n",
    "dfnew['PUMA'] = np.nan\n",
    "for index, rows in dfnew.iterrows():\n",
    "    if rows.geo_id in (98103, 98107, 98117):\n",
    "        dfnew.loc[index, 'PUMA'] = \"11601\" \n",
    "    elif rows.geo_id in (98105, 98115, 98125, 98195):\n",
    "        dfnew.loc[index, 'PUMA'] = \"11602\" \n",
    "    elif rows.geo_id in (98101, 98102, 98104, 98109, 98119, 98121, 98154, 98164, 98199):\n",
    "        dfnew.loc[index, 'PUMA'] = \"11603\" \n",
    "    elif rows.geo_id in (98112, 98118, 98122, 98144):\n",
    "        dfnew.loc[index, 'PUMA'] = \"11604\" \n",
    "    elif rows.geo_id in (98106, 98108, 98116, 98126, 98134, 98136):\n",
    "        dfnew.loc[index, 'PUMA'] = \"11605\" \n",
    "    elif rows.geo_id in (98133, 98155, 98177, 98011, 98028):\n",
    "        dfnew.loc[index, 'PUMA'] = \"11606\" \n",
    "    elif rows.geo_id in (98033, 98034, 98052):\n",
    "        dfnew.loc[index, 'PUMA'] = \"11607\" \n",
    "    elif rows.geo_id in (98004, 98005, 98006, 98007, 98008, 98039):\n",
    "        dfnew.loc[index, 'PUMA'] = \"11608\" \n",
    "    elif rows.geo_id in (98040, 98029, 98074, 98075):\n",
    "        dfnew.loc[index, 'PUMA'] = \"11609\" \n",
    "    elif rows.geo_id in (98055, 98057, 98056, 98178):\n",
    "        dfnew.loc[index, 'PUMA'] = \"11610\" \n",
    "    elif rows.geo_id in (98146, 98148, 98166, 98168, 98188):\n",
    "        dfnew.loc[index, 'PUMA'] = \"11611\" \n",
    "    elif rows.geo_id in (98003, 98023, 98198, 98070):\n",
    "        dfnew.loc[index, 'PUMA'] = \"11612\" \n",
    "    elif rows.geo_id in (98030, 98031, 98032, 98092):\n",
    "        dfnew.loc[index, 'PUMA'] = \"11613\" \n",
    "    elif rows.geo_id in (98001, 98002, 98047):\n",
    "        dfnew.loc[index, 'PUMA'] = \"11614\" \n",
    "    elif rows.geo_id in (98010, 98022, 98038, 98051, 98027, 98042, 98059, 98058):\n",
    "        dfnew.loc[index, 'PUMA'] = \"11615\" \n",
    "    elif rows.geo_id in (98045, 98065, 98014, 98077, 98053, 98024, 98072, 98019):\n",
    "        dfnew.loc[index, 'PUMA'] = \"11616\" "
   ]
  },
  {
   "cell_type": "code",
   "execution_count": null,
   "id": "69a761ad",
   "metadata": {},
   "outputs": [],
   "source": [
    "#go from PUMA to KC region\n",
    "north_kc = [\"11601\", \"11602\", \"11603\", \"11604\", \"11605\", \"11606\", \"11607\", \"11608\", \"11609\",  \"11616\" ]\n",
    "south_kc = [ \"11610\", \"11611\", \"11612\", \"11613\", \"11614\", \"11615\"]\n",
    "dfnew['region'] = np.nan\n",
    "for index, row in dfnew.iterrows():\n",
    "    if row.PUMA in north_kc:\n",
    "        dfnew.loc[index, \"region\"] = \"nKC\"\n",
    "    elif row.PUMA in south_kc:\n",
    "        dfnew.loc[index, \"region\"] = \"sKC\"\n",
    "    "
   ]
  },
  {
   "cell_type": "code",
   "execution_count": null,
   "id": "04bac298",
   "metadata": {},
   "outputs": [],
   "source": [
    "#14 rolling average day average for hospitalization by region\n",
    "dfnew['Date'] = pd.to_datetime(dfnew['date']) \n",
    "df_test = dfnew.groupby(['region', pd.Grouper(key='Date')])['Positives'].sum().rolling(14, min_periods=1).mean()\n",
    "df = df_test.reset_index()\n",
    "df\n"
   ]
  },
  {
   "cell_type": "code",
   "execution_count": null,
   "id": "c83684ef",
   "metadata": {},
   "outputs": [],
   "source": [
    "#df.to_csv(\"../data-files/cases_per_100_by_region.csv\")"
   ]
  },
  {
   "cell_type": "code",
   "execution_count": null,
   "id": "fffbb156",
   "metadata": {},
   "outputs": [],
   "source": [
    "#MASCOT will log normalize these values and thus we can't have any 0 values. \n",
    "df.Positives[df.Positives <= 0] = 0.1"
   ]
  },
  {
   "cell_type": "code",
   "execution_count": null,
   "id": "bf89142d",
   "metadata": {},
   "outputs": [],
   "source": [
    "nkc_df = df[df['region'] == \"nKC\"]\n",
    "skc_df = df[df['region'] == \"sKC\"]\n",
    "\n",
    "skc_df = skc_df[['region', 'Date', 'Positives']]\n",
    "nkc_df = nkc_df[['region', 'Date', 'Positives']]\n",
    "\n",
    "skc_df = skc_df.rename(columns = {\"Positives\": \"Positives_skc\"}).reset_index()\n",
    "nkc_df = nkc_df.rename(columns = {\"Positives\": \"Positives_nkc\"}).reset_index()"
   ]
  },
  {
   "cell_type": "code",
   "execution_count": null,
   "id": "7306ca99",
   "metadata": {},
   "outputs": [],
   "source": [
    "#merging n and s datasets together\n",
    "merged_df = skc_df.merge(nkc_df, on = \"Date\")"
   ]
  },
  {
   "cell_type": "code",
   "execution_count": null,
   "id": "70531fc7",
   "metadata": {},
   "outputs": [],
   "source": [
    "merged_df"
   ]
  },
  {
   "cell_type": "code",
   "execution_count": null,
   "id": "1f0fc627",
   "metadata": {},
   "outputs": [],
   "source": [
    "#setting everything up for back filling some dates where we don't have case data for since MASCOT doesnt like NA or 0s\n",
    "mar6_df = merged_df[merged_df[\"Date\"] <= \"2022-03-06\"]\n",
    "mar6_df.index = mar6_df.Date\n",
    "first_date = pd.Timestamp('2019-12-21')\n",
    "end_date = pd.Timestamp('2022-03-05')\n",
    "dates = pd.date_range(first_date, end_date, freq='D')\n",
    "dates.name = 'date'"
   ]
  },
  {
   "cell_type": "code",
   "execution_count": null,
   "id": "400dc2a0",
   "metadata": {},
   "outputs": [],
   "source": [
    "mar6_df = mar6_df.reindex(dates,  fill_value = 0.1)"
   ]
  },
  {
   "cell_type": "code",
   "execution_count": null,
   "id": "0d0346c4",
   "metadata": {},
   "outputs": [],
   "source": [
    "df_np = mar6_df[['Positives_skc', 'Positives_nkc']].to_numpy()"
   ]
  },
  {
   "cell_type": "code",
   "execution_count": null,
   "id": "a07619a3",
   "metadata": {},
   "outputs": [],
   "source": [
    "#in order to fit the matrix format of MASCOT GLM, we need it to go SKC, NKC in backwards in time order\n",
    "blah = df_np.tolist()\n",
    "blah.reverse()\n",
    "len(blah)"
   ]
  },
  {
   "cell_type": "code",
   "execution_count": null,
   "id": "8cd9e197",
   "metadata": {},
   "outputs": [],
   "source": [
    "#this prints out the predictors that can be copy and pasted into the template\n",
    "print(*blah, sep=' ')\n"
   ]
  },
  {
   "cell_type": "code",
   "execution_count": null,
   "id": "3c64029d",
   "metadata": {},
   "outputs": [],
   "source": []
  }
 ],
 "metadata": {
  "kernelspec": {
   "display_name": "Python 3 (ipykernel)",
   "language": "python",
   "name": "python3"
  },
  "language_info": {
   "codemirror_mode": {
    "name": "ipython",
    "version": 3
   },
   "file_extension": ".py",
   "mimetype": "text/x-python",
   "name": "python",
   "nbconvert_exporter": "python",
   "pygments_lexer": "ipython3",
   "version": "3.8.13"
  }
 },
 "nbformat": 4,
 "nbformat_minor": 5
}
