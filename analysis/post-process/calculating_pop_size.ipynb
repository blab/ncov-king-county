{
 "cells": [
  {
   "cell_type": "markdown",
   "id": "d5c56e84",
   "metadata": {},
   "source": [
    "## calculating population size from n and s kc using census data"
   ]
  },
  {
   "cell_type": "code",
   "execution_count": null,
   "id": "8c2ef605",
   "metadata": {},
   "outputs": [],
   "source": [
    "\n",
    "import pandas as pd\n",
    "import numpy as np "
   ]
  },
  {
   "cell_type": "code",
   "execution_count": null,
   "id": "9260cf7c",
   "metadata": {},
   "outputs": [],
   "source": [
    "pop_data = pd.read_csv('/Users/mparedes/Downloads/ACSDP5Y2020.DP05_2022-10-13T173328/ACSDP5Y2020.DP05-Data.csv', header = 1)\n"
   ]
  },
  {
   "cell_type": "code",
   "execution_count": null,
   "id": "a4e55808",
   "metadata": {},
   "outputs": [],
   "source": [
    "pop_data"
   ]
  },
  {
   "cell_type": "code",
   "execution_count": null,
   "id": "13941208",
   "metadata": {},
   "outputs": [],
   "source": [
    "pop_data['ZIP'] = np.nan\n",
    "pop_data['ZIP'] = pop_data['Geographic Area Name'].str.split(pat = ' ',expand = True)[1]"
   ]
  },
  {
   "cell_type": "code",
   "execution_count": null,
   "id": "f630011a",
   "metadata": {},
   "outputs": [],
   "source": [
    "pop_data = pop_data[[\"ZIP\", \"Estimate!!SEX AND AGE!!Total population\"]]"
   ]
  },
  {
   "cell_type": "code",
   "execution_count": null,
   "id": "65e7fdc7",
   "metadata": {},
   "outputs": [],
   "source": [
    "def zipcode_to_puma(dfnew):\n",
    "    #assigns PUMA based on zipcode - this was provided courtesy of cooper marshall of SFS\n",
    "    dfnew['PUMA'] = np.nan\n",
    "    dfnew.ZIP = dfnew.ZIP.astype('int')\n",
    "    for index, rows in dfnew.iterrows():\n",
    "        if rows.ZIP in (98103, 98107, 98117):\n",
    "            dfnew.loc[index, 'PUMA'] = \"11601\" \n",
    "        elif rows.ZIP in (98105, 98115, 98125, 98195):\n",
    "            dfnew.loc[index, 'PUMA'] = \"11602\" \n",
    "        elif rows.ZIP in (98101, 98102, 98104, 98109, 98119, 98121, 98154, 98164, 98199):\n",
    "            dfnew.loc[index, 'PUMA'] = \"11603\" \n",
    "        elif rows.ZIP in (98112, 98118, 98122, 98144):\n",
    "            dfnew.loc[index, 'PUMA'] = \"11604\" \n",
    "        elif rows.ZIP in (98106, 98108, 98116, 98126, 98134, 98136):\n",
    "            dfnew.loc[index, 'PUMA'] = \"11605\" \n",
    "        elif rows.ZIP in (98133, 98155, 98177, 98011, 98028):\n",
    "            dfnew.loc[index, 'PUMA'] = \"11606\" \n",
    "        elif rows.ZIP in (98033, 98034, 98052):\n",
    "            dfnew.loc[index, 'PUMA'] = \"11607\" \n",
    "        elif rows.ZIP in (98004, 98005, 98006, 98007, 98008, 98039):\n",
    "            dfnew.loc[index, 'PUMA'] = \"11608\" \n",
    "        elif rows.ZIP in (98040, 98029, 98074, 98075):\n",
    "            dfnew.loc[index, 'PUMA'] = \"11609\" \n",
    "        elif rows.ZIP in (98055, 98057, 98056, 98178):\n",
    "            dfnew.loc[index, 'PUMA'] = \"11610\" \n",
    "        elif rows.ZIP in (98146, 98148, 98166, 98168, 98188):\n",
    "            dfnew.loc[index, 'PUMA'] = \"11611\" \n",
    "        elif rows.ZIP in (98003, 98023, 98198, 98070):\n",
    "            dfnew.loc[index, 'PUMA'] = \"11612\" \n",
    "        elif rows.ZIP in (98030, 98031, 98032, 98092):\n",
    "            dfnew.loc[index, 'PUMA'] = \"11613\" \n",
    "        elif rows.ZIP in (98001, 98002, 98047):\n",
    "            dfnew.loc[index, 'PUMA'] = \"11614\" \n",
    "        elif rows.ZIP in (98010, 98022, 98038, 98051, 98027, 98042, 98059, 98058):\n",
    "            dfnew.loc[index, 'PUMA'] = \"11615\" \n",
    "        elif rows.ZIP in (98045, 98065, 98014, 98077, 98053, 98024, 98072, 98019):\n",
    "            dfnew.loc[index, 'PUMA'] = \"11616\" \n",
    "    return dfnew"
   ]
  },
  {
   "cell_type": "code",
   "execution_count": null,
   "id": "1990349a",
   "metadata": {},
   "outputs": [],
   "source": [
    "def puma_to_region(df):\n",
    "#assigns puma to N vs S KC\n",
    "    df.PUMA = df.PUMA.astype('str')\n",
    "    north_kc = [\"11601\", \"11602\", \"11603\", \"11604\", \"11605\", \"11606\", \"11607\", \"11608\", \"11609\",  \"11616\" ]\n",
    "    south_kc = [ \"11610\", \"11611\", \"11612\", \"11613\", \"11614\", \"11615\"]\n",
    "    df['region'] = np.nan\n",
    "    for index, row in df.iterrows():\n",
    "        if row.PUMA in north_kc:\n",
    "            df.loc[index, \"region\"] = \"nKC\"\n",
    "        elif row.PUMA in south_kc:\n",
    "            df.loc[index, \"region\"] = \"sKC\"\n",
    "    return df"
   ]
  },
  {
   "cell_type": "code",
   "execution_count": null,
   "id": "abb3642a",
   "metadata": {},
   "outputs": [],
   "source": [
    "pop_puma = zipcode_to_puma(pop_data)\n"
   ]
  },
  {
   "cell_type": "code",
   "execution_count": null,
   "id": "74254629",
   "metadata": {},
   "outputs": [],
   "source": [
    "pop_region = puma_to_region(pop_puma)"
   ]
  },
  {
   "cell_type": "code",
   "execution_count": null,
   "id": "25c2fed7",
   "metadata": {},
   "outputs": [],
   "source": [
    "pop_region"
   ]
  },
  {
   "cell_type": "code",
   "execution_count": null,
   "id": "2c27b498",
   "metadata": {},
   "outputs": [],
   "source": [
    "pop_region.groupby(\"region\")[\"Estimate!!SEX AND AGE!!Total population\"].sum()"
   ]
  },
  {
   "cell_type": "code",
   "execution_count": null,
   "id": "7a231c5e",
   "metadata": {},
   "outputs": [],
   "source": []
  }
 ],
 "metadata": {
  "kernelspec": {
   "display_name": "Python 3 (ipykernel)",
   "language": "python",
   "name": "python3"
  },
  "language_info": {
   "codemirror_mode": {
    "name": "ipython",
    "version": 3
   },
   "file_extension": ".py",
   "mimetype": "text/x-python",
   "name": "python",
   "nbconvert_exporter": "python",
   "pygments_lexer": "ipython3",
   "version": "3.8.13"
  }
 },
 "nbformat": 4,
 "nbformat_minor": 5
}
