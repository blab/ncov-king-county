{
 "cells": [
  {
   "cell_type": "markdown",
   "id": "e707db57",
   "metadata": {},
   "source": [
    "## mobility exploration \n",
    "### we want to use mobility data not only to be more confident in our phylodynamic results but also to try to understand why we find more introductions into North KC vs south kc and where they are coming from. \n",
    "### The first thing is to calculate the proportion of introductions from N or S to the other vs the introductions coming from the outside\n",
    "### then it'd be great to look at where the introductions in to each area are coming from I.e. from which state\n",
    "### lastly, the idea is that the biggest reduction in mobility happened in the tech sector in seattle so look at mobility changes in N and S by industry. "
   ]
  },
  {
   "cell_type": "code",
   "execution_count": null,
   "id": "b95f07a6",
   "metadata": {},
   "outputs": [],
   "source": [
    "import pandas as pd\n",
    "import numpy as np\n",
    "import altair as alt\n",
    "from datetime import datetime as dt\n",
    "alt.data_transformers.disable_max_rows()"
   ]
  },
  {
   "cell_type": "code",
   "execution_count": null,
   "id": "3155ea5f",
   "metadata": {},
   "outputs": [],
   "source": [
    "within_mob = '../data-files/movement_within_king_co.tsv'\n",
    "outside_state = '../data-files/north_vs_south_king_co_visitors_by_state (1).tsv'\n",
    "within_industry = '../data-files/movement_within_king_co_by_industry.tsv'\n",
    "outside_industry = '../data-files/north_vs_south_king_co_visitors_by_state_and_industry.tsv'"
   ]
  },
  {
   "cell_type": "code",
   "execution_count": null,
   "id": "d26e6582",
   "metadata": {},
   "outputs": [],
   "source": [
    "within_df = pd.read_csv(within_mob, sep='\\t', parse_dates = [1])\n",
    "outside_state_df = pd.read_csv(outside_state, sep='\\t', parse_dates = [1])\n",
    "within_industry_df = pd.read_csv(within_industry, sep='\\t', parse_dates = [1])\n",
    "outside_industry_df = pd.read_csv(outside_industry, sep='\\t', parse_dates = [1])"
   ]
  },
  {
   "cell_type": "code",
   "execution_count": null,
   "id": "bb0f9b5d",
   "metadata": {},
   "outputs": [],
   "source": [
    "within_df"
   ]
  },
  {
   "cell_type": "code",
   "execution_count": null,
   "id": "a64db71e",
   "metadata": {},
   "outputs": [],
   "source": [
    "outside_state_df"
   ]
  },
  {
   "cell_type": "code",
   "execution_count": null,
   "id": "122cf741",
   "metadata": {},
   "outputs": [],
   "source": [
    "within_industry_df"
   ]
  },
  {
   "cell_type": "code",
   "execution_count": null,
   "id": "cdda01f4",
   "metadata": {},
   "outputs": [],
   "source": [
    "outside_industry_df"
   ]
  },
  {
   "cell_type": "code",
   "execution_count": null,
   "id": "c2f35375",
   "metadata": {},
   "outputs": [],
   "source": [
    "withinonly = within_df[(within_df.category == \"within North\") | (within_df.category == \"within South\")]"
   ]
  },
  {
   "cell_type": "code",
   "execution_count": null,
   "id": "071bd489",
   "metadata": {},
   "outputs": [],
   "source": [
    "alt.Chart(withinonly).mark_line().encode(\n",
    "    alt.X('start_date:T', axis=alt.Axis(title=None, grid=False)),\n",
    "    alt.Y('sum_visits:Q')).properties(\n",
    "    width=800,\n",
    "    height=400\n",
    ")"
   ]
  },
  {
   "cell_type": "markdown",
   "id": "f415d3fb",
   "metadata": {},
   "source": [
    "## proportion of cases from north or south vs from outside"
   ]
  },
  {
   "cell_type": "code",
   "execution_count": null,
   "id": "d1558a86",
   "metadata": {},
   "outputs": [],
   "source": [
    "#within_df = within_df[(within_df.category == \"North to South\") | (within_df.category == \"South to North\")]"
   ]
  },
  {
   "cell_type": "code",
   "execution_count": null,
   "id": "62d7e2ec",
   "metadata": {},
   "outputs": [],
   "source": [
    "within_df = within_df[within_df.start_date > \"2020-01-01\"]\n",
    "outside_state_df = outside_state_df[outside_state_df.start_date > \"2020-01-01\"]"
   ]
  },
  {
   "cell_type": "code",
   "execution_count": null,
   "id": "5ee22b06",
   "metadata": {},
   "outputs": [],
   "source": [
    "within_df"
   ]
  },
  {
   "cell_type": "code",
   "execution_count": null,
   "id": "042f025b",
   "metadata": {},
   "outputs": [],
   "source": [
    "ns_within_df = within_df[(within_df.category == \"North to South\")]\n",
    "sn_within_df = within_df[(within_df.category == \"South to North\")]\n",
    "n_within_df = within_df[(within_df.category == \"within North\")]\n",
    "s_within_df = within_df[(within_df.category == \"within South\")]\n"
   ]
  },
  {
   "cell_type": "code",
   "execution_count": null,
   "id": "135bc1cc",
   "metadata": {},
   "outputs": [],
   "source": [
    "#for some reason, it's always weekly summaries until '2021-07-19', '2021-07-21' where it only does 3 days and then conintues the weekly pattern,\n",
    "#which leads to one extra entry, we're droping 07-21 for now but will follow up with amanda later about\n",
    "\n",
    "ns_within_df = ns_within_df[(ns_within_df.start_date != \"2021-07-21\")].reset_index()\n",
    "sn_within_df = sn_within_df[(sn_within_df.start_date != \"2021-07-21\")].reset_index()\n",
    "n_within_df = n_within_df[(n_within_df.start_date != \"2021-07-21\")].reset_index()\n",
    "s_within_df = s_within_df[(s_within_df.start_date != \"2021-07-21\")].reset_index()"
   ]
  },
  {
   "cell_type": "code",
   "execution_count": null,
   "id": "de93e88e",
   "metadata": {},
   "outputs": [],
   "source": [
    "s_within_df"
   ]
  },
  {
   "cell_type": "code",
   "execution_count": null,
   "id": "09727536",
   "metadata": {},
   "outputs": [],
   "source": [
    "n_outside_df = outside_state_df[(outside_state_df.poi_geo == \"North King\")]\n",
    "s_outside_df = outside_state_df[(outside_state_df.poi_geo == \"South King\")]"
   ]
  },
  {
   "cell_type": "code",
   "execution_count": null,
   "id": "b2a5efef",
   "metadata": {},
   "outputs": [],
   "source": [
    "n_outside_df_all = n_outside_df.groupby(\"start_date\")[\"sum_visits\"].sum().reset_index().sort_values('start_date')\n",
    "s_outside_df_all = s_outside_df.groupby(\"start_date\")[\"sum_visits\"].sum().reset_index().sort_values('start_date')\n"
   ]
  },
  {
   "cell_type": "code",
   "execution_count": null,
   "id": "ccb72c2f",
   "metadata": {
    "scrolled": true
   },
   "outputs": [],
   "source": [
    "n_outside_df_all\n"
   ]
  },
  {
   "cell_type": "code",
   "execution_count": null,
   "id": "ea5da549",
   "metadata": {},
   "outputs": [],
   "source": [
    "s_outside_df_all"
   ]
  },
  {
   "cell_type": "code",
   "execution_count": null,
   "id": "5fd0d601",
   "metadata": {},
   "outputs": [],
   "source": [
    "within_v_outside = pd.DataFrame()\n",
    "percent_intro_est = pd.DataFrame()"
   ]
  },
  {
   "cell_type": "code",
   "execution_count": null,
   "id": "f0b11584",
   "metadata": {},
   "outputs": [],
   "source": [
    "within_v_outside['date'] = n_outside_df_all.start_date\n",
    "percent_intro_est['date'] = n_outside_df_all.start_date"
   ]
  },
  {
   "cell_type": "code",
   "execution_count": null,
   "id": "552a365e",
   "metadata": {},
   "outputs": [],
   "source": []
  },
  {
   "cell_type": "code",
   "execution_count": null,
   "id": "c0206ae7",
   "metadata": {},
   "outputs": [],
   "source": [
    "within_v_outside['ratio_n'] = sn_within_df['sum_visits'].astype(float)/n_outside_df_all['sum_visits'].astype(float)\n",
    "within_v_outside['ratio_s'] = ns_within_df['sum_visits'].astype(float)/s_outside_df_all['sum_visits'].astype(float)\n",
    "\n",
    "percent_intro_est['north'] = (sn_within_df['sum_visits'].astype(float) + n_outside_df_all['sum_visits'].astype(float))/(sn_within_df['sum_visits'].astype(float) + n_outside_df_all['sum_visits'].astype(float) + n_within_df['sum_visits'].astype(float))\n",
    "percent_intro_est['south'] = (ns_within_df['sum_visits'].astype(float) + s_outside_df_all['sum_visits'].astype(float))/(ns_within_df['sum_visits'].astype(float) + s_outside_df_all['sum_visits'].astype(float) + s_within_df['sum_visits'].astype(float))"
   ]
  },
  {
   "cell_type": "code",
   "execution_count": null,
   "id": "04649bd1",
   "metadata": {},
   "outputs": [],
   "source": [
    "within_v_outside"
   ]
  },
  {
   "cell_type": "code",
   "execution_count": null,
   "id": "1e185466",
   "metadata": {},
   "outputs": [],
   "source": [
    "percent_intro_est"
   ]
  },
  {
   "cell_type": "code",
   "execution_count": null,
   "id": "efc0b759",
   "metadata": {},
   "outputs": [],
   "source": [
    "percent_intro_est.to_csv(\"percent_intro_from_mob.csv\")"
   ]
  },
  {
   "cell_type": "code",
   "execution_count": null,
   "id": "25840122",
   "metadata": {},
   "outputs": [],
   "source": [
    "north_intro = alt.Chart(within_v_outside, width = 750).mark_line(interpolate='monotone', opacity = 1.0).encode(\n",
    "    alt.X('date:T', axis=alt.Axis(title=None, grid=False)),\n",
    "    alt.Y('ratio_n:Q',axis=alt.Axis(title=\"ratio within vs out - north\", grid=False))).properties(\n",
    "    width=800,\n",
    "    height=400\n",
    ")"
   ]
  },
  {
   "cell_type": "code",
   "execution_count": null,
   "id": "2d5854d3",
   "metadata": {},
   "outputs": [],
   "source": [
    "south_intro = alt.Chart(within_v_outside, width = 750).mark_line(interpolate='monotone', opacity = 1.0, color = \"orange\").encode(\n",
    "    alt.X('date:T', axis=alt.Axis(title=None, grid=False)),\n",
    "    alt.Y('ratio_s:Q',axis=alt.Axis(title=\"ratio within vs out - south\", grid=False))).properties(\n",
    "    width=800,\n",
    "    height=400\n",
    ")"
   ]
  },
  {
   "cell_type": "code",
   "execution_count": null,
   "id": "97bbbee8",
   "metadata": {},
   "outputs": [],
   "source": [
    "north_intro + south_intro"
   ]
  },
  {
   "cell_type": "code",
   "execution_count": null,
   "id": "a15abfe0",
   "metadata": {},
   "outputs": [],
   "source": [
    "n_percent = alt.Chart(percent_intro_est, width = 750).mark_line(interpolate='monotone', opacity = 1.0).encode(\n",
    "    alt.X('date:T', axis=alt.Axis(title=None, grid=False)),\n",
    "    alt.Y('north:Q',axis=alt.Axis(title=\"percent cases from intro -mobility\", grid=False))).properties(\n",
    "    width=800,\n",
    "    height=400\n",
    ")\n",
    "\n",
    "s_percent = alt.Chart(percent_intro_est, width = 750).mark_line(interpolate='monotone', opacity = 1.0,  color = \"orange\").encode(\n",
    "    alt.X('date:T', axis=alt.Axis(title=None, grid=False)),\n",
    "    alt.Y('south:Q',axis=alt.Axis(title=\"percent cases from intro -mobiliity\", grid=False))).properties(\n",
    "    width=800,\n",
    "    height=400\n",
    ")\n",
    "\n",
    "percent_cases_from_intro_mob = n_percent+s_percent\n",
    "percent_cases_from_intro_mob"
   ]
  },
  {
   "cell_type": "code",
   "execution_count": null,
   "id": "f66ab914",
   "metadata": {},
   "outputs": [],
   "source": [
    "percent_cases_from_intro_mob.save('percent_cases_from_intro_mobility.png')"
   ]
  },
  {
   "cell_type": "markdown",
   "id": "affec4d9",
   "metadata": {},
   "source": [
    "### how do the numbers of intro into n v s compare? "
   ]
  },
  {
   "cell_type": "code",
   "execution_count": null,
   "id": "ce8ec2d4",
   "metadata": {},
   "outputs": [],
   "source": [
    "outside_df_all = outside_state_df.groupby([\"poi_geo\", \"start_date\"])[\"sum_visits\"].sum().reset_index().sort_values('start_date')\n"
   ]
  },
  {
   "cell_type": "code",
   "execution_count": null,
   "id": "44f907c6",
   "metadata": {},
   "outputs": [],
   "source": [
    "outside_df_all"
   ]
  },
  {
   "cell_type": "code",
   "execution_count": null,
   "id": "823af759",
   "metadata": {},
   "outputs": [],
   "source": []
  },
  {
   "cell_type": "code",
   "execution_count": null,
   "id": "060af693",
   "metadata": {},
   "outputs": [],
   "source": [
    "alt.Chart(outside_df_all, width = 750).mark_line(interpolate='monotone', opacity = 1.0).encode(\n",
    "    alt.X('start_date:T', axis=alt.Axis(title=None, grid=False)),\n",
    "    alt.Y('sum_visits:Q',axis=alt.Axis(title=\"visits\", grid=False)),\n",
    "    alt.Color('poi_geo:N')).properties(\n",
    "    width=800,\n",
    "    height=400\n",
    ")"
   ]
  },
  {
   "cell_type": "code",
   "execution_count": null,
   "id": "d2744b31",
   "metadata": {},
   "outputs": [],
   "source": [
    "outside_df_short = outside_df_all[outside_df_all.start_date > \"2020-12-03\"]"
   ]
  },
  {
   "cell_type": "code",
   "execution_count": null,
   "id": "4b017ca4",
   "metadata": {},
   "outputs": [],
   "source": [
    "alt.Chart(outside_df_short, width = 750).mark_line(interpolate='monotone', opacity = 1.0).encode(\n",
    "    alt.X('start_date:T', axis=alt.Axis(title=None, grid=False)),\n",
    "    alt.Y('sum_visits:Q',axis=alt.Axis(title=\"visits\", grid=False)),\n",
    "    alt.Color('poi_geo:N')).properties(\n",
    "    width=800,\n",
    "    height=400\n",
    ")"
   ]
  },
  {
   "cell_type": "markdown",
   "id": "18196d96",
   "metadata": {},
   "source": [
    "## Now gonna work on seeing where the introductions are coming from "
   ]
  },
  {
   "cell_type": "code",
   "execution_count": null,
   "id": "5b336bf2",
   "metadata": {},
   "outputs": [],
   "source": [
    "outside_state_df_test = outside_state_df.sort_values([\"poi_geo\", \"start_date\" ,\"sum_visits\"])\n",
    "#need to change to decending order and then just take the \n"
   ]
  },
  {
   "cell_type": "code",
   "execution_count": null,
   "id": "3085224d",
   "metadata": {},
   "outputs": [],
   "source": []
  },
  {
   "cell_type": "code",
   "execution_count": null,
   "id": "230b68f0",
   "metadata": {},
   "outputs": [],
   "source": [
    "outside_state_df_test"
   ]
  },
  {
   "cell_type": "code",
   "execution_count": null,
   "id": "4ae79ac0",
   "metadata": {},
   "outputs": [],
   "source": [
    "north_state = outside_state_df_test[(outside_state_df_test.poi_geo == \"North King\") & (outside_state_df_test.visitor_state != \"WA\") ]\n",
    "south_state = outside_state_df_test[(outside_state_df_test.poi_geo == \"South King\") & (outside_state_df_test.visitor_state != \"WA\") ]"
   ]
  },
  {
   "cell_type": "code",
   "execution_count": null,
   "id": "8e8c7393",
   "metadata": {},
   "outputs": [],
   "source": [
    "north_heat = alt.Chart(north_state).mark_rect(interpolate='monotone').encode(\n",
    "    alt.Y('visitor_state:N'),\n",
    "    alt.X('start_date:T'), \n",
    "    alt.Color('sum_visits:Q'))"
   ]
  },
  {
   "cell_type": "code",
   "execution_count": null,
   "id": "0eef761a",
   "metadata": {},
   "outputs": [],
   "source": [
    "south_heat = alt.Chart(south_state).mark_rect(interpolate='monotone').encode(\n",
    "    alt.Y('visitor_state:N'),\n",
    "    alt.X('start_date:T'), \n",
    "    alt.Color('sum_visits:Q'))"
   ]
  },
  {
   "cell_type": "code",
   "execution_count": null,
   "id": "04abd86e",
   "metadata": {},
   "outputs": [],
   "source": [
    "north_heat"
   ]
  },
  {
   "cell_type": "code",
   "execution_count": null,
   "id": "8590754a",
   "metadata": {},
   "outputs": [],
   "source": [
    "south_heat"
   ]
  },
  {
   "cell_type": "code",
   "execution_count": null,
   "id": "d0b08e43",
   "metadata": {},
   "outputs": [],
   "source": [
    "(north_heat | south_heat).resolve_scale(y = \"independent\")"
   ]
  },
  {
   "cell_type": "markdown",
   "id": "1c71f6e1",
   "metadata": {},
   "source": [
    "# mobility changes in north and south by industry"
   ]
  },
  {
   "cell_type": "code",
   "execution_count": null,
   "id": "59c2f3d0",
   "metadata": {},
   "outputs": [],
   "source": [
    "within_industry_df"
   ]
  },
  {
   "cell_type": "code",
   "execution_count": null,
   "id": "ec56bbf6",
   "metadata": {},
   "outputs": [],
   "source": [
    "test = within_industry_df[within_industry_df.poi_geo == \"North King\"].sort_values([\"start_date\",\"sum_visits\"])"
   ]
  },
  {
   "cell_type": "code",
   "execution_count": null,
   "id": "19ed1fc8",
   "metadata": {},
   "outputs": [],
   "source": [
    "test[test.start_date == \"2019-10-21\"].industry.tolist()"
   ]
  },
  {
   "cell_type": "code",
   "execution_count": null,
   "id": "83166a40",
   "metadata": {},
   "outputs": [],
   "source": [
    "i_within_df = within_industry_df[(within_industry_df.category == \"North to South\") | (within_industry_df.category == \"South to North\")]\n",
    "i_within_df = i_within_df[i_within_df.industry == \"Full-Service Restaurants\"]"
   ]
  },
  {
   "cell_type": "code",
   "execution_count": null,
   "id": "4944b872",
   "metadata": {},
   "outputs": [],
   "source": [
    "i_within_df"
   ]
  },
  {
   "cell_type": "code",
   "execution_count": null,
   "id": "fb3140bf",
   "metadata": {},
   "outputs": [],
   "source": [
    "ns_within_df_res = i_within_df[(i_within_df.category == \"North to South\")].reset_index()\n",
    "sn_within_df_res = i_within_df[(i_within_df.category == \"South to North\")].reset_index()"
   ]
  },
  {
   "cell_type": "code",
   "execution_count": null,
   "id": "4e309f05",
   "metadata": {},
   "outputs": [],
   "source": [
    "outside_industry_df = outside_industry_df[outside_industry_df.industry == \"Full-Service Restaurants\"]"
   ]
  },
  {
   "cell_type": "code",
   "execution_count": null,
   "id": "7501805f",
   "metadata": {},
   "outputs": [],
   "source": [
    "n_outside_df_res = outside_industry_df[(outside_industry_df.poi_geo == \"North King\")]\n",
    "s_outside_df_res = outside_industry_df[(outside_industry_df.poi_geo == \"South King\")]"
   ]
  },
  {
   "cell_type": "code",
   "execution_count": null,
   "id": "205989e0",
   "metadata": {},
   "outputs": [],
   "source": [
    "outside_industry_df"
   ]
  },
  {
   "cell_type": "code",
   "execution_count": null,
   "id": "8a5f8ac2",
   "metadata": {},
   "outputs": [],
   "source": [
    "n_outside_df_all_res = n_outside_df_res.groupby(\"start_date\")[\"sum_visits\"].sum().reset_index().sort_values('start_date')\n",
    "s_outside_df_all_res = s_outside_df_res.groupby(\"start_date\")[\"sum_visits\"].sum().reset_index().sort_values('start_date')\n"
   ]
  },
  {
   "cell_type": "code",
   "execution_count": null,
   "id": "e12dc8a2",
   "metadata": {},
   "outputs": [],
   "source": []
  },
  {
   "cell_type": "code",
   "execution_count": null,
   "id": "2978dd16",
   "metadata": {},
   "outputs": [],
   "source": [
    "within_v_outside_res = pd.DataFrame()\n",
    "within_v_outside_res['date'] = n_outside_df_all_res.start_date\n"
   ]
  },
  {
   "cell_type": "code",
   "execution_count": null,
   "id": "2a1c69ac",
   "metadata": {},
   "outputs": [],
   "source": [
    "within_v_outside_res['ratio_n'] = sn_within_df_res['sum_visits'].astype(float)/n_outside_df_all_res['sum_visits'].astype(float)\n",
    "within_v_outside_res['ratio_s'] = ns_within_df_res['sum_visits'].astype(float)/s_outside_df_all_res['sum_visits'].astype(float)"
   ]
  },
  {
   "cell_type": "code",
   "execution_count": null,
   "id": "7d4a2646",
   "metadata": {},
   "outputs": [],
   "source": [
    "sn_within_df_res"
   ]
  },
  {
   "cell_type": "code",
   "execution_count": null,
   "id": "4ca17221",
   "metadata": {},
   "outputs": [],
   "source": [
    "n_outside_df_all_res"
   ]
  },
  {
   "cell_type": "code",
   "execution_count": null,
   "id": "7a1d8144",
   "metadata": {},
   "outputs": [],
   "source": [
    "within_v_outside_res"
   ]
  },
  {
   "cell_type": "code",
   "execution_count": null,
   "id": "bce2e960",
   "metadata": {},
   "outputs": [],
   "source": [
    "north_intro = alt.Chart(within_v_outside_res, width = 750).mark_line(interpolate='monotone', opacity = 1.0).encode(\n",
    "    alt.X('date:T', axis=alt.Axis(title=None, grid=False)),\n",
    "    alt.Y('ratio_n:Q',axis=alt.Axis(title=\"ratio within vs out - north\", grid=False))).properties(\n",
    "    width=800,\n",
    "    height=400\n",
    ")"
   ]
  },
  {
   "cell_type": "code",
   "execution_count": null,
   "id": "1337e48c",
   "metadata": {},
   "outputs": [],
   "source": [
    "south_intro = alt.Chart(within_v_outside_res, width = 750).mark_line(interpolate='monotone', opacity = 1.0, color = \"orange\").encode(\n",
    "    alt.X('date:T', axis=alt.Axis(title=None, grid=False)),\n",
    "    alt.Y('ratio_s:Q',axis=alt.Axis(title=\"ratio within vs out - south\", grid=False))).properties(\n",
    "    width=800,\n",
    "    height=400\n",
    ")"
   ]
  },
  {
   "cell_type": "code",
   "execution_count": null,
   "id": "6f91335e",
   "metadata": {},
   "outputs": [],
   "source": [
    "north_intro + south_intro"
   ]
  },
  {
   "cell_type": "markdown",
   "id": "20a8d8ce",
   "metadata": {},
   "source": [
    "## plotting mobility over time for N and south using average of 2019 as a baseline"
   ]
  },
  {
   "cell_type": "code",
   "execution_count": null,
   "id": "dd83f47c",
   "metadata": {},
   "outputs": [],
   "source": [
    "within_mob = within_df[(within_df.category == \"within North\") | (within_df.category == \"within South\")]\n",
    "within_mob = within_mob[within_mob.start_date <= \"2022-03-08\"]\n"
   ]
  },
  {
   "cell_type": "code",
   "execution_count": null,
   "id": "8e12860d",
   "metadata": {},
   "outputs": [],
   "source": [
    "within_mob"
   ]
  },
  {
   "cell_type": "code",
   "execution_count": null,
   "id": "f47bcb62",
   "metadata": {},
   "outputs": [],
   "source": [
    "north_df = within_mob[within_mob.category == \"within North\"]\n",
    "south_df = within_mob[within_mob.category == \"within South\"]\n",
    "north_df.sum_visits = north_df.sum_visits.astype(float)\n",
    "south_df.sum_visits = south_df.sum_visits.astype(float)"
   ]
  },
  {
   "cell_type": "code",
   "execution_count": null,
   "id": "46b92186",
   "metadata": {},
   "outputs": [],
   "source": [
    "def convert_format_year(number):\n",
    "    date = dt.strptime(number, '%Y-%m-%d')\n",
    "    date_new = dt.strftime(date, '%Y')\n",
    "    return date_new"
   ]
  },
  {
   "cell_type": "code",
   "execution_count": null,
   "id": "92dd9941",
   "metadata": {},
   "outputs": [],
   "source": [
    "north_df[\"year\"] = north_df['start_date'].map(convert_format_year)\n",
    "south_df[\"year\"] = south_df['start_date'].map(convert_format_year)"
   ]
  },
  {
   "cell_type": "code",
   "execution_count": null,
   "id": "249638b7",
   "metadata": {},
   "outputs": [],
   "source": [
    "n_2019_mean = north_df[north_df['year'] ==\"2019\"].sum_visits.mean()\n",
    "s_2019_mean = south_df[south_df['year'] ==\"2019\"].sum_visits.mean()"
   ]
  },
  {
   "cell_type": "code",
   "execution_count": null,
   "id": "a32c3270",
   "metadata": {},
   "outputs": [],
   "source": [
    "north_df = north_df[north_df.start_date >= \"2020-01-01\"]\n",
    "south_df = south_df[south_df.start_date >= \"2020-01-01\"]\n",
    "north_df['normalized_visits'] = north_df.sum_visits.divide(n_2019_mean) \n",
    "south_df['normalized_visits'] = south_df.sum_visits.divide(s_2019_mean) "
   ]
  },
  {
   "cell_type": "code",
   "execution_count": null,
   "id": "bff329ae",
   "metadata": {},
   "outputs": [],
   "source": [
    "nmob_total = pd.concat([north_df, south_df])"
   ]
  },
  {
   "cell_type": "code",
   "execution_count": null,
   "id": "69f5f21e",
   "metadata": {},
   "outputs": [],
   "source": [
    "nmob_total.to_csv(\"../data-files/total_normalized_mobility.csv\")"
   ]
  },
  {
   "cell_type": "code",
   "execution_count": null,
   "id": "cc5d76cc",
   "metadata": {},
   "outputs": [],
   "source": [
    "lineplot_mob_n =  alt.Chart(nmob_total, width = 750).mark_line(interpolate='monotone', opacity = 1.0).encode(\n",
    "    x=alt.X('start_date:T', axis=alt.Axis(title=None, grid=False)),\n",
    "    y=alt.Y('normalized_visits:Q',axis=alt.Axis(title=\"Percent Change in Mobility Compared to 2019\", grid=False)),\n",
    "    color = alt.Color(\"poi_geo\")).properties(\n",
    "    width=800,\n",
    "    height=400\n",
    ")\n",
    "line = alt.Chart(pd.DataFrame({'y': [1.0]})).mark_rule(strokeDash=[1,1]).encode(y='y')"
   ]
  },
  {
   "cell_type": "code",
   "execution_count": null,
   "id": "8bad0d8f",
   "metadata": {},
   "outputs": [],
   "source": [
    "lineplot_mob_n"
   ]
  },
  {
   "cell_type": "code",
   "execution_count": null,
   "id": "fd6aaea5",
   "metadata": {},
   "outputs": [],
   "source": [
    "lineplot_mob_n =  alt.Chart(north_df, width = 750).mark_line(interpolate='monotone', opacity = 1.0).encode(\n",
    "    x=alt.X('start_date:T', axis=alt.Axis(title=None, grid=False)),\n",
    "    y=alt.Y('normalized_visits:Q',axis=alt.Axis(title=\"Percent Change in Mobility Compared to 2019\", grid=False))).properties(\n",
    "    width=800,\n",
    "    height=400\n",
    ")\n",
    "\n",
    "lineplot_mob_s =  alt.Chart(south_df, width = 750).mark_line(interpolate='monotone', opacity = 1.0, color = 'orange').encode(\n",
    "    x=alt.X('start_date:T', axis=alt.Axis(title=None, grid=False)),\n",
    "    y=alt.Y('normalized_visits:Q',axis=alt.Axis(title=\"Percent Change in Mobility Compared to 2019\", grid=False))).properties(\n",
    "    width=800,\n",
    "    height=400\n",
    ")\n",
    "\n",
    "line = alt.Chart(pd.DataFrame({'y': [1.0]})).mark_rule(strokeDash=[1,1]).encode(y='y')"
   ]
  },
  {
   "cell_type": "code",
   "execution_count": null,
   "id": "c23cdb57",
   "metadata": {},
   "outputs": [],
   "source": [
    "change_mob = lineplot_mob_n + lineplot_mob_s + line\n",
    "change_mob"
   ]
  },
  {
   "cell_type": "code",
   "execution_count": null,
   "id": "17840f6b",
   "metadata": {},
   "outputs": [],
   "source": [
    "change_mob.save('change_mob.png')"
   ]
  },
  {
   "cell_type": "code",
   "execution_count": null,
   "id": "0de109e8",
   "metadata": {},
   "outputs": [],
   "source": []
  }
 ],
 "metadata": {
  "kernelspec": {
   "display_name": "Python 3 (ipykernel)",
   "language": "python",
   "name": "python3"
  },
  "language_info": {
   "codemirror_mode": {
    "name": "ipython",
    "version": 3
   },
   "file_extension": ".py",
   "mimetype": "text/x-python",
   "name": "python",
   "nbconvert_exporter": "python",
   "pygments_lexer": "ipython3",
   "version": "3.8.13"
  }
 },
 "nbformat": 4,
 "nbformat_minor": 5
}
