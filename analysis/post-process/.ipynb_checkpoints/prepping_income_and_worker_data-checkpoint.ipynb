{
 "cells": [
  {
   "cell_type": "markdown",
   "id": "6c9819ac",
   "metadata": {},
   "source": [
    "## prepping income and worker data from census to be mapped "
   ]
  },
  {
   "cell_type": "code",
   "execution_count": null,
   "id": "232da0ed",
   "metadata": {},
   "outputs": [],
   "source": [
    "import sys\n",
    "import geopandas  as gpd\n",
    "import pandas as pd\n",
    "import altair as alt\n",
    "import json\n",
    "import numpy as np\n",
    "alt.data_transformers.disable_max_rows()"
   ]
  },
  {
   "cell_type": "code",
   "execution_count": null,
   "id": "a6d39394",
   "metadata": {},
   "outputs": [],
   "source": [
    "income_data = pd.read_csv('/Users/miguelparedes/Downloads/ACSST5Y2020.S1903_2022-06-13T172349/ACSST5Y2020.S1903_data_with_overlays_2022-06-13T172005.csv', header = 1)\n",
    "worker_data = pd.read_csv('/Users/miguelparedes/Downloads/ACSST5Y2020.S2401_2022-06-14T145348/ACSST5Y2020.S2401_data_with_overlays_2022-06-14T145053.csv', header = 1)"
   ]
  },
  {
   "cell_type": "code",
   "execution_count": null,
   "id": "3ef99ea3",
   "metadata": {},
   "outputs": [],
   "source": [
    "worker_data"
   ]
  },
  {
   "cell_type": "code",
   "execution_count": null,
   "id": "af5f2878",
   "metadata": {},
   "outputs": [],
   "source": [
    "income_data"
   ]
  },
  {
   "cell_type": "code",
   "execution_count": null,
   "id": "e71aa6d0",
   "metadata": {},
   "outputs": [],
   "source": [
    "for names in income_data.columns:\n",
    "    if \"Median income\" or \"Geographic Area Name\" in names:\n",
    "        pass\n",
    "    else:\n",
    "        income_data = income_data.drop(columns = [str(names)])\n",
    "        "
   ]
  },
  {
   "cell_type": "code",
   "execution_count": null,
   "id": "b9379a15",
   "metadata": {},
   "outputs": [],
   "source": [
    "income_data.columns"
   ]
  },
  {
   "cell_type": "code",
   "execution_count": null,
   "id": "3787087e",
   "metadata": {},
   "outputs": [],
   "source": [
    "income_data['ZIP'] = np.nan\n",
    "income_data['ZIP'] = income_data['Geographic Area Name'].str.split(pat = ' ',expand = True)[1]\n",
    "income_data_final = income_data[['ZIP','Estimate!!Median income (dollars)!!HOUSEHOLD INCOME BY RACE AND HISPANIC OR LATINO ORIGIN OF HOUSEHOLDER!!Households']] \n",
    "\n"
   ]
  },
  {
   "cell_type": "code",
   "execution_count": null,
   "id": "c4742e7d",
   "metadata": {},
   "outputs": [],
   "source": [
    "income_data_final"
   ]
  },
  {
   "cell_type": "code",
   "execution_count": null,
   "id": "ba4a53c8",
   "metadata": {},
   "outputs": [],
   "source": [
    "income_data_final[income_data_final.ZIP == \"County,\"] = np.nan\n",
    "income_data_final = income_data_final.dropna()"
   ]
  },
  {
   "cell_type": "code",
   "execution_count": null,
   "id": "4c63106e",
   "metadata": {},
   "outputs": [],
   "source": [
    "income_data_final.to_csv(\"median_income_zipcode.csv\")"
   ]
  },
  {
   "cell_type": "code",
   "execution_count": null,
   "id": "087a08ac",
   "metadata": {},
   "outputs": [],
   "source": [
    "# worker data"
   ]
  },
  {
   "cell_type": "code",
   "execution_count": null,
   "id": "482fef33",
   "metadata": {},
   "outputs": [],
   "source": [
    "essential_worker = ['Construction and extraction occupation', 'Farming, fishing, and forestry occupation',\n",
    "'Installation, maintenance, and repair occupation',\n",
    "'Material moving occupation',\n",
    " 'Production occupation',\n",
    " 'Transportation occupation',\n",
    " 'Office and administrative support occupation',\n",
    " 'Sales and related occupation',\n",
    " 'Building and grounds cleaning and maintenance occupation',\n",
    "'Food preparation and serving related occupation',\n",
    "'Personal care and service occupation',\n",
    "'Protective service occupations']"
   ]
  },
  {
   "cell_type": "code",
   "execution_count": null,
   "id": "f8110daf",
   "metadata": {},
   "outputs": [],
   "source": [
    "for names in worker_data.columns:\n",
    "    if ((any([s for s in essential_worker if s in str(names)])  and (\"Estimate\" in names) and (\"Total\" in names)) or  (\"Geographic Area Name\" in names) or (\"Estimate!!Total!!Civilian employed population 16 years and over\" == names)) :\n",
    "        pass\n",
    "    else:\n",
    "        worker_data = worker_data.drop(columns = [str(names)])"
   ]
  },
  {
   "cell_type": "code",
   "execution_count": null,
   "id": "d121a1ee",
   "metadata": {},
   "outputs": [],
   "source": [
    "worker_data = worker_data.drop(columns = ['Estimate!!Total!!Civilian employed population 16 years and over!!Service occupations:!!Protective service occupations:!!Firefighting and prevention, and other protective service workers including supervisors', 'Estimate!!Total!!Civilian employed population 16 years and over!!Service occupations:!!Protective service occupations:!!Law enforcement workers including supervisors'])\n"
   ]
  },
  {
   "cell_type": "code",
   "execution_count": null,
   "id": "6e6cbabc",
   "metadata": {},
   "outputs": [],
   "source": [
    "worker_data['ZIP'] = np.nan\n",
    "worker_data['ZIP'] = worker_data['Geographic Area Name'].str.split(pat = ' ',expand = True)[1]\n",
    "worker_data[worker_data.ZIP == \"County,\"] = np.nan\n",
    "worker_data = worker_data.dropna()\n",
    "\n",
    "worker_data"
   ]
  },
  {
   "cell_type": "code",
   "execution_count": null,
   "id": "3fcb47b3",
   "metadata": {},
   "outputs": [],
   "source": [
    "worker_data"
   ]
  },
  {
   "cell_type": "code",
   "execution_count": null,
   "id": "59a33225",
   "metadata": {},
   "outputs": [],
   "source": [
    "worker_data['sum_essential'] = worker_data.iloc[:,2: -1].sum(axis =1)\n",
    "worker_data['total'] = worker_data['Estimate!!Total!!Civilian employed population 16 years and over']\n",
    "worker_final = worker_data[['ZIP', 'sum_essential', \"total\"]]\n",
    "worker_final"
   ]
  },
  {
   "cell_type": "code",
   "execution_count": null,
   "id": "94cf9b25",
   "metadata": {},
   "outputs": [],
   "source": [
    "worker_final.to_csv(\"worker_data.csv\")"
   ]
  }
 ],
 "metadata": {
  "kernelspec": {
   "display_name": "Python 3 (ipykernel)",
   "language": "python",
   "name": "python3"
  },
  "language_info": {
   "codemirror_mode": {
    "name": "ipython",
    "version": 3
   },
   "file_extension": ".py",
   "mimetype": "text/x-python",
   "name": "python",
   "nbconvert_exporter": "python",
   "pygments_lexer": "ipython3",
   "version": "3.8.13"
  }
 },
 "nbformat": 4,
 "nbformat_minor": 5
}
