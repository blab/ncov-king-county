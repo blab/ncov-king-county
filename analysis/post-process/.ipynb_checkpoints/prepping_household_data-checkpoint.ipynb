{
 "cells": [
  {
   "cell_type": "code",
   "execution_count": null,
   "id": "6b8b1bed",
   "metadata": {},
   "outputs": [],
   "source": [
    "import pandas as pd\n",
    "import numpy as np "
   ]
  },
  {
   "cell_type": "code",
   "execution_count": null,
   "id": "618fafe1",
   "metadata": {},
   "outputs": [],
   "source": [
    "hh_data = pd.read_csv('/Users/miguelparedes/Downloads/ACSST5Y2020.S1101_2022-09-15T163932/ACSST5Y2020.S1101-Data.csv', header = 1)\n"
   ]
  },
  {
   "cell_type": "code",
   "execution_count": null,
   "id": "5731ef8e",
   "metadata": {},
   "outputs": [],
   "source": [
    "hh_data"
   ]
  },
  {
   "cell_type": "code",
   "execution_count": null,
   "id": "500ed623",
   "metadata": {},
   "outputs": [],
   "source": [
    "hh_data['ZIP'] = np.nan\n",
    "hh_data['ZIP'] = hh_data['Geographic Area Name'].str.split(pat = ' ',expand = True)[1]"
   ]
  },
  {
   "cell_type": "code",
   "execution_count": null,
   "id": "31cec907",
   "metadata": {},
   "outputs": [],
   "source": [
    "hh_data = hh_data[[\"ZIP\", 'Estimate!!Total!!HOUSEHOLDS!!Average household size']]"
   ]
  },
  {
   "cell_type": "code",
   "execution_count": null,
   "id": "dc07d378",
   "metadata": {},
   "outputs": [],
   "source": [
    "hh_data"
   ]
  },
  {
   "cell_type": "code",
   "execution_count": null,
   "id": "4908436c",
   "metadata": {},
   "outputs": [],
   "source": [
    "hh_data.to_csv('../data-files/household_size.csv')"
   ]
  }
 ],
 "metadata": {
  "kernelspec": {
   "display_name": "Python 3 (ipykernel)",
   "language": "python",
   "name": "python3"
  },
  "language_info": {
   "codemirror_mode": {
    "name": "ipython",
    "version": 3
   },
   "file_extension": ".py",
   "mimetype": "text/x-python",
   "name": "python",
   "nbconvert_exporter": "python",
   "pygments_lexer": "ipython3",
   "version": "3.8.13"
  }
 },
 "nbformat": 4,
 "nbformat_minor": 5
}
