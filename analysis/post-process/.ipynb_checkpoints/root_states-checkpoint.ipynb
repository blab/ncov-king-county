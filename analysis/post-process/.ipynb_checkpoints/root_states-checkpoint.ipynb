{
 "cells": [
  {
   "cell_type": "code",
   "execution_count": null,
   "id": "bcbfbeeb",
   "metadata": {},
   "outputs": [],
   "source": [
    "import baltic as bt\n",
    "import pandas as pd\n",
    "import matplotlib as mpl\n",
    "from matplotlib import pyplot as plt\n",
    "from datetime import datetime as dt\n",
    "from datetime import timedelta\n",
    "import matplotlib.lines as mlines\n",
    "import time\n",
    "from io import StringIO\n",
    "import altair as alt\n",
    "import numpy as np\n",
    "import random\n",
    "alt.data_transformers.disable_max_rows()"
   ]
  },
  {
   "cell_type": "code",
   "execution_count": null,
   "id": "fa8bb533",
   "metadata": {},
   "outputs": [],
   "source": [
    "trees = \"../../mascot_glm/results/glm_mcc_map_randomkc_clusters_combined_new.typed.trees\""
   ]
  },
  {
   "cell_type": "markdown",
   "id": "16ccb3bc",
   "metadata": {},
   "source": [
    "### Work on calculating ancestral root states of clusters\n"
   ]
  },
  {
   "cell_type": "code",
   "execution_count": null,
   "id": "1034589f",
   "metadata": {},
   "outputs": [],
   "source": [
    "dates1= pd.date_range('2020-01','2022-04' , freq='1M').strftime('%Y-%m')#-pd.offsets.MonthBegin(1)\n",
    "date_df = pd.DataFrame(dates1)\n",
    "date_df = date_df.rename(columns = {0: 'yearmonth'})\n",
    "date_df['first_day'] = pd.date_range('2020-01','2022-04' , freq='1M')-pd.offsets.MonthBegin(1)\n",
    "date_df['last_day'] =  pd.date_range('2020-01','2022-04' , freq='1M')\n",
    "date_df.first_day= date_df.first_day.map(toYearFraction)\n",
    "date_df.last_day= date_df.last_day.map(toYearFraction)"
   ]
  },
  {
   "cell_type": "code",
   "execution_count": null,
   "id": "3ac8ae2b",
   "metadata": {},
   "outputs": [],
   "source": [
    "def bl_overtime(date_df, tree, condition=lambda x:True):\n",
    "    output_dict = {}\n",
    "    for index, row in date_df.iterrows():\n",
    "        north_bl = []\n",
    "        south_bl = []\n",
    "        for k in tree.Objects:\n",
    "            try:\n",
    "                if k.parent.absoluteTime != None and row.first_day<=k.parent.absoluteTime<row.last_day and condition(k) and k.parent.traits['typeTrait'] ==\"North_King_County\":\n",
    "                    if k.absoluteTime > row.last_day:\n",
    "                        child_time = row.last_day \n",
    "                    else:\n",
    "                        child_time = k.absoluteTime\n",
    "                    \n",
    "                    bl = child_time- k.parent.absoluteTime\n",
    "                    north_bl.append(bl)\n",
    "                    \n",
    "            except KeyError:\n",
    "                continue\n",
    " \n",
    "            try:\n",
    "                if k.parent.absoluteTime != None and row.first_day<=k.parent.absoluteTime<row.last_day and condition(k) and k.parent.traits['typeTrait'] ==\"South_King_County\":\n",
    "                    if k.absoluteTime > row.last_day:\n",
    "                        child_time = row.last_day \n",
    "                    else:\n",
    "                        child_time = k.absoluteTime\n",
    "                    \n",
    "                    bl = child_time- k.parent.absoluteTime\n",
    "                    south_bl.append(bl)\n",
    "                    \n",
    "            except KeyError:\n",
    "                continue\n",
    "                \n",
    "        total_bl_n = sum(north_bl)\n",
    "        \n",
    "        total_bl_s = sum(south_bl)\n",
    "        \n",
    "        output_dict[index] = {\"yearmonth\":row.yearmonth, \"total_bl_n\":total_bl_n, \"total_bl_s\": total_bl_s}    \n",
    "    return(output_dict)  "
   ]
  },
  {
   "cell_type": "code",
   "execution_count": null,
   "id": "d34a6acd",
   "metadata": {},
   "outputs": [],
   "source": [
    "def enumerate_root_states(tree):\n",
    "        \n",
    "    output_dict = {}\n",
    "    migration_events_counter = 0\n",
    "        \n",
    "    for k in tree.Objects:\n",
    "        if k.traits == {}:\n",
    "            k.traits = {'obs': 0.0, 'typeTrait':\"root\"}\n",
    "        elif k.traits['obs'] ==  0.0:\n",
    "            k.traits = {'obs': 0.0, 'typeTrait':\"none\"}\n",
    "        \n",
    "        trait = k.traits['typeTrait']\n",
    "        parent_node = k.parent\n",
    "        if ('root' in parent_node.traits) or (parent_node.traits == {}) :\n",
    "            parent_trait = \"root\"\n",
    "        \n",
    "        # only write out migration events that are from none/other to a region\n",
    "        else:\n",
    "\n",
    "        \n",
    "            parent_trait = parent_node.traits['typeTrait']\n",
    "        \n",
    "            if trait != parent_trait:\n",
    "                migration_events_counter += 1\n",
    "                migration_event = parent_trait + \"-to-\" + trait\n",
    "                migration_date = parent_node.absoluteTime  \n",
    "                if trait == \"South_King_County\" or trait == \"North_King_County\":\n",
    "                    try:\n",
    "                        concurrent_lineages = countLineages_ns(tree, parent_node.absoluteTime, region = trait)\n",
    "                        concurrent_bl = countBL_ns(tree, parent_node.absoluteTime, region = trait)\n",
    "                    except: \n",
    "                        pass\n",
    "                else: \n",
    "                    concurrent_lineages = np.nan\n",
    "                    concurrent_bl = np.nan\n",
    "\n",
    "                \n",
    "\n",
    "                # write to output dictionary\n",
    "                output_dict[migration_events_counter] = {\"type\":migration_event, \"date\":migration_date, 'lineages': concurrent_lineages,\n",
    "                                                         \"branch_lengths\" : concurrent_bl,\n",
    "                                                        \"parent_host\":parent_trait,\n",
    "                                                        \"child_host\": trait}\n",
    "    \n",
    "    return(output_dict)"
   ]
  },
  {
   "cell_type": "code",
   "execution_count": null,
   "id": "a771601c",
   "metadata": {},
   "outputs": [],
   "source": [
    "start_time = time.time()\n",
    "\n",
    "with open(trees, \"r\") as infile:\n",
    "    \n",
    "    tree_counter = 0\n",
    "    trees_processed = 0\n",
    "    migrations_dict = {}\n",
    "    time_dict = {}\n",
    "    \n",
    "    for line in infile:\n",
    "       # print(line)\n",
    "        if 'tree STATE_' in line:\n",
    "            tree_counter += 1\n",
    "            \n",
    "\n",
    "            temp_tree = StringIO(line)\n",
    "            tree = bt.loadNexus(temp_tree, absoluteTime = False)\n",
    "            tree.setAbsoluteTime(2022.1753424657534)\n",
    "            trees_processed += 1\n",
    "\n",
    "            # iterate through the tree and pull out all migration events\n",
    "            migrations_dict[tree_counter] = enumerate_root_states(tree)\n",
    "            time_dict[tree_counter] = bl_overtime(date_df, tree)\n",
    "\n",
    "# print the amount of time this took\n",
    "total_time_seconds = time.time() - start_time\n",
    "total_time_minutes = total_time_seconds/60\n",
    "print(\"this took\", total_time_seconds, \"seconds (\", total_time_minutes,\" minutes) to run on\", trees_processed, \"trees\")"
   ]
  },
  {
   "cell_type": "code",
   "execution_count": null,
   "id": "6fd6739d",
   "metadata": {},
   "outputs": [],
   "source": [
    "migrations_df = pd.DataFrame.from_dict({(i,j): migrations_dict[i][j] \n",
    "                           for i in migrations_dict.keys() \n",
    "                           for j in migrations_dict[i].keys()},\n",
    "                       orient='index')\n",
    "migrations_df\n",
    "migrations_df.reset_index(inplace=True)\n",
    "migrations_df.rename(columns={'level_0': 'tree_number', 'level_1': 'migration_event_number'}, inplace=True)\n",
    "migrations_df.head()"
   ]
  },
  {
   "cell_type": "code",
   "execution_count": null,
   "id": "3e209cef",
   "metadata": {},
   "outputs": [],
   "source": [
    "time_df = pd.DataFrame.from_dict({(i,j): time_dict[i][j] \n",
    "                           for i in time_dict.keys() \n",
    "                           for j in time_dict[i].keys()},\n",
    "                       orient='index')\n",
    "time_df\n",
    "time_df.reset_index(inplace=True)\n",
    "time_df.rename(columns={'level_0': 'tree_number', 'level_1': 'event_number', 'yearmonth': 'year-month'}, inplace=True)\n",
    "time_df"
   ]
  },
  {
   "cell_type": "code",
   "execution_count": null,
   "id": "723d0b6f",
   "metadata": {},
   "outputs": [],
   "source": [
    "migrations_df.lineages.value_counts()"
   ]
  },
  {
   "cell_type": "code",
   "execution_count": null,
   "id": "f241c126",
   "metadata": {},
   "outputs": [],
   "source": [
    "#need to convert the decimal dates back to calendar dates cause it be like that sometimes \n",
    "def convert_partial_year(number):\n",
    "\n",
    "    year = int(number)\n",
    "    d = timedelta(days=(number - year)*(365 + is_leap(year)))\n",
    "    day_one = dt(year,1,1)\n",
    "    date = d + day_one\n",
    "    date = dt.strftime(date, '%Y-%m-%d')\n",
    "    return date"
   ]
  },
  {
   "cell_type": "code",
   "execution_count": null,
   "id": "be811b11",
   "metadata": {},
   "outputs": [],
   "source": [
    "def is_leap(number):\n",
    "    if number == 2020:\n",
    "        leap = 1\n",
    "    else:\n",
    "        leap = 0\n",
    "    return leap"
   ]
  },
  {
   "cell_type": "code",
   "execution_count": null,
   "id": "2e37c1e6",
   "metadata": {},
   "outputs": [],
   "source": [
    "def convert_format(number):\n",
    "    date = dt.strptime(number, '%Y-%m-%d')\n",
    "    date = dt.strftime(date, '%Y-%m')\n",
    "    return date"
   ]
  },
  {
   "cell_type": "code",
   "execution_count": null,
   "id": "6091ebdf",
   "metadata": {},
   "outputs": [],
   "source": [
    "migrations_df['calendar_date'] = migrations_df.date.map(convert_partial_year)"
   ]
  },
  {
   "cell_type": "code",
   "execution_count": null,
   "id": "05f282ae",
   "metadata": {},
   "outputs": [],
   "source": [
    "migrations_df['year-month'] = migrations_df['calendar_date'].map(convert_format)"
   ]
  },
  {
   "cell_type": "code",
   "execution_count": null,
   "id": "1fa151a4",
   "metadata": {},
   "outputs": [],
   "source": [
    "migrations_df"
   ]
  },
  {
   "cell_type": "code",
   "execution_count": null,
   "id": "7efc1538",
   "metadata": {},
   "outputs": [],
   "source": [
    "merged_mr_df = pd.merge(migrations_df, time_df, on = ['tree_number', 'year-month'], how = 'left')"
   ]
  },
  {
   "cell_type": "code",
   "execution_count": null,
   "id": "38b22b56",
   "metadata": {},
   "outputs": [],
   "source": [
    "merged_mr_df"
   ]
  },
  {
   "cell_type": "code",
   "execution_count": null,
   "id": "c5cd26b1",
   "metadata": {},
   "outputs": [],
   "source": [
    "\n",
    "def return_proportions_dataframe(input_df, time_unit):\n",
    "    output_df = pd.DataFrame()\n",
    "    north_kc = [\"South_King_County-to-North_King_County\", \"none-to-North_King_County\"]\n",
    "    south_kc = [\"North_King_County-to-South_King_County\", \"none-to-South_King_County\"]\n",
    "    \n",
    "    for tree_number in set(input_df['tree_number'].tolist()):\n",
    "        local_df1 = input_df[input_df['tree_number'] == tree_number]\n",
    "        \n",
    "        for v in list(set(input_df['type'].tolist())):\n",
    "            local_df = local_df1[local_df1['type'] == v]\n",
    "            total_transitions = len(local_df)\n",
    "\n",
    "            for item in set(input_df[time_unit].tolist()):\n",
    "                local_df2 = local_df[local_df[time_unit] == item]\n",
    "                transitions_in_time_unit = len(local_df2)\n",
    "                average_lin = local_df2.lineages.mean()\n",
    "                if v in north_kc:\n",
    "                    average_bl = local_df2.total_bl_n.mean()\n",
    "                elif v in south_kc: \n",
    "                    average_bl = local_df2.total_bl_s.mean()\n",
    "                    \n",
    "                if total_transitions != 0:\n",
    "                    prop_transitions_in_time_unit = transitions_in_time_unit/total_transitions\n",
    "                else:\n",
    "                    prop_transitions_in_time_unit = 0\n",
    "                \n",
    "                if transitions_in_time_unit != 0:\n",
    "                    mig_per_bl = transitions_in_time_unit/average_bl\n",
    "                else:\n",
    "                    mig_per_bl = 0\n",
    "                    \n",
    "                if transitions_in_time_unit != 0:\n",
    "                    mig_per_lineage = transitions_in_time_unit/average_lin\n",
    "                else:\n",
    "                    mig_per_lineage = 0\n",
    "\n",
    "                to_add = pd.DataFrame({\"migration_direction\":[v],time_unit:[item],\"tree_number\":[tree_number], \n",
    "                                       \"total_transitions\":[total_transitions],\n",
    "                                       \"transitions_in_time_interval\":[transitions_in_time_unit],\n",
    "                                      \"proportion_transitions_in_time_interval\":[prop_transitions_in_time_unit], \"mig_per_lineage\":[mig_per_lineage], \"mig_per_bl\":[mig_per_bl]})\n",
    "                output_df = output_df.append(to_add)\n",
    "            \n",
    "    return(output_df)"
   ]
  },
  {
   "cell_type": "code",
   "execution_count": null,
   "id": "e04e2fa8",
   "metadata": {},
   "outputs": [],
   "source": [
    "start_time = time.time()\n",
    "\n",
    "mig = return_proportions_dataframe(merged_mr_df, \"year-month\")\n",
    "\n",
    "total_time_seconds = time.time() - start_time\n",
    "total_time_minutes = total_time_seconds/60\n",
    "print(total_time_minutes)\n",
    "\n",
    "mig.head()"
   ]
  },
  {
   "cell_type": "code",
   "execution_count": null,
   "id": "d08fc947",
   "metadata": {},
   "outputs": [],
   "source": [
    "\n",
    "mig_coll = mig\n",
    "mig_coll['region'] = np.nan\n",
    "mig_coll.loc[(mig_coll.migration_direction == \"none-to-South_King_County\"), \"region\"] = \"South King County\"\n",
    "mig_coll.loc[(mig_coll.migration_direction == \"none-to-North_King_County\"), \"region\"] = \"North King County\"\n",
    "mig_coll = mig_coll[mig_coll['year-month'] >\"2020-01\"]\n",
    "\n"
   ]
  },
  {
   "cell_type": "code",
   "execution_count": null,
   "id": "a7286838",
   "metadata": {},
   "outputs": [],
   "source": [
    "mig_coll = mig_coll.dropna(subset = [\"region\"])"
   ]
  },
  {
   "cell_type": "code",
   "execution_count": null,
   "id": "0b604acc",
   "metadata": {},
   "outputs": [],
   "source": [
    "mig_coll"
   ]
  },
  {
   "cell_type": "code",
   "execution_count": null,
   "id": "4ad0d2c4",
   "metadata": {},
   "outputs": [],
   "source": [
    "mig_coll = mig_coll[mig_coll['year-month'] <\"2022-04\"]\n",
    "#mig_coll.to_csv(\"../data-files/root_states_df.csv\")"
   ]
  },
  {
   "cell_type": "code",
   "execution_count": null,
   "id": "d4aeff70",
   "metadata": {},
   "outputs": [],
   "source": [
    "#highlighting important NPIs in WA\n",
    "data = {'date': [ \"2020-03-23\", \"2020-06-01\", \"2020-11-18\", \"2021-02-14\"], 'event':[ \"Stay at home\", \"Stay at home lifted\", \"Closing restaurants\", \"Reopening restaurants\"]}\n",
    "\n",
    "npidf = pd.DataFrame(data)\n",
    "npidf.date = pd.to_datetime(npidf.date)\n",
    "\n",
    "rule = alt.Chart(npidf).mark_rule(\n",
    "    color=\"black\",\n",
    "    strokeWidth=2, \n",
    "    opacity = 0.3\n",
    ").encode(\n",
    "    alt.X('date:T', axis=alt.Axis(title=None))\n",
    ").properties(\n",
    "    width=800,\n",
    "    height=300\n",
    ")\n",
    "\n",
    "text = alt.Chart(npidf).mark_text(\n",
    "    align='left',\n",
    "    baseline='middle',\n",
    "    dx=2,\n",
    "    dy=-135,\n",
    "    size=11\n",
    ").encode(\n",
    "    alt.X('date:T',axis=alt.Axis(title=None)),\n",
    "    text='event',\n",
    "    color=alt.value('#000000')\n",
    ").properties(\n",
    "    width=800,\n",
    "    height=300\n",
    ")"
   ]
  },
  {
   "cell_type": "code",
   "execution_count": null,
   "id": "f3085200",
   "metadata": {},
   "outputs": [],
   "source": [
    "lineplot =  alt.Chart(mig_coll, width = 750).mark_line(interpolate='monotone').encode(\n",
    "    x=alt.X('year-month:T',axis=alt.Axis( grid=False)),\n",
    "    y=alt.Y('mean(mig_per_bl)',  axis=alt.Axis(title=\"Cluster Root States\", grid=False)),\n",
    "    color=alt.Color('region:N')).properties(\n",
    "    width=800,\n",
    "    height=300\n",
    ")\n",
    "\n",
    "band = alt.Chart(mig_coll).mark_errorband(extent='ci', interpolate='monotone').encode(\n",
    "    x=alt.X('year-month:T'),\n",
    "    y=alt.Y('mig_per_bl', axis = alt.Axis(title = \"\", grid = False)), \n",
    "    color =alt.Color('region:N')\n",
    "    \n",
    ").properties(\n",
    "    width=800,\n",
    "    height=300\n",
    ")"
   ]
  },
  {
   "cell_type": "code",
   "execution_count": null,
   "id": "3acdf20b",
   "metadata": {},
   "outputs": [],
   "source": [
    "root_states = lineplot + band + rule + text"
   ]
  },
  {
   "cell_type": "code",
   "execution_count": null,
   "id": "a49fe531",
   "metadata": {},
   "outputs": [],
   "source": [
    "root_states "
   ]
  },
  {
   "cell_type": "code",
   "execution_count": null,
   "id": "5caae7ff",
   "metadata": {},
   "outputs": [],
   "source": [
    "chart = alt.Chart(mig_coll).mark_bar().encode(\n",
    "    alt.X('year-month:O'), \n",
    "    alt.Color('region:N'),\n",
    "    alt.Y(\"mean(mig_per_bl)\", stack=\"normalize\", title='root states per bl'))\n",
    "\n"
   ]
  },
  {
   "cell_type": "code",
   "execution_count": null,
   "id": "6a7f966b",
   "metadata": {},
   "outputs": [],
   "source": [
    "chart"
   ]
  },
  {
   "cell_type": "code",
   "execution_count": null,
   "id": "8682d436",
   "metadata": {},
   "outputs": [],
   "source": [
    "#chart.save(\"root_states_normalized.png\")"
   ]
  },
  {
   "cell_type": "code",
   "execution_count": null,
   "id": "01bb13a2",
   "metadata": {},
   "outputs": [],
   "source": [
    "error_bars = alt.Chart(mig_coll).mark_errorbar(extent='ci').encode(\n",
    "  x=alt.X('mig_per_bl:Q', scale=alt.Scale(zero=False)),\n",
    "  y=alt.Y('region:N')\n",
    ")\n",
    "\n",
    "points = alt.Chart(mig_coll).mark_point(filled=True, color='black').encode(\n",
    "  x=alt.X('mig_per_bl:Q', aggregate='mean'),\n",
    "  y=alt.Y('region:N'),\n",
    ")\n",
    "\n",
    "ave = error_bars + points\n",
    "ave"
   ]
  },
  {
   "cell_type": "code",
   "execution_count": null,
   "id": "be019898",
   "metadata": {},
   "outputs": [],
   "source": []
  }
 ],
 "metadata": {
  "kernelspec": {
   "display_name": "Python 3 (ipykernel)",
   "language": "python",
   "name": "python3"
  },
  "language_info": {
   "codemirror_mode": {
    "name": "ipython",
    "version": 3
   },
   "file_extension": ".py",
   "mimetype": "text/x-python",
   "name": "python",
   "nbconvert_exporter": "python",
   "pygments_lexer": "ipython3",
   "version": "3.8.13"
  }
 },
 "nbformat": 4,
 "nbformat_minor": 5
}
