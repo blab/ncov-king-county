{
 "cells": [
  {
   "cell_type": "code",
   "execution_count": null,
   "id": "27196a80",
   "metadata": {},
   "outputs": [],
   "source": [
    "import pandas as pd\n",
    "import numpy as np\n",
    "import altair as alt\n",
    "from altair import datum\n",
    "alt.data_transformers.disable_max_rows()"
   ]
  },
  {
   "cell_type": "code",
   "execution_count": null,
   "id": "64cbee3e",
   "metadata": {},
   "outputs": [],
   "source": [
    "\n",
    "#highlighting important NPIs in WA\n",
    "data = {'date': [ \"2020-03-23\", \"2020-06-01\", \"2020-11-18\", \"2021-02-14\"], 'event':[ \"Stay at home\", \"Stay at home lifted\", \"Closing restaurants\", \"Reopening restaurants\"]}\n",
    "\n",
    "npidf = pd.DataFrame(data)\n",
    "npidf.date = pd.to_datetime(npidf.date)\n",
    "\n",
    "rule = alt.Chart(npidf).mark_rule(\n",
    "    color=\"black\",\n",
    "    strokeWidth=2, \n",
    "    opacity = 0.3\n",
    ").encode(\n",
    "    alt.X('date:T', axis=alt.Axis(title=None))\n",
    ").properties(\n",
    "    width=800,\n",
    "    height=300\n",
    ")\n",
    "\n",
    "text = alt.Chart(npidf).mark_text(\n",
    "    align='left',\n",
    "    baseline='middle',\n",
    "    dx=2,\n",
    "    dy=-135,\n",
    "    size=13\n",
    ").encode(\n",
    "    alt.X('date:T',axis=alt.Axis(title=None)),\n",
    "    text='event',\n",
    "    color=alt.value('#000000')\n",
    ").properties(\n",
    "    width=800,\n",
    "    height=300\n",
    ")"
   ]
  },
  {
   "cell_type": "code",
   "execution_count": null,
   "id": "f4a3fc4b",
   "metadata": {},
   "outputs": [],
   "source": [
    "north_percent_intro= \"../data-files/north_percent_intro.csv\"\n",
    "south_percent_intro = \"../data-files/south_percent_intro.csv\"\n",
    "percent_intro_mob = \"../data-files/percent_intro_from_mob.csv\""
   ]
  },
  {
   "cell_type": "code",
   "execution_count": null,
   "id": "b5828be5",
   "metadata": {},
   "outputs": [],
   "source": [
    "\n",
    "north_df = pd.read_csv(north_percent_intro)\n",
    "south_df = pd.read_csv(south_percent_intro)\n",
    "mob_df = pd.read_csv(percent_intro_mob)\n",
    "north_rt_df = pd.read_csv(\"../data-files/combined_rt_north.csv\")\n",
    "\n",
    "south_rt_df = pd.read_csv(\"../data-files/combined_rt_south.csv\")"
   ]
  },
  {
   "cell_type": "code",
   "execution_count": null,
   "id": "9218515a",
   "metadata": {},
   "outputs": [],
   "source": [
    "mob_df = mob_df[mob_df.date < \"2022-03-02\"]\n",
    "mob_df = mob_df[mob_df.date > \"2020-02-01\"]"
   ]
  },
  {
   "cell_type": "code",
   "execution_count": null,
   "id": "90b10f19",
   "metadata": {},
   "outputs": [],
   "source": [
    "mob_df = mob_df.drop(columns = ['Unnamed: 0'])\n",
    "mob_df = mob_df.rename(columns={\"Region\": \"Region (mobility data)\"})"
   ]
  },
  {
   "cell_type": "code",
   "execution_count": null,
   "id": "a42933dc",
   "metadata": {},
   "outputs": [],
   "source": [
    "mob_long = mob_df.melt('date', var_name='Region (mobility data)', value_name='movement')"
   ]
  },
  {
   "cell_type": "code",
   "execution_count": null,
   "id": "13a0ef39",
   "metadata": {},
   "outputs": [],
   "source": [
    "mob_long"
   ]
  },
  {
   "cell_type": "code",
   "execution_count": null,
   "id": "4fb80dd8",
   "metadata": {},
   "outputs": [],
   "source": [
    "percent_cases_from_intro_mob = alt.Chart(mob_long, width = 750).mark_line(interpolate='monotone', opacity = 1.0, color = \"black\").encode(\n",
    "    alt.X('date:T', axis=alt.Axis(title=None, grid=False)),\n",
    "    alt.Y('movement:Q',axis=alt.Axis(title=\"\", grid=False)), \n",
    "    alt.StrokeDash(\"Region (mobility data):N\", legend=alt.Legend(orient = \"none\", legendX = 870, legendY= 50, labelFontSize = 12, titleFontSize = 12))).properties(\n",
    "    width=800,\n",
    "    height=400\n",
    ")\n",
    "\n",
    "\n",
    "percent_cases_from_intro_mob"
   ]
  },
  {
   "cell_type": "code",
   "execution_count": null,
   "id": "46853140",
   "metadata": {},
   "outputs": [],
   "source": [
    "north_test = north_df[north_df.date < \"2022-03-02\"]\n",
    "south_test = south_df[south_df.date <\"2022-03-02\"]"
   ]
  },
  {
   "cell_type": "code",
   "execution_count": null,
   "id": "5fc3b909",
   "metadata": {},
   "outputs": [],
   "source": [
    "north_test[\"Region (sequence data)\"] = \"North King County\"\n",
    "south_test[\"Region (sequence data)\"] = \"South King County\"\n",
    "\n",
    "combined_percent = pd.concat([ north_test, south_test], ignore_index=True)"
   ]
  },
  {
   "cell_type": "code",
   "execution_count": null,
   "id": "f7112f17",
   "metadata": {},
   "outputs": [],
   "source": [
    "combined_percent"
   ]
  },
  {
   "cell_type": "code",
   "execution_count": null,
   "id": "e0158b70",
   "metadata": {},
   "outputs": [],
   "source": [
    "line1 = alt.Chart(combined_percent).mark_area(interpolate='monotone').encode(\n",
    "    alt.X('date:T', axis=alt.Axis(title=\"\", grid=False,  format=\"%B %Y\")),\n",
    "    alt.Y('lower_hpd_log_50',axis=alt.Axis(title=\"Percent of cases due to introductions\", grid=False, format='%')),\n",
    "    alt.Y2('upper_hpd_log_50' ),\n",
    "    alt.Color(\"Region (sequence data):N\", legend=alt.Legend(offset = -140, labelFontSize = 12, titleFontSize = 12))\n",
    ").properties(\n",
    "    width=1000,\n",
    "    height=300\n",
    ").transform_filter(\n",
    "    (datum.lower_hpd_log_50 >0) & (datum.upper_hpd_log_50 < 1)\n",
    ")\n",
    "\n",
    "band1 = alt.Chart(combined_percent).mark_area(\n",
    "    opacity=0.3, interpolate='monotone'\n",
    ").encode(\n",
    "    alt.X('date:T', axis=alt.Axis(title=\"\", grid=False)),\n",
    "    alt.Y('lower_hpd_log_95', axis=alt.Axis(title=\"\", grid=False)),\n",
    "    alt.Y2('upper_hpd_log_95'), \n",
    "    alt.Color(\"Region (sequence data):N\")\n",
    ").properties(\n",
    "    width=1000,\n",
    "    height=300\n",
    ").transform_filter(\n",
    "    (datum.lower_hpd_log_95 >0) & (datum.upper_hpd_log_95 < 0.7)\n",
    ")\n",
    "\n",
    "band1 + line1"
   ]
  },
  {
   "cell_type": "code",
   "execution_count": null,
   "id": "5bb55831",
   "metadata": {},
   "outputs": [],
   "source": [
    "percent_case_intro = band1+ line1\n",
    "percent_case_intro.configure_axis(\n",
    "    labelFontSize=14,\n",
    "    titleFontSize=14\n",
    ")"
   ]
  },
  {
   "cell_type": "code",
   "execution_count": null,
   "id": "ce5b9b89",
   "metadata": {},
   "outputs": [],
   "source": [
    "stream_south = alt.Chart(south_rt_df, title = \"South King County\").mark_area(interpolate='monotone', opacity = .7 ,color = \"#f58518\", clip = True).encode(\n",
    "    alt.X('date:T', axis=alt.Axis(title=\"\", grid=False,format=\"%B %Y\")),\n",
    "    alt.Y('mean_percent',axis=alt.Axis(title=\"\", grid=False), stack = False, scale=alt.Scale(domain=(0, 2.5))),\n",
    "    #alt.Y2('upper_hpd_log_50' ), \n",
    "    alt.Color('Contribution:N', scale=alt.Scale(domain = ['Local', \"Other King County Region\", \"Outside King County\"], range = [ \"#4c90c0\", \"#ceb541\", \"#df4327\"]),\n",
    "             legend=alt.Legend(offset = -160, labelFontSize = 12, titleFontSize = 12))\n",
    ").properties(\n",
    "    width=475,\n",
    "    height=300\n",
    ").transform_filter(\n",
    "    (datum.mean_percent >0) & (datum.mean_percent < 2.5)\n",
    ")\n",
    "\n",
    "stream_north = alt.Chart(north_rt_df, title = \"North King County\").mark_area(interpolate='monotone', opacity = .7 ,color = \"#f58518\", clip = True).encode(\n",
    "    alt.X('date:T', axis=alt.Axis(title=\"\", grid=False,format=\"%B %Y\")),\n",
    "    alt.Y('mean_percent',axis=alt.Axis(title=\"Local Rt\", grid=False),stack = False, scale=alt.Scale(domain=(0, 2.5))),\n",
    "    #alt.Y2('upper_hpd_log_50' ), \n",
    "    alt.Color('Contribution:N', scale=alt.Scale(domain = ['Local', \"Other King County Region\", \"Outside King County\"], range = [ \"#4c90c0\", \"#ceb541\", \"#df4327\"]))\n",
    ").properties(\n",
    "    width=475,\n",
    "    height=300\n",
    ").transform_filter(\n",
    "    (datum.mean_percent >0) & (datum.mean_percent < 2.5)\n",
    ")\n",
    "\n",
    "one_line = alt.Chart(pd.DataFrame({'y': [1.0]})).mark_rule(strokeDash=[1,1]).encode(y='y')"
   ]
  },
  {
   "cell_type": "code",
   "execution_count": null,
   "id": "f059851b",
   "metadata": {},
   "outputs": [],
   "source": [
    "rt_streamplot = ((stream_north +one_line) | (stream_south+one_line))\n",
    "rt_streamplot"
   ]
  },
  {
   "cell_type": "code",
   "execution_count": null,
   "id": "fea00e22",
   "metadata": {},
   "outputs": [],
   "source": [
    "combined_percent_intro = (percent_case_intro + percent_cases_from_intro_mob)\n",
    "combined_percent_intro"
   ]
  },
  {
   "cell_type": "code",
   "execution_count": null,
   "id": "7407f46f",
   "metadata": {},
   "outputs": [],
   "source": [
    "figure5 = (combined_percent_intro & rt_streamplot).resolve_scale(color = \"independent\").configure_axis(\n",
    "    labelFontSize=14,\n",
    "    titleFontSize=14\n",
    ")\n",
    "figure5"
   ]
  },
  {
   "cell_type": "code",
   "execution_count": null,
   "id": "11eb8c33",
   "metadata": {},
   "outputs": [],
   "source": [
    "figure5.save(\"../figures/figure5.html\")"
   ]
  },
  {
   "cell_type": "code",
   "execution_count": null,
   "id": "074d1aca",
   "metadata": {},
   "outputs": [],
   "source": [
    "figure5 = persist & percent_case_intro\n",
    "figure5 = figure5.configure_axis(\n",
    "    labelFontSize=14,\n",
    "    titleFontSize=14\n",
    ")\n",
    "figure5"
   ]
  },
  {
   "cell_type": "code",
   "execution_count": null,
   "id": "0d0600a2",
   "metadata": {},
   "outputs": [],
   "source": [
    "#figure5.save(\"figure5_percent.png\")"
   ]
  },
  {
   "cell_type": "code",
   "execution_count": null,
   "id": "e57e1f18",
   "metadata": {},
   "outputs": [],
   "source": []
  }
 ],
 "metadata": {
  "kernelspec": {
   "display_name": "Python 3 (ipykernel)",
   "language": "python",
   "name": "python3"
  },
  "language_info": {
   "codemirror_mode": {
    "name": "ipython",
    "version": 3
   },
   "file_extension": ".py",
   "mimetype": "text/x-python",
   "name": "python",
   "nbconvert_exporter": "python",
   "pygments_lexer": "ipython3",
   "version": "3.8.13"
  }
 },
 "nbformat": 4,
 "nbformat_minor": 5
}
