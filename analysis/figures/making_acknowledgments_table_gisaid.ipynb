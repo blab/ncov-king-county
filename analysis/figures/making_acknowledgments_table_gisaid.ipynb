{
 "cells": [
  {
   "cell_type": "code",
   "execution_count": 2,
   "id": "3accba8b",
   "metadata": {},
   "outputs": [],
   "source": [
    "import pandas as pd\n",
    "#import dendropy\n",
    "import numpy as np\n",
    "import re\n",
    "import random"
   ]
  },
  {
   "cell_type": "code",
   "execution_count": 26,
   "id": "9124b0a6",
   "metadata": {},
   "outputs": [
    {
     "name": "stderr",
     "output_type": "stream",
     "text": [
      "/var/folders/h9/0347drb57tsgxzbddmvmlvf80000gp/T/ipykernel_72638/2572941365.py:2: DtypeWarning: Columns (29) have mixed types. Specify dtype option on import or set low_memory=False.\n",
      "  metadata_delta = pd.read_csv(\"~/Desktop/new_variants_pull/delta_sub_subsampled_metadata.tsv\", sep =\"\\t\")\n"
     ]
    }
   ],
   "source": [
    "metadata_alpha = pd.read_csv(\"~/Desktop/new_variants_pull/alpha_sub_subsampled_metadata.tsv\", sep =\"\\t\")\n",
    "metadata_delta = pd.read_csv(\"~/Desktop/new_variants_pull/delta_sub_subsampled_metadata.tsv\", sep =\"\\t\")\n",
    "metadata_omicron = pd.read_csv(\"~/Desktop/new_variants_pull/omicron_sub_subsampled_metadata.tsv\", sep =\"\\t\")\n",
    "metadata_other = pd.read_csv(\"~/Desktop/new_variants_pull/other_sub_subsampled_metadata.tsv\", sep =\"\\t\")\n"
   ]
  },
  {
   "cell_type": "code",
   "execution_count": 27,
   "id": "52df4dac",
   "metadata": {},
   "outputs": [
    {
     "data": {
      "text/plain": [
       "Index(['strain', 'Unnamed: 0.1', 'virus', 'gisaid_epi_isl',\n",
       "       'genbank_accession', 'sra_accession', 'date', 'region', 'country',\n",
       "       'division', 'location', 'region_exposure', 'country_exposure',\n",
       "       'division_exposure', 'segment', 'length', 'host', 'age', 'sex',\n",
       "       'Nextstrain_clade', 'pango_lineage', 'GISAID_clade', 'originating_lab',\n",
       "       'submitting_lab', 'authors', 'url', 'title', 'paper_url',\n",
       "       'date_submitted', 'sampling_strategy', 'Nextclade_pango',\n",
       "       'missing_data', 'divergence', 'nonACGTN', 'rare_mutations',\n",
       "       'reversion_mutations', 'potential_contaminants', 'QC_missing_data',\n",
       "       'QC_mixed_sites', 'QC_rare_mutations', 'QC_snp_clusters',\n",
       "       'QC_frame_shifts', 'QC_stop_codons', 'QC_overall_score',\n",
       "       'QC_overall_status', 'frame_shifts', 'deletions', 'insertions',\n",
       "       'substitutions', 'aaSubstitutions', 'clock_deviation', 'Unnamed: 0',\n",
       "       'Puma', 'COUNTY', 'ns_kc'],\n",
       "      dtype='object')"
      ]
     },
     "execution_count": 27,
     "metadata": {},
     "output_type": "execute_result"
    }
   ],
   "source": [
    "metadata_alpha.columns"
   ]
  },
  {
   "cell_type": "code",
   "execution_count": 28,
   "id": "06503887",
   "metadata": {},
   "outputs": [],
   "source": [
    "metadata_alpha = metadata_alpha[[\"strain\", \"gisaid_epi_isl\", \"genbank_accession\", \"authors\", \"originating_lab\", \"submitting_lab\",  'ns_kc' ]]\n",
    "metadata_delta = metadata_delta[[\"strain\", \"gisaid_epi_isl\", \"genbank_accession\", \"authors\", \"originating_lab\", \"submitting_lab\", 'ns_kc' ]]\n",
    "metadata_omicron = metadata_omicron[[\"strain\", \"gisaid_epi_isl\", \"genbank_accession\", \"authors\", \"originating_lab\", \"submitting_lab\",  'ns_kc']]\n",
    "metadata_other = metadata_other[[\"strain\", \"gisaid_epi_isl\", \"genbank_accession\", \"authors\", \"originating_lab\", \"submitting_lab\",  'ns_kc']]"
   ]
  },
  {
   "cell_type": "code",
   "execution_count": 29,
   "id": "f9acf0da",
   "metadata": {},
   "outputs": [],
   "source": [
    "var_list = [metadata_alpha, metadata_delta, metadata_omicron, metadata_other]\n",
    "final_acknowledgments_df = pd.concat(var_list)\n",
    "final_acknowledgments_df.to_csv(\"../../analysis/figures/final_acknowledgments_gisaid.csv\", index = False)"
   ]
  },
  {
   "cell_type": "code",
   "execution_count": 30,
   "id": "b1b2a2f2",
   "metadata": {},
   "outputs": [
    {
     "ename": "AttributeError",
     "evalue": "'DataFrame' object has no attribute 'location'",
     "output_type": "error",
     "traceback": [
      "\u001b[0;31m---------------------------------------------------------------------------\u001b[0m",
      "\u001b[0;31mAttributeError\u001b[0m                            Traceback (most recent call last)",
      "Input \u001b[0;32mIn [30]\u001b[0m, in \u001b[0;36m<cell line: 1>\u001b[0;34m()\u001b[0m\n\u001b[0;32m----> 1\u001b[0m final_acknowledgments_df[(\u001b[43mfinal_acknowledgments_df\u001b[49m\u001b[38;5;241;43m.\u001b[39;49m\u001b[43mlocation\u001b[49m \u001b[38;5;241m==\u001b[39m \u001b[38;5;124m\"\u001b[39m\u001b[38;5;124mKing County\u001b[39m\u001b[38;5;124m\"\u001b[39m) \u001b[38;5;241m&\u001b[39m (final_acknowledgments_df\u001b[38;5;241m.\u001b[39mns_kc \u001b[38;5;241m!=\u001b[39m \u001b[38;5;124m\"\u001b[39m\u001b[38;5;124mOther_King_County\u001b[39m\u001b[38;5;124m\"\u001b[39m)]\u001b[38;5;241m.\u001b[39msubmitting_lab\u001b[38;5;241m.\u001b[39mcount()\n",
      "File \u001b[0;32m~/opt/miniconda3/envs/nextstrain/lib/python3.8/site-packages/pandas/core/generic.py:5575\u001b[0m, in \u001b[0;36mNDFrame.__getattr__\u001b[0;34m(self, name)\u001b[0m\n\u001b[1;32m   5568\u001b[0m \u001b[38;5;28;01mif\u001b[39;00m (\n\u001b[1;32m   5569\u001b[0m     name \u001b[38;5;129;01mnot\u001b[39;00m \u001b[38;5;129;01min\u001b[39;00m \u001b[38;5;28mself\u001b[39m\u001b[38;5;241m.\u001b[39m_internal_names_set\n\u001b[1;32m   5570\u001b[0m     \u001b[38;5;129;01mand\u001b[39;00m name \u001b[38;5;129;01mnot\u001b[39;00m \u001b[38;5;129;01min\u001b[39;00m \u001b[38;5;28mself\u001b[39m\u001b[38;5;241m.\u001b[39m_metadata\n\u001b[1;32m   5571\u001b[0m     \u001b[38;5;129;01mand\u001b[39;00m name \u001b[38;5;129;01mnot\u001b[39;00m \u001b[38;5;129;01min\u001b[39;00m \u001b[38;5;28mself\u001b[39m\u001b[38;5;241m.\u001b[39m_accessors\n\u001b[1;32m   5572\u001b[0m     \u001b[38;5;129;01mand\u001b[39;00m \u001b[38;5;28mself\u001b[39m\u001b[38;5;241m.\u001b[39m_info_axis\u001b[38;5;241m.\u001b[39m_can_hold_identifiers_and_holds_name(name)\n\u001b[1;32m   5573\u001b[0m ):\n\u001b[1;32m   5574\u001b[0m     \u001b[38;5;28;01mreturn\u001b[39;00m \u001b[38;5;28mself\u001b[39m[name]\n\u001b[0;32m-> 5575\u001b[0m \u001b[38;5;28;01mreturn\u001b[39;00m \u001b[38;5;28;43mobject\u001b[39;49m\u001b[38;5;241;43m.\u001b[39;49m\u001b[38;5;21;43m__getattribute__\u001b[39;49m\u001b[43m(\u001b[49m\u001b[38;5;28;43mself\u001b[39;49m\u001b[43m,\u001b[49m\u001b[43m \u001b[49m\u001b[43mname\u001b[49m\u001b[43m)\u001b[49m\n",
      "\u001b[0;31mAttributeError\u001b[0m: 'DataFrame' object has no attribute 'location'"
     ]
    }
   ],
   "source": []
  },
  {
   "cell_type": "code",
   "execution_count": null,
   "id": "c5e16a8a",
   "metadata": {},
   "outputs": [],
   "source": []
  }
 ],
 "metadata": {
  "kernelspec": {
   "display_name": "Python 3 (ipykernel)",
   "language": "python",
   "name": "python3"
  },
  "language_info": {
   "codemirror_mode": {
    "name": "ipython",
    "version": 3
   },
   "file_extension": ".py",
   "mimetype": "text/x-python",
   "name": "python",
   "nbconvert_exporter": "python",
   "pygments_lexer": "ipython3",
   "version": "3.8.13"
  }
 },
 "nbformat": 4,
 "nbformat_minor": 5
}
