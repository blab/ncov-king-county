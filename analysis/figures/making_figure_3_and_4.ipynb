{
 "cells": [
  {
   "cell_type": "code",
   "execution_count": null,
   "id": "bcbc7a30",
   "metadata": {},
   "outputs": [],
   "source": [
    "import pandas as pd\n",
    "import numpy as np\n",
    "import geopandas  as gpd\n",
    "import altair as alt\n",
    "from datetime import timedelta\n",
    "from datetime import datetime as dt\n",
    "import datetime\n",
    "import json\n",
    "from altair import datum\n",
    "\n",
    "alt.data_transformers.disable_max_rows()"
   ]
  },
  {
   "cell_type": "code",
   "execution_count": null,
   "id": "05e1dbaf",
   "metadata": {},
   "outputs": [],
   "source": [
    "\n",
    "#highlighting important NPIs in WA\n",
    "data = {'date': [ \"2020-03-23\", \"2020-06-01\", \"2020-11-18\", \"2021-02-14\"], 'event':[ \"Stay at home\", \"Stay at home lifted\", \"Closing restaurants\", \"Reopening restaurants\"]}\n",
    "\n",
    "npidf = pd.DataFrame(data)\n",
    "npidf.date = pd.to_datetime(npidf.date)\n",
    "\n",
    "rule = alt.Chart(npidf).mark_rule(\n",
    "    color=\"black\",\n",
    "    strokeWidth=2, \n",
    "    opacity = 0.3\n",
    ").encode(\n",
    "    alt.X('date:T', axis=alt.Axis(title=None))\n",
    ").properties(\n",
    "    width=800,\n",
    "    height=300\n",
    ")\n",
    "\n",
    "text = alt.Chart(npidf).mark_text(\n",
    "    align='left',\n",
    "    baseline='middle',\n",
    "    dx=2,\n",
    "    dy=-135,\n",
    "    size=13\n",
    ").encode(\n",
    "    alt.X('date:T',axis=alt.Axis(title=None)),\n",
    "    text='event',\n",
    "    color=alt.value('#000000')\n",
    ").properties(\n",
    "    width=800,\n",
    "    height=300\n",
    ")"
   ]
  },
  {
   "cell_type": "code",
   "execution_count": null,
   "id": "862fafce",
   "metadata": {},
   "outputs": [],
   "source": [
    "ne_df = pd.read_csv(\"../data-files/ne_df.csv\")\n",
    "jumps_df = pd.read_csv(\"../data-files/migration_jumps_df.csv\")\n",
    "root_df = pd.read_csv(\"../data-files/root_states_df.csv\")\n",
    "persistance_df = pd.read_csv(\"../data-files/persistance_df.csv\")\n",
    "predictor_df = pd.read_csv(\"../data-files/predictor_coefficients.csv\")"
   ]
  },
  {
   "cell_type": "code",
   "execution_count": null,
   "id": "7fa28a6c",
   "metadata": {},
   "outputs": [],
   "source": [
    "jumps_df.rename(columns={'migration_direction': 'Migration Direction'}, inplace=True)\n",
    "jumps_df['Migration Direction'][jumps_df['Migration Direction'] == \"North_King_County-to-South_King_County\"] = \"North to South King County\"\n",
    "jumps_df[\"Migration Direction\"][jumps_df['Migration Direction'] == \"South_King_County-to-North_King_County\"] = \"South to North King County\"\n",
    "\n",
    "root_df.rename(columns={'region': 'Region'}, inplace=True)\n"
   ]
  },
  {
   "cell_type": "code",
   "execution_count": null,
   "id": "5a2542a2",
   "metadata": {},
   "outputs": [],
   "source": [
    "persistance_df.rename(columns={'child_host': 'Region'}, inplace=True)\n",
    "persistance_df.Region[persistance_df.Region == \"North_King_County\"] = \"North King County\"\n",
    "persistance_df.Region[persistance_df.Region == \"South_King_County\"] = \"South King County\""
   ]
  },
  {
   "cell_type": "code",
   "execution_count": null,
   "id": "691dbac7",
   "metadata": {},
   "outputs": [],
   "source": [
    "line = alt.Chart(ne_df).mark_area(interpolate='monotone').encode(\n",
    "    alt.X('date:T', axis=alt.Axis(title=\"Date\", grid=False, format=\"%B %Y\")),\n",
    "    alt.Y('lower_hpd_log_50',axis=alt.Axis(title=\"Effective Population Size\", grid=False)),#,scale=alt.Scale(domain=(0, 13))),\n",
    "    alt.Y2('upper_hpd_log_50' ),\n",
    "    color=alt.Color('deme:N')\n",
    ").properties(\n",
    "    width=1000,\n",
    "    height=300\n",
    ").transform_filter(\n",
    "    (datum.upper_hpd_log_50 < 95)\n",
    ")\n",
    "\n",
    "band = alt.Chart(ne_df).mark_area(\n",
    "    opacity=0.3, interpolate='monotone'\n",
    ").encode(\n",
    "    alt.X('date:T', axis=alt.Axis(title=\"Date\", grid=False)),\n",
    "    alt.Y('lower_hpd_log_95'),#axis=None),#, scale=alt.Scale(domain=(0, 13))),\n",
    "    alt.Y2('upper_hpd_log_95'),\n",
    "    color=alt.Color('deme:N', legend=None)\n",
    ").properties(\n",
    "    width=1000,\n",
    "    height=300\n",
    ").transform_filter(\n",
    "    (datum.upper_hpd_log_95 < 95)\n",
    ")\n",
    "\n",
    "band + line"
   ]
  },
  {
   "cell_type": "code",
   "execution_count": null,
   "id": "3a8bd6cf",
   "metadata": {},
   "outputs": [],
   "source": [
    "ne = (band + line + text + rule)"
   ]
  },
  {
   "cell_type": "code",
   "execution_count": null,
   "id": "76c3b77f",
   "metadata": {},
   "outputs": [],
   "source": [
    "ne"
   ]
  },
  {
   "cell_type": "code",
   "execution_count": null,
   "id": "fc864344",
   "metadata": {},
   "outputs": [],
   "source": [
    "ne_pred = predictor_df.iloc[1:6]\n",
    "mig_pred = predictor_df.iloc[-2:]"
   ]
  },
  {
   "cell_type": "code",
   "execution_count": null,
   "id": "6034a039",
   "metadata": {},
   "outputs": [],
   "source": [
    "ne_pred = ne_pred.replace([\"Ne_hosp_orig\", \"Ne_hosp_1wk_fwd\", \"Ne_hosp_2wk_fwd\", \"percent_immunity\", \"cases\"], [\"Hospializations (no lag)\",\"Hospializations (1wk lag)\", \"Hospializations (2wk lag)\", \"Percent Immunity\", \"Cases\" ])\n",
    "mig_pred"
   ]
  },
  {
   "cell_type": "code",
   "execution_count": null,
   "id": "05840bec",
   "metadata": {},
   "outputs": [],
   "source": [
    "mig_pred = mig_pred.replace([\"NPI_dates\", \"safegraph_between_total_mvmt\"], [\"NPI Dates\", \"Safegraph Mobility\"])"
   ]
  },
  {
   "cell_type": "code",
   "execution_count": null,
   "id": "71865a95",
   "metadata": {},
   "outputs": [],
   "source": [
    "# error_bars = alt.Chart(mig_short).mark_errorbar(extent='ci').encode(\n",
    "#   x=alt.X('mig_per_bl:Q', scale=alt.Scale(zero=False)),\n",
    "#   y=alt.Y('migration_direction:N')\n",
    "# )\n",
    "\n",
    "points = alt.Chart(ne_pred).mark_point(filled=True, color='black', width = 5).encode(\n",
    "  y=alt.Y('mean_Ne_log:Q',axis = alt.Axis(title = \"Coefficient\", grid =False,) ),\n",
    "  x=alt.X('deme', title = \"Predictor\",   axis=alt.Axis(labelLimit = 0, labelAngle=-35)),\n",
    ").transform_filter(datum.predictor != \"Clock\" or datum.predictor != \"air\").properties(\n",
    "    width=650,\n",
    "    height=200\n",
    ")\n",
    "\n",
    "hpd = alt.Chart(ne_pred).mark_rule(strokeWidth = 2).encode(\n",
    "    y2=alt.Y2(\"upper_hpd_log_95\"),\n",
    "    y = alt.Y(\"lower_hpd_log_95\"),\n",
    "    x=alt.X(\"deme\")\n",
    ").transform_filter(datum.predictor != \"Clock\").properties(\n",
    "    width=850,\n",
    "    height=300\n",
    ")\n",
    "\n",
    "one_line = alt.Chart(pd.DataFrame({'y': [0.0]})).mark_rule(strokeDash=[1,1]).encode(y='y').properties(\n",
    "    width=850,\n",
    "    height=300\n",
    ")\n",
    "\n",
    "predict_coeff_ne = (points + hpd + one_line).properties(title='B')\n",
    "# predict_coeff_ne.configure_view(\n",
    "#     strokeWidth=0\n",
    "# ).configure_title(\n",
    "#     anchor='start', fontSize= 35\n",
    "# ).configure_axis(\n",
    "#     labelFontSize=60,\n",
    "#     titleFontSize=60\n",
    "# ).configure_legend(\n",
    "#     labelFontSize = 60)\n",
    "\n",
    "predict_coeff_ne\n"
   ]
  },
  {
   "cell_type": "code",
   "execution_count": null,
   "id": "c51b5458",
   "metadata": {},
   "outputs": [],
   "source": [
    "# error_bars = alt.Chart(mig_short).mark_errorbar(extent='ci').encode(\n",
    "#   x=alt.X('mig_per_bl:Q', scale=alt.Scale(zero=False)),\n",
    "#   y=alt.Y('migration_direction:N')\n",
    "# )\n",
    "\n",
    "points = alt.Chart(mig_pred).mark_point(filled=True, color='black').encode(\n",
    "  y=alt.Y('mean_Ne_log:Q',axis = alt.Axis(title = \"Coefficient\", grid =False, labelFontSize= 18,titleFontSize= 16) ),\n",
    "  x=alt.X('deme', title = \"Predictor\",  axis=alt.Axis(labelFontSize= 16,titleFontSize= 16, labelAngle=-35)),\n",
    ").transform_filter(datum.predictor != \"Clock\" ).properties(\n",
    "    width=250,\n",
    "    height=200\n",
    ")\n",
    "\n",
    "hpd = alt.Chart(mig_pred).mark_rule().encode(\n",
    "    y2=alt.Y2(\"upper_hpd_log_95\"),\n",
    "    y = alt.Y(\"lower_hpd_log_95\"),\n",
    "    x=alt.X(\"deme\")\n",
    ").transform_filter(datum.predictor != \"Clock\").properties(\n",
    "    width=300,\n",
    "    height=150\n",
    ")\n",
    "\n",
    "one_line = alt.Chart(pd.DataFrame({'y': [0.0]})).mark_rule(strokeDash=[1,1]).encode(y='y').properties(\n",
    "    width=300,\n",
    "    height=150\n",
    ")\n",
    "\n",
    "predict_coeff_mig = (points + hpd + one_line ).properties(title='C')\n",
    "predict_coeff_mig.configure_view(\n",
    "    strokeWidth=0\n",
    ").configure_title(\n",
    "    anchor='start', fontSize= 25\n",
    ").configure_axis(\n",
    "    labelFontSize=24,\n",
    "    titleFontSize=24\n",
    ").configure_legend(\n",
    "    labelFontSize = 60)\n",
    "\n",
    "\n"
   ]
  },
  {
   "cell_type": "code",
   "execution_count": null,
   "id": "6d7e3ebe",
   "metadata": {},
   "outputs": [],
   "source": [
    "# Add labels to each chart\n",
    "ne = ne.properties(title='A')\n",
    "\n",
    "\n",
    "# Concatenate labeled charts B and C horizontally\n",
    "predictors  = alt.hconcat(predict_coeff_ne , predict_coeff_mig).resolve_scale(color = \"independent\")\n",
    "\n",
    "# Concatenate labeled charts AB and CD vertically\n",
    "chart_abcd_labeled = alt.vconcat(ne, predictors, spacing=50)#.resolve_scale(x='shared', color ='shared')\n",
    "\n",
    "chart_abcd_labeled.configure_view(\n",
    "    strokeWidth=0\n",
    ").configure_title(\n",
    "    anchor='start', fontSize= 30\n",
    ").configure_axis(\n",
    "    labelFontSize=14,\n",
    "    titleFontSize=14\n",
    ").configure_legend(\n",
    "    labelFontSize = 14)\n"
   ]
  },
  {
   "cell_type": "code",
   "execution_count": null,
   "id": "87fa16ec",
   "metadata": {},
   "outputs": [],
   "source": [
    "error_bars_pr = alt.Chart(persistance_df).mark_errorbar(extent='ci').encode(\n",
    "  x=alt.X('year-month:T', axis=alt.Axis( grid=False, format=\"%B %Y\")),\n",
    "  y=alt.Y('persistence_time:Q',axis=alt.Axis(title=\"Length of Local Transmission (in days)\", grid=False)), \n",
    "  color = alt.Color(\"Region:N\")\n",
    ").properties(\n",
    "    width=1000,\n",
    "    height=300\n",
    ")\n",
    "\n",
    "points_pr = alt.Chart(persistance_df).mark_point(filled=True,  opacity = 1, size = 100).encode(\n",
    "  x=alt.X('year-month:T'),\n",
    "  y=alt.Y('persistence_time:Q', aggregate='mean'),\n",
    "    color = alt.Color(\"Region:N\",  legend=alt.Legend(offset = -220, labelFontSize = 12, titleFontSize = 12))\n",
    ").properties(\n",
    "    width=1000,\n",
    "    height=300\n",
    ")\n",
    "\n",
    "lineplot_pr =  alt.Chart(persistance_df).mark_line(interpolate='monotone', opacity = 0.35).encode(\n",
    "    x=alt.X('year-month:T'),\n",
    "    y=alt.Y('mean(persistence_time)'),\n",
    "    color=alt.Color('Region:N')).properties(\n",
    "    width=1000,\n",
    "    height=300\n",
    ")\n",
    "\n",
    "\n",
    "persistence = error_bars_pr + points_pr +lineplot_pr + rule + text \n",
    "persistence"
   ]
  },
  {
   "cell_type": "code",
   "execution_count": null,
   "id": "53593e00",
   "metadata": {},
   "outputs": [],
   "source": [
    "error_bars = alt.Chart(persistance_df).mark_errorbar(extent='ci').encode(\n",
    "  y=alt.Y('persistence_time:Q', scale=alt.Scale(zero=False), axis=alt.Axis(title=\"Average Length of Local Transmission (in days)\", grid = False,orient = \"right\")),\n",
    "  x=alt.X('Region:N', axis=alt.Axis(labels=False)), color = alt.Color(\"Region:N\", legend = None)\n",
    ")\n",
    "\n",
    "points = alt.Chart(persistance_df).mark_point(filled=True, color='black', size = 60).encode(\n",
    "  y=alt.Y('persistence_time:Q', aggregate='mean'),\n",
    "  x=alt.X('Region:N', axis=alt.Axis(title=None)),  color = alt.Color(\"Region:N\", legend = None)\n",
    ")\n",
    "\n",
    "ave_persist = error_bars + points\n",
    "#ave.save(\"jumps_error.png\")\n",
    "ave_persist"
   ]
  },
  {
   "cell_type": "code",
   "execution_count": null,
   "id": "f748c88a",
   "metadata": {},
   "outputs": [],
   "source": [
    "persist = persistence | ave_persist\n",
    "persist"
   ]
  },
  {
   "cell_type": "code",
   "execution_count": null,
   "id": "79242e8d",
   "metadata": {},
   "outputs": [],
   "source": [
    "lineplot3 =  alt.Chart(jumps_df, width = 750).mark_line(interpolate='monotone', clip = True).encode(\n",
    "    x=alt.X('year-month:T',axis=alt.Axis( grid=False)),\n",
    "    y=alt.Y('mean(mig_per_bl)',axis=alt.Axis(title=\"Number of Migration Events (Normalized)\", grid=False)),\n",
    "    color=alt.Color('Migration Direction:N', legend=alt.Legend(offset = -160, labelFontSize = 12, titleFontSize = 12), scale=alt.Scale(scheme='accent'))).properties(\n",
    "    width=1000,\n",
    "    height=300\n",
    ").transform_filter(\n",
    "    (datum.mig_per_bl < 150)\n",
    ")\n",
    "\n",
    "\n",
    "band3 = alt.Chart(jumps_df).mark_errorband(extent='ci', interpolate='monotone', clip = True).encode(\n",
    "    x=alt.X('year-month:T'),\n",
    "    y=alt.Y('mig_per_bl',axis=alt.Axis(title=\"\", grid=False)), \n",
    "    color =alt.Color('Migration Direction:N', scale=alt.Scale(scheme='accent'))).properties(\n",
    "    width=1000,\n",
    "    height=300\n",
    ").transform_filter(\n",
    "    (datum.mig_per_bl < 150)\n",
    ")\n",
    "\n",
    "jumps_per_bl = lineplot3 + band3 + rule + text \n",
    "jumps_per_bl"
   ]
  },
  {
   "cell_type": "code",
   "execution_count": null,
   "id": "7051a5a0",
   "metadata": {},
   "outputs": [],
   "source": [
    "error_bars = alt.Chart(jumps_df).mark_errorbar(extent='ci').encode(\n",
    "  y=alt.Y('mig_per_bl:Q', scale=alt.Scale(zero=False), axis=alt.Axis(title=\"Average Number of Migration Events\",grid = False, orient = \"right\")),\n",
    "  x=alt.X('Migration Direction:N', axis=alt.Axis(labels=False)), color = alt.Color(\"Migration Direction:N\", legend = None, scale=alt.Scale(domain = ['North to South King County', 'South to North King County'], range = ['#9461bd',\"#2ca02c\"]))\n",
    ")\n",
    "\n",
    "points = alt.Chart(jumps_df).mark_point(filled=True, color='black', size = 100).encode(\n",
    "  y=alt.Y('mig_per_bl:Q', aggregate='mean'),\n",
    "  x=alt.X('Migration Direction:N', axis=alt.Axis(title=None)),  color = alt.Color(\"Migration Direction:N\", legend = None, scale=alt.Scale(domain = ['North to South King County', 'South to North King County'], range = ['#9461bd',\"#2ca02c\"]))\n",
    ")\n",
    "\n",
    "ave_jumps = error_bars + points\n",
    "#ave.save(\"jumps_error.png\")\n",
    "ave_jumps"
   ]
  },
  {
   "cell_type": "code",
   "execution_count": null,
   "id": "a65bfeca",
   "metadata": {},
   "outputs": [],
   "source": [
    "error_bars = alt.Chart(jumps_df).mark_errorbar(extent='ci', clip = True).encode(\n",
    "  x=alt.X('year-month:T', axis=alt.Axis( grid=False, format=\"%B %Y\")),\n",
    "  y=alt.Y('mig_per_bl:Q',axis=alt.Axis(title=\"Number of Migration Events (Normalized)\", grid=False), scale = alt.Scale(domain = (0,100))), color = alt.Color(\"Migration Direction:N\", scale=alt.Scale(domain = ['North to South King County', 'South to North King County'], range = ['#9461bd',\"#2ca02c\"]))\n",
    ").properties(\n",
    "    width=1000,\n",
    "    height=300\n",
    ")\n",
    "\n",
    "points = alt.Chart(jumps_df).mark_point(filled=True,  opacity = 1, size = 100, clip = True).encode(\n",
    "  x=alt.X('year-month:T'),\n",
    "  y=alt.Y('mig_per_bl:Q', aggregate='mean', scale = alt.Scale(domain = (0,100))),\n",
    "    color = alt.Color(\"Migration Direction:N\",  legend=alt.Legend(offset = -275, labelFontSize = 12, titleFontSize = 12),scale=alt.Scale(domain = ['North to South King County', 'South to North King County'], range = ['#9461bd',\"#2ca02c\"]))\n",
    ").properties(\n",
    "    width=1000,\n",
    "    height=300\n",
    ")\n",
    "\n",
    "lineplot4 =  alt.Chart(jumps_df).mark_line(interpolate='monotone', opacity = 0.35, clip = True).encode(\n",
    "    x=alt.X('year-month:T'),\n",
    "    y=alt.Y('mean(mig_per_bl)', scale = alt.Scale(domain = (0,100))),\n",
    "    color=alt.Color('Migration Direction:N', scale=alt.Scale(domain = ['North to South King County', 'South to North King County'], range = ['#9461bd',\"#2ca02c\"]))).properties(\n",
    "    width=1000,\n",
    "    height=300\n",
    ")\n",
    "\n",
    "\n",
    "jumps_per_bl = error_bars + points +lineplot4 + rule + text \n",
    "jumps_per_bl"
   ]
  },
  {
   "cell_type": "code",
   "execution_count": null,
   "id": "b0d24eb0",
   "metadata": {},
   "outputs": [],
   "source": [
    "jumps = jumps_per_bl |ave_jumps\n",
    "jumps"
   ]
  },
  {
   "cell_type": "code",
   "execution_count": null,
   "id": "6a729216",
   "metadata": {},
   "outputs": [],
   "source": [
    "root_states = alt.Chart(root_df).mark_bar(size=30).encode(\n",
    "    alt.X('year-month:T', axis=alt.Axis(title=\"\", grid=False, format=\"%B %Y\")), \n",
    "    alt.Color('Region:N', legend = None),\n",
    "    alt.Y(\"mean(mig_per_bl)\", stack=\"normalize\", title='Cluster Root States',axis=alt.Axis(offset=10 ,format='%'))).properties(\n",
    "    width=1000,\n",
    "    height=300\n",
    ")\n",
    "root_states.configure_axis(\n",
    "    labelFontSize=14,\n",
    "    titleFontSize=14\n",
    ")"
   ]
  },
  {
   "cell_type": "code",
   "execution_count": null,
   "id": "dcb440e2",
   "metadata": {},
   "outputs": [],
   "source": [
    "error_bars = alt.Chart(root_df).mark_errorbar(extent='ci').encode(\n",
    "  y=alt.Y('mig_per_bl:Q', scale=alt.Scale(zero=False), axis=alt.Axis(title=\"Average Cluster Root States\", grid = False, orient = \"right\")),\n",
    "  x=alt.X('Region:N', axis=alt.Axis(labels=False)), color = alt.Color(\"Region:N\", legend = None)\n",
    ")\n",
    "\n",
    "points = alt.Chart(root_df).mark_point(filled=True, color='black', size = 100).encode(\n",
    "  y=alt.Y('mig_per_bl:Q', aggregate='mean'),\n",
    "  x=alt.X('Region:N', axis=alt.Axis(title=None)),  color = alt.Color(\"Region:N\", legend = None)\n",
    ")\n",
    "\n",
    "ave_root = error_bars + points\n",
    "#ave.save(\"jumps_error.png\")\n",
    "ave_root"
   ]
  },
  {
   "cell_type": "code",
   "execution_count": null,
   "id": "55e33e98",
   "metadata": {},
   "outputs": [],
   "source": [
    "root = root_states | ave_root\n",
    "root"
   ]
  },
  {
   "cell_type": "code",
   "execution_count": null,
   "id": "bf077c23",
   "metadata": {},
   "outputs": [],
   "source": [
    "ne\n",
    "#ne.save(\"figure_3_ne.png\")"
   ]
  },
  {
   "cell_type": "code",
   "execution_count": null,
   "id": "a9d3849b",
   "metadata": {},
   "outputs": [],
   "source": [
    "figure4 = (persist & root & jumps).resolve_scale(color = \"independent\").configure_axis(\n",
    "    labelFontSize=12,\n",
    "    titleFontSize=14\n",
    ")\n",
    "figure4"
   ]
  },
  {
   "cell_type": "code",
   "execution_count": null,
   "id": "1b1a5345",
   "metadata": {},
   "outputs": [],
   "source": [
    "figure4.save(\"../figures/figure4.html\")"
   ]
  },
  {
   "cell_type": "code",
   "execution_count": null,
   "id": "d0b214d3",
   "metadata": {},
   "outputs": [],
   "source": []
  },
  {
   "cell_type": "code",
   "execution_count": null,
   "id": "13f64985",
   "metadata": {},
   "outputs": [],
   "source": []
  }
 ],
 "metadata": {
  "kernelspec": {
   "display_name": "Python 3 (ipykernel)",
   "language": "python",
   "name": "python3"
  },
  "language_info": {
   "codemirror_mode": {
    "name": "ipython",
    "version": 3
   },
   "file_extension": ".py",
   "mimetype": "text/x-python",
   "name": "python",
   "nbconvert_exporter": "python",
   "pygments_lexer": "ipython3",
   "version": "3.8.13"
  }
 },
 "nbformat": 4,
 "nbformat_minor": 5
}
