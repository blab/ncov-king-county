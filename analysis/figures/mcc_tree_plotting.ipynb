{
 "cells": [
  {
   "cell_type": "code",
   "execution_count": 1,
   "id": "3ae693c1",
   "metadata": {},
   "outputs": [],
   "source": [
    "import baltic as bt\n",
    "import pandas as pd\n",
    "import matplotlib as mpl\n",
    "from matplotlib import pyplot as plt\n",
    "from datetime import datetime as dt\n",
    "from datetime import timedelta\n",
    "import matplotlib.lines as mlines\n",
    "import time\n",
    "from io import StringIO\n",
    "import altair as alt\n",
    "import numpy as np\n",
    "from zipfile import ZipFile\n"
   ]
  },
  {
   "cell_type": "code",
   "execution_count": 39,
   "id": "83908aa6",
   "metadata": {},
   "outputs": [],
   "source": [
    "tree12=bt.loadNexus('../data-files/mcc_tree_random_3000.trees', absoluteTime = False)\n",
    "tree12.setAbsoluteTime(2022.1753424657534)"
   ]
  },
  {
   "cell_type": "code",
   "execution_count": 40,
   "id": "357446c1",
   "metadata": {},
   "outputs": [],
   "source": [
    "clist=[(0.0,'#3B76AF'),\n",
    "       (0.5,'grey'),\n",
    "       (1.0,'#E68033')]\n",
    "\n",
    "host_cmap = mpl.colors.LinearSegmentedColormap.from_list('mycmap',clist)"
   ]
  },
  {
   "cell_type": "code",
   "execution_count": 41,
   "id": "c0c61b86",
   "metadata": {},
   "outputs": [],
   "source": [
    "def convertDate(x,start,end):\n",
    "    \"\"\" Converts calendar dates between given formats \"\"\"\n",
    "    return dt.strftime(dt.strptime(x,start),end)"
   ]
  },
  {
   "cell_type": "code",
   "execution_count": 42,
   "id": "c6085269",
   "metadata": {},
   "outputs": [],
   "source": [
    "for k in tree12.Objects:\n",
    "    if \"typeTrait.set\" not in k.traits:\n",
    "        k.traits.update({'typeTrait.set': []})\n",
    "    if \"typeTrait\" not in k.traits:\n",
    "        k.traits.update({'typeTrait': []})\n",
    "    if k.traits['typeTrait'] == []:\n",
    "        k.traits.update({'typeTrait': 'none'})"
   ]
  },
  {
   "cell_type": "code",
   "execution_count": 43,
   "id": "248fdf81",
   "metadata": {},
   "outputs": [],
   "source": [
    "division_order = ['North_King_County', 'South_King_County']\n",
    "exclusions = ['none', 'root', 'ancestor']"
   ]
  },
  {
   "cell_type": "code",
   "execution_count": 44,
   "id": "d3e668d4",
   "metadata": {},
   "outputs": [],
   "source": [
    "##this can be used to find root locations and make predefined clusters into individual subtrees.\n",
    "def enumerate_subtrees_clusters(tree):\n",
    "    \n",
    "    traitName=\"typeTrait\"\n",
    "\n",
    "    tree.root.traits[traitName]='ancestor' ## give root node some trait value that's different from what the actual tree root has, so it registers as a switch\n",
    "\n",
    "    tree_strings={division:[] for division in division_order}\n",
    "    subtype_trees=[]\n",
    "\n",
    "    for k in sorted(tree.Objects,key=lambda x:x.height):\n",
    "        kp=k.parent     # kp is the parent node of k\n",
    "        \n",
    "        ## get current node's (k) and its parent's (kp) trait states\n",
    "        kloc=k.traits[traitName]      # kloc = trait of k; kc = trait of k; they are the same thing\n",
    "        if traitName in k.parent.traits:       # if parent has a trait block, use that trait, else assign to ancestor\n",
    "            kploc=kp.traits[traitName]              # kploc = trait of parental node\n",
    "        else:\n",
    "            kploc='ancestor'\n",
    "\n",
    "        kc=kloc     \n",
    "        ## if states do not match\n",
    "        if (kloc != kploc) & (kploc in exclusions):      # if node and parental node do not have the same trait\n",
    "            #N_children=len(k.leaves)\n",
    "            traverse_condition=lambda w:w.traits[traitName] in division_order     # traverse tree for all nodes whose traitname = kc\n",
    "            #print('subtree resulting from %s>%s switch, traversing within %s'%(kploc,kloc,kloc))\n",
    "            subtree=tree.subtree(k,traverse_condition=traverse_condition) #traitName = traitName ## this function returns a new baltic object that contains a trait-traversed subtree, starting from node k, for as long as the traversal stays within the starting trait value state\n",
    "\n",
    "            if subtree != None:\n",
    "                subtree.traverse_tree()\n",
    "                subtree.sortBranches()\n",
    "\n",
    "                #tree_strings[kloc].append(subtree.toString()) ## remember subtree string, subtree object itself\n",
    "                subtype_trees.append((kploc, kloc, subtree))\n",
    "    \n",
    "    return(subtype_trees)"
   ]
  },
  {
   "cell_type": "code",
   "execution_count": 45,
   "id": "59d552e6",
   "metadata": {},
   "outputs": [],
   "source": [
    "division_order = ['North_King_County', 'South_King_County']\n",
    "exclusions = ['none', 'root', 'ancestor']"
   ]
  },
  {
   "cell_type": "code",
   "execution_count": 46,
   "id": "385201a5",
   "metadata": {},
   "outputs": [],
   "source": [
    "subtype_trees = enumerate_subtrees_clusters(tree12)\n"
   ]
  },
  {
   "cell_type": "code",
   "execution_count": 1,
   "id": "f77d749c",
   "metadata": {},
   "outputs": [
    {
     "ename": "NameError",
     "evalue": "name 'plt' is not defined",
     "output_type": "error",
     "traceback": [
      "\u001b[0;31m---------------------------------------------------------------------------\u001b[0m",
      "\u001b[0;31mNameError\u001b[0m                                 Traceback (most recent call last)",
      "Cell \u001b[0;32mIn[1], line 1\u001b[0m\n\u001b[0;32m----> 1\u001b[0m fig,ax \u001b[38;5;241m=\u001b[39m \u001b[43mplt\u001b[49m\u001b[38;5;241m.\u001b[39msubplots(figsize\u001b[38;5;241m=\u001b[39m(\u001b[38;5;241m12\u001b[39m,\u001b[38;5;241m15\u001b[39m),facecolor\u001b[38;5;241m=\u001b[39m\u001b[38;5;124m'\u001b[39m\u001b[38;5;124mw\u001b[39m\u001b[38;5;124m'\u001b[39m)\n\u001b[1;32m      2\u001b[0m cumulativeY\u001b[38;5;241m=\u001b[39m\u001b[38;5;241m0\u001b[39m\n\u001b[1;32m      3\u001b[0m branchWidth\u001b[38;5;241m=\u001b[39m\u001b[38;5;241m2\u001b[39m\n",
      "\u001b[0;31mNameError\u001b[0m: name 'plt' is not defined"
     ]
    }
   ],
   "source": [
    "fig,ax = plt.subplots(figsize=(12,15),facecolor='w')\n",
    "cumulativeY=0\n",
    "branchWidth=2\n",
    "for t,tr in enumerate(sorted(subtype_trees,key=lambda x:(-x[2].root.absoluteTime))): ## iterate over extracted subtrees sorted according to their root height and their size\n",
    "    origin,root,loc_tree=tr\n",
    "\n",
    "    for k in loc_tree.Objects:\n",
    "        c='k'\n",
    "        if 'South_King_County' in k.traits['typeTrait.set']:\n",
    "            hidx=k.traits['typeTrait.set'].index('South_King_County')\n",
    "            c=host_cmap(k.traits['typeTrait.set.prob'][hidx])\n",
    "        else:\n",
    "            c=host_cmap(0.0)\n",
    "\n",
    "        z=1\n",
    "        if k.traits['typeTrait']=='North_King_County':\n",
    "            z=2\n",
    "\n",
    "        x=k.absoluteTime\n",
    "        y=k.y+cumulativeY\n",
    "\n",
    "        xp=k.parent.absoluteTime\n",
    "        if xp==0:\n",
    "            xp=x\n",
    "\n",
    "        if k.branchType=='leaf':\n",
    "            ax.scatter(x,y,s=20,facecolor=c,edgecolor='none',zorder=4)\n",
    "            ax.scatter(x,y,s=40,facecolor='w',edgecolor='none',zorder=3)\n",
    "        else:\n",
    "            yl=k.children[0].y+cumulativeY\n",
    "            yr=k.children[-1].y+cumulativeY\n",
    "            ax.plot([x,x],[yl,yr],color=c,lw=branchWidth,zorder=z)\n",
    "\n",
    "        if loc_tree.Objects.index(k)!=0:\n",
    "            ax.plot([x,xp],[y,y],color=c,lw=branchWidth,zorder=z)\n",
    "    cumulativeY+=loc_tree.ySpan+5\n",
    "\n",
    "every=12\n",
    "xDates=['%04d-%02d-01'%(y,m) for y in range(2019,2023) for m in range(1,13)]\n",
    "\n",
    "[ax.axvspan(bt.decimalDate(xDates[x]),bt.decimalDate(xDates[x])+1/float(12),facecolor='k',edgecolor='none',alpha=0.04) for x in range(0,len(xDates),2)]\n",
    "ax.set_xticks([bt.decimalDate(x)+1/24.0 for x in xDates if (int(x.split('-')[1])-1)%every==0])\n",
    "\n",
    "ax.set_xticklabels([convertDate(x,'%Y-%m-%d','%Y') if x.split('-')[1]=='01' else convertDate(x,'%Y-%m-%d','%b') for x in xDates if (int(x.split('-')[1])-1)%every==0])\n",
    "ax.tick_params(axis='x',labelsize=16,size=0)\n",
    "\n",
    "[ax.axvline(i,ls='--',lw=1,color='grey',zorder=0) for i in range(2019,2023)]\n",
    "\n",
    "        \n",
    "ax.spines['top'].set_visible(False)\n",
    "ax.spines['right'].set_visible(False)\n",
    "ax.spines['left'].set_visible(False)\n",
    "ax.spines['bottom'].set_visible(False)\n",
    "\n",
    "ax.tick_params(size=0)\n",
    "#ax.set_xticklabels([])\n",
    "ax.set_yticklabels([])\n",
    "\n",
    "ax.set_xlim(bt.decimalDate('2020-01-01'),bt.decimalDate('2022-04-01'))\n",
    "ax.set_ylim(-5,cumulativeY -15)\n",
    "\n",
    "ax2 = fig.add_axes([0.22, 0.2, 0.02, 0.2])\n",
    "mpl.colorbar.ColorbarBase(ax2, cmap=host_cmap,ticks=np.linspace(0.0,1.0,3))\n",
    "ax2.tick_params(size=5,labelsize=13)\n",
    "ax2.set_ylabel('posterior probability', size=15)\n",
    "ax3=ax2.twinx()\n",
    "ax3.set_ylim(0,1)\n",
    "ax3.set_yticks([0.0,1.0])\n",
    "ax3.set_yticklabels(['North King County','South King County'])\n",
    "ax3.tick_params(size=0,labelsize=12)\n",
    "plt.savefig('../figures/mcc_clusters_size_5.png',dpi=300,bbox_inches='tight')\n",
    "plt.show()"
   ]
  },
  {
   "cell_type": "code",
   "execution_count": null,
   "id": "0a68cd4a",
   "metadata": {},
   "outputs": [],
   "source": []
  }
 ],
 "metadata": {
  "kernelspec": {
   "display_name": "Python 3 (ipykernel)",
   "language": "python",
   "name": "python3"
  },
  "language_info": {
   "codemirror_mode": {
    "name": "ipython",
    "version": 3
   },
   "file_extension": ".py",
   "mimetype": "text/x-python",
   "name": "python",
   "nbconvert_exporter": "python",
   "pygments_lexer": "ipython3",
   "version": "3.8.13"
  }
 },
 "nbformat": 4,
 "nbformat_minor": 5
}
