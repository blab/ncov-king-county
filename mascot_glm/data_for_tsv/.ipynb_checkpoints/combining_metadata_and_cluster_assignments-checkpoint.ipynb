{
 "cells": [
  {
   "cell_type": "markdown",
   "id": "5999ff99",
   "metadata": {},
   "source": [
    "## script for combining each cluster assignment and metadata into one file for feeding into MASCOT GLM \n",
    "### needs to be repeated for each variant build (Alpha, Delta, Omicron, Other)"
   ]
  },
  {
   "cell_type": "code",
   "execution_count": null,
   "id": "a009b73e",
   "metadata": {},
   "outputs": [],
   "source": [
    "import pandas as pd\n",
    "import dendropy\n",
    "import numpy as np\n",
    "import re\n",
    "import random"
   ]
  },
  {
   "cell_type": "code",
   "execution_count": null,
   "id": "5d286062",
   "metadata": {},
   "outputs": [],
   "source": [
    "#this step is currently hardcoded in, where you need to manually change the file path for each variant build\n",
    "# will work on automating it soon\n",
    "newickpath = \"../../nextstrain_build/results/other_tree.nwk\"\n",
    "clusters = \"../../nextstrain_build/cluster_assignment/other_new_cluster_assignment.tsv\"\n",
    "metadata = \"../../nextstrain_build/results/other_sub_subsampled_metadata.tsv\"\n"
   ]
  },
  {
   "cell_type": "code",
   "execution_count": null,
   "id": "7d0261cd",
   "metadata": {},
   "outputs": [],
   "source": [
    "#read in all three files\n",
    "tree2 = dendropy.Tree.get(file=open(newickpath, \"r\"), schema=\"newick\")\n",
    "df = pd.read_csv(clusters, sep =\"\\t\", index_col = 'strain')\n",
    "meta_df = pd.read_csv(metadata, sep =\"\\t\", index_col = 'strain')\n"
   ]
  },
  {
   "cell_type": "code",
   "execution_count": null,
   "id": "6d6222b5",
   "metadata": {},
   "outputs": [],
   "source": [
    "meta_df['ns_kc'] = meta_df['ns_kc'].replace(\"other_King County\",\"Other_King_County\")\n",
    "df[\"location\"] = np.nan\n",
    "df['date'] = np.nan\n"
   ]
  },
  {
   "cell_type": "code",
   "execution_count": null,
   "id": "ff0be6e5",
   "metadata": {},
   "outputs": [],
   "source": [
    "#for each leaf in the tree, add metadata information into cluster dataset. \n",
    "for leaf in tree2.leaf_node_iter():\n",
    "    taxon_number = re.findall(r\"'(.*?)'\", str(leaf.taxon), re.DOTALL)\n",
    "    if taxon_number[0] in list(df.index):\n",
    "        df.loc[taxon_number[0], 'date'] =  meta_df.loc[taxon_number[0], 'date']\n",
    "        df.loc[taxon_number[0], 'location'] =  meta_df.loc[taxon_number[0], 'ns_kc']\n"
   ]
  },
  {
   "cell_type": "code",
   "execution_count": null,
   "id": "4ef64d53",
   "metadata": {},
   "outputs": [],
   "source": [
    "#removing blanks and NAs for dates\n",
    "df.replace(\"\", np.nan, inplace=True)\n",
    "df.dropna(subset = [\"date\"], inplace=True)"
   ]
  },
  {
   "cell_type": "code",
   "execution_count": null,
   "id": "3684408f",
   "metadata": {},
   "outputs": [],
   "source": [
    "#removing those for which we don't have north or south regional information for\n",
    "df = df[df['location'] != 'Other_King_County']"
   ]
  },
  {
   "cell_type": "code",
   "execution_count": null,
   "id": "e2eb3bb7",
   "metadata": {},
   "outputs": [],
   "source": [
    "df"
   ]
  },
  {
   "cell_type": "code",
   "execution_count": null,
   "id": "98fe3da3",
   "metadata": {},
   "outputs": [],
   "source": [
    "#make sure to change the name for each respective variant build. Will automate soon.\n",
    "df.to_csv('../data/kc_clusters_other_new.tsv', sep = \"\\t\")"
   ]
  }
 ],
 "metadata": {
  "kernelspec": {
   "display_name": "Python 3 (ipykernel)",
   "language": "python",
   "name": "python3"
  },
  "language_info": {
   "codemirror_mode": {
    "name": "ipython",
    "version": 3
   },
   "file_extension": ".py",
   "mimetype": "text/x-python",
   "name": "python",
   "nbconvert_exporter": "python",
   "pygments_lexer": "ipython3",
   "version": "3.8.13"
  }
 },
 "nbformat": 4,
 "nbformat_minor": 5
}
