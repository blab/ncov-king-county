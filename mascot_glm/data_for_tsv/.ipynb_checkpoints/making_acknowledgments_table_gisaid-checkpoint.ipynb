{
 "cells": [
  {
   "cell_type": "code",
   "execution_count": 1,
   "id": "3accba8b",
   "metadata": {},
   "outputs": [],
   "source": [
    "import pandas as pd\n",
    "import dendropy\n",
    "import numpy as np\n",
    "import re\n",
    "import random"
   ]
  },
  {
   "cell_type": "code",
   "execution_count": 2,
   "id": "9124b0a6",
   "metadata": {},
   "outputs": [
    {
     "name": "stderr",
     "output_type": "stream",
     "text": [
      "/Users/miguelparedes/anaconda3/envs/nextstrain/lib/python3.6/site-packages/IPython/core/interactiveshell.py:3072: DtypeWarning: Columns (29) have mixed types.Specify dtype option on import or set low_memory=False.\n",
      "  interactivity=interactivity, compiler=compiler, result=result)\n"
     ]
    }
   ],
   "source": [
    "metadata_alpha = pd.read_csv(\"/Users/miguelparedes/Desktop/new_variants_pull/alpha_sub_subsampled_metadata.tsv\", sep =\"\\t\")\n",
    "metadata_delta = pd.read_csv(\"/Users/miguelparedes/Desktop/new_variants_pull/delta_sub_subsampled_metadata.tsv\", sep =\"\\t\")\n",
    "metadata_omicron = pd.read_csv(\"/Users/miguelparedes/Desktop/new_variants_pull/omicron_sub_subsampled_metadata.tsv\", sep =\"\\t\")\n",
    "metadata_other = pd.read_csv(\"/Users/miguelparedes/Desktop/new_variants_pull/other_sub_subsampled_metadata.tsv\", sep =\"\\t\")\n"
   ]
  },
  {
   "cell_type": "code",
   "execution_count": 5,
   "id": "52df4dac",
   "metadata": {},
   "outputs": [
    {
     "data": {
      "text/plain": [
       "Index(['strain', 'Unnamed: 0.1', 'virus', 'gisaid_epi_isl',\n",
       "       'genbank_accession', 'sra_accession', 'date', 'region', 'country',\n",
       "       'division', 'location', 'region_exposure', 'country_exposure',\n",
       "       'division_exposure', 'segment', 'length', 'host', 'age', 'sex',\n",
       "       'Nextstrain_clade', 'pango_lineage', 'GISAID_clade', 'originating_lab',\n",
       "       'submitting_lab', 'authors', 'url', 'title', 'paper_url',\n",
       "       'date_submitted', 'sampling_strategy', 'Nextclade_pango',\n",
       "       'missing_data', 'divergence', 'nonACGTN', 'rare_mutations',\n",
       "       'reversion_mutations', 'potential_contaminants', 'QC_missing_data',\n",
       "       'QC_mixed_sites', 'QC_rare_mutations', 'QC_snp_clusters',\n",
       "       'QC_frame_shifts', 'QC_stop_codons', 'QC_overall_score',\n",
       "       'QC_overall_status', 'frame_shifts', 'deletions', 'insertions',\n",
       "       'substitutions', 'aaSubstitutions', 'clock_deviation', 'Unnamed: 0',\n",
       "       'Puma', 'COUNTY', 'ns_kc'],\n",
       "      dtype='object')"
      ]
     },
     "execution_count": 5,
     "metadata": {},
     "output_type": "execute_result"
    }
   ],
   "source": [
    "metadata_alpha.columns"
   ]
  },
  {
   "cell_type": "code",
   "execution_count": 8,
   "id": "06503887",
   "metadata": {},
   "outputs": [],
   "source": [
    "metadata_alpha = metadata_alpha[[\"strain\", \"gisaid_epi_isl\",\"authors\", \"originating_lab\", \"submitting_lab\" ]]\n",
    "metadata_delta = metadata_delta[[\"strain\", \"gisaid_epi_isl\",\"authors\", \"originating_lab\", \"submitting_lab\" ]]\n",
    "metadata_omicron = metadata_omicron[[\"strain\", \"gisaid_epi_isl\",\"authors\", \"originating_lab\", \"submitting_lab\" ]]\n",
    "metadata_other = metadata_other[[\"strain\", \"gisaid_epi_isl\",\"authors\", \"originating_lab\", \"submitting_lab\" ]]"
   ]
  },
  {
   "cell_type": "code",
   "execution_count": 11,
   "id": "f9acf0da",
   "metadata": {},
   "outputs": [],
   "source": [
    "var_list = [metadata_alpha, metadata_delta, metadata_omicron, metadata_other]\n",
    "final_acknowledgments_df = pd.concat(var_list)\n",
    "final_acknowledgments_df.to_csv(\"../../analysis/figures/final_acknowledgments_gisaid.csv\")"
   ]
  },
  {
   "cell_type": "code",
   "execution_count": null,
   "id": "b1b2a2f2",
   "metadata": {},
   "outputs": [],
   "source": []
  }
 ],
 "metadata": {
  "kernelspec": {
   "display_name": "Python (nextstrain)",
   "language": "python",
   "name": "nextstrain"
  },
  "language_info": {
   "codemirror_mode": {
    "name": "ipython",
    "version": 3
   },
   "file_extension": ".py",
   "mimetype": "text/x-python",
   "name": "python",
   "nbconvert_exporter": "python",
   "pygments_lexer": "ipython3",
   "version": "3.6.10"
  }
 },
 "nbformat": 4,
 "nbformat_minor": 5
}
