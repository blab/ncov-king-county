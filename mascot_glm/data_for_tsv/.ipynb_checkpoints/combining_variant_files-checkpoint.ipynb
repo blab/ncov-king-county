{
 "cells": [
  {
   "cell_type": "markdown",
   "id": "0d2ff0c4",
   "metadata": {},
   "source": [
    "## script for combining each variant build fasta with aligned sequences and metadata with cluster assignments into two seperate combined fasta and metadata files. This is the last step before feeding into MASCOT GLM"
   ]
  },
  {
   "cell_type": "code",
   "execution_count": null,
   "id": "d93167c4",
   "metadata": {},
   "outputs": [],
   "source": [
    "import pandas as pd\n",
    "import numpy as np\n",
    "import os"
   ]
  },
  {
   "cell_type": "code",
   "execution_count": null,
   "id": "5d9b5b3b",
   "metadata": {},
   "outputs": [],
   "source": [
    "alpha_clus = \"../data/kc_clusters_alpha_new.tsv\"\n",
    "delta_clus = \"../data/kc_clusters_delta_new.tsv\"\n",
    "omicron_clus = \"../data/kc_clusters_omicron_new.tsv\"\n",
    "other_clus = \"../data/kc_clusters_other_new.tsv\"\n",
    "\n",
    "alpha_fasta = \"../data/kc_clusters_alpha_new.fasta\"\n",
    "delta_fasta = \"../data/kc_clusters_delta_new.fasta\"\n",
    "omicron_fasta = \"../data/kc_clusters_omicron_new.fasta\"\n",
    "other_fasta = \"../data/kc_clusters_other_new.fasta\""
   ]
  },
  {
   "cell_type": "markdown",
   "id": "78a61cda",
   "metadata": {},
   "source": [
    "First we'll focus on combining the cluster files as updating the cluster numbers to continue in numberical order "
   ]
  },
  {
   "cell_type": "code",
   "execution_count": null,
   "id": "b7eff150",
   "metadata": {},
   "outputs": [],
   "source": [
    "alphadf = pd.read_csv(alpha_clus, sep =\"\\t\")\n",
    "deltadf = pd.read_csv(delta_clus, sep =\"\\t\")\n",
    "omicrondf = pd.read_csv(omicron_clus, sep =\"\\t\")\n",
    "otherdf = pd.read_csv(other_clus, sep =\"\\t\")\n"
   ]
  },
  {
   "cell_type": "code",
   "execution_count": null,
   "id": "57c2b7dc",
   "metadata": {},
   "outputs": [],
   "source": [
    "#this makes a list of all unique clusters and keeps running count in order to stitch everything into a single list\n",
    "#with continuous numbering\n",
    "df_list = [alphadf, deltadf, omicrondf, otherdf]\n",
    "unique_count = 0\n",
    "for df in df_list:\n",
    "    df['is_unique'] = ~df['cluster'].duplicated()\n",
    "    print( df.is_unique.value_counts())\n",
    "    print( df.is_unique.value_counts()[1])\n",
    "    unique_count = unique_count + df.is_unique.value_counts()[1]\n",
    "        "
   ]
  },
  {
   "cell_type": "code",
   "execution_count": null,
   "id": "3296b8b8",
   "metadata": {},
   "outputs": [],
   "source": [
    "unique_list = ([i +1 for i in range(unique_count)])\n",
    "#concantinates each variant list all together\n",
    "result = pd.concat(df_list)"
   ]
  },
  {
   "cell_type": "code",
   "execution_count": null,
   "id": "19154998",
   "metadata": {},
   "outputs": [],
   "source": [
    "#in the new df, identify again which cluster is unique and then assign it a number from the single list with \n",
    "#continuous numbering\n",
    "unique_column = np.array(result.is_unique).astype(int)\n",
    "unique_column[unique_column==1] = unique_list\n",
    "result[\"new_clusters\"] = unique_column"
   ]
  },
  {
   "cell_type": "code",
   "execution_count": null,
   "id": "2dca9dee",
   "metadata": {},
   "outputs": [],
   "source": [
    "#for every other member of a cluster other than the first one, we first make it a NA and then forward fill with the \n",
    "#new cluster number in the continuous list.\n",
    "result.new_clusters[result.new_clusters == 0 ] = np.nan\n",
    "result.loc[:,'new_clusters'] = result.loc[:,'new_clusters'].ffill()\n",
    "result['new_clusters'] = result.new_clusters.astype(int)"
   ]
  },
  {
   "cell_type": "code",
   "execution_count": null,
   "id": "597dbeb7",
   "metadata": {},
   "outputs": [],
   "source": [
    "result"
   ]
  },
  {
   "cell_type": "code",
   "execution_count": null,
   "id": "0dcd465b",
   "metadata": {},
   "outputs": [],
   "source": [
    "result.to_csv('../data/kc_clusters_combined_new.tsv',index = False , sep=\"\\t\")"
   ]
  },
  {
   "cell_type": "markdown",
   "id": "e7a0e580",
   "metadata": {},
   "source": [
    "now we focus on combining all the fasta files together into one file. "
   ]
  },
  {
   "cell_type": "code",
   "execution_count": null,
   "id": "8a37d00b",
   "metadata": {},
   "outputs": [],
   "source": [
    "##adapted from : https://www.biostars.org/p/270186/\n",
    "\n",
    "direct = '../data/fasta/'\n",
    "\n",
    "combined = open('../data/kc_clusters_combined_new.fasta', 'w')\n",
    "for f in os.listdir(direct):\n",
    "    fh = open(os.path.join(direct, f))\n",
    "    for line in fh:\n",
    "        combined.write(line)\n",
    "    fh.close()\n",
    "combined.close()"
   ]
  }
 ],
 "metadata": {
  "kernelspec": {
   "display_name": "Python 3 (ipykernel)",
   "language": "python",
   "name": "python3"
  },
  "language_info": {
   "codemirror_mode": {
    "name": "ipython",
    "version": 3
   },
   "file_extension": ".py",
   "mimetype": "text/x-python",
   "name": "python",
   "nbconvert_exporter": "python",
   "pygments_lexer": "ipython3",
   "version": "3.8.13"
  }
 },
 "nbformat": 4,
 "nbformat_minor": 5
}
