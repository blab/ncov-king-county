{
 "cells": [
  {
   "cell_type": "markdown",
   "id": "5999ff99",
   "metadata": {},
   "source": [
    "## script for combining each cluster assignment and metadata into one file for feeding into MASCOT GLM \n",
    "### needs to be repeated for each variant build (Alpha, Delta, Omicron, Other)"
   ]
  },
  {
   "cell_type": "code",
   "execution_count": 5,
   "id": "a009b73e",
   "metadata": {},
   "outputs": [],
   "source": [
    "import pandas as pd\n",
    "import dendropy\n",
    "import numpy as np\n",
    "import re\n",
    "import random"
   ]
  },
  {
   "cell_type": "code",
   "execution_count": 6,
   "id": "3030d074",
   "metadata": {},
   "outputs": [
    {
     "name": "stderr",
     "output_type": "stream",
     "text": [
      "/var/folders/h9/0347drb57tsgxzbddmvmlvf80000gp/T/ipykernel_58970/1001352021.py:10: DtypeWarning: Columns (29) have mixed types. Specify dtype option on import or set low_memory=False.\n",
      "  meta_df = pd.read_csv(metadata, sep =\"\\t\", index_col = 'strain')\n"
     ]
    }
   ],
   "source": [
    "variant = [\"alpha\", \"delta\", \"omicron\", \"other\"]\n",
    "for name in variant: \n",
    "    newickpath = \"../../nextstrain_build/results/\"+name+\"_tree.nwk\"\n",
    "    clusters = \"../../nextstrain_build/cluster_assignment/\"+name+\"_new_cluster_assignment.tsv\"\n",
    "    metadata = \"../../nextstrain_build/results/\"+name+\"_sub_subsampled_metadata.tsv\"\n",
    "    \n",
    "    #read in all three files\n",
    "    tree2 = dendropy.Tree.get(file=open(newickpath, \"r\"), schema=\"newick\")\n",
    "    df = pd.read_csv(clusters, sep =\"\\t\", index_col = 'strain')\n",
    "    meta_df = pd.read_csv(metadata, sep =\"\\t\", index_col = 'strain')\n",
    "    meta_df[\"variant\"] = metadata.split(\"/\")[-1].split(\"_\")[0]\n",
    "\n",
    "    meta_df['ns_kc'] = meta_df['ns_kc'].replace(\"other_King County\",\"Other_King_County\")\n",
    "    df[\"location\"] = np.nan\n",
    "    df['date'] = np.nan\n",
    "    df['variant'] = np.nan\n",
    "    df['nextstrain_clade'] = np.nan\n",
    "    \n",
    "    #for each leaf in the tree, add metadata information into cluster dataset. \n",
    "    for leaf in tree2.leaf_node_iter():\n",
    "        taxon_number = re.findall(r\"'(.*?)'\", str(leaf.taxon), re.DOTALL)\n",
    "        if taxon_number[0] in list(df.index):\n",
    "            df.loc[taxon_number[0], 'date'] =  meta_df.loc[taxon_number[0], 'date']\n",
    "            df.loc[taxon_number[0], 'location'] =  meta_df.loc[taxon_number[0], 'ns_kc']\n",
    "            df.loc[taxon_number[0], 'variant'] =  meta_df.loc[taxon_number[0], 'variant']\n",
    "            df.loc[taxon_number[0], 'nextstrain_clade'] =  meta_df.loc[taxon_number[0], 'Nextstrain_clade']\n",
    "\n",
    "            \n",
    "    #removing blanks and NAs for dates\n",
    "    df.replace(\"\", np.nan, inplace=True)\n",
    "    df.dropna(subset = [\"date\"], inplace=True)\n",
    "\n",
    "    #removing those for which we don't have north or south regional information for\n",
    "    df = df[df['location'] != 'Other_King_County']\n",
    "    \n",
    "    \n",
    "    #make sure to change the name for each respective variant build. Will automate soon.\n",
    "    df.to_csv(\"../data/kc_clusters_\"+name+\"_new.tsv\", sep = \"\\t\")\n"
   ]
  },
  {
   "cell_type": "code",
   "execution_count": null,
   "id": "ff2e1d09",
   "metadata": {},
   "outputs": [],
   "source": []
  }
 ],
 "metadata": {
  "kernelspec": {
   "display_name": "Python 3 (ipykernel)",
   "language": "python",
   "name": "python3"
  },
  "language_info": {
   "codemirror_mode": {
    "name": "ipython",
    "version": 3
   },
   "file_extension": ".py",
   "mimetype": "text/x-python",
   "name": "python",
   "nbconvert_exporter": "python",
   "pygments_lexer": "ipython3",
   "version": "3.8.13"
  }
 },
 "nbformat": 4,
 "nbformat_minor": 5
}
