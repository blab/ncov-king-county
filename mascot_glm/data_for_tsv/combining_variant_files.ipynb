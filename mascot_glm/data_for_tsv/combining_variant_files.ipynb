{
 "cells": [
  {
   "cell_type": "markdown",
   "id": "0d2ff0c4",
   "metadata": {},
   "source": [
    "## script for combining each variant build fasta with aligned sequences and metadata with cluster assignments into two seperate combined fasta and metadata files. This is the last step before feeding into MASCOT GLM"
   ]
  },
  {
   "cell_type": "code",
   "execution_count": 1,
   "id": "d93167c4",
   "metadata": {},
   "outputs": [],
   "source": [
    "import pandas as pd\n",
    "import numpy as np\n",
    "import os"
   ]
  },
  {
   "cell_type": "code",
   "execution_count": 2,
   "id": "5d9b5b3b",
   "metadata": {},
   "outputs": [],
   "source": [
    "alpha_clus = \"../data/kc_clusters_alpha_new.tsv\"\n",
    "delta_clus = \"../data/kc_clusters_delta_new.tsv\"\n",
    "omicron_clus = \"../data/kc_clusters_omicron_new.tsv\"\n",
    "other_clus = \"../data/kc_clusters_other_new.tsv\"\n",
    "\n",
    "alpha_fasta = \"../data/kc_clusters_alpha_new.fasta\"\n",
    "delta_fasta = \"../data/kc_clusters_delta_new.fasta\"\n",
    "omicron_fasta = \"../data/kc_clusters_omicron_new.fasta\"\n",
    "other_fasta = \"../data/kc_clusters_other_new.fasta\""
   ]
  },
  {
   "cell_type": "markdown",
   "id": "78a61cda",
   "metadata": {},
   "source": [
    "First we'll focus on combining the cluster files as updating the cluster numbers to continue in numberical order "
   ]
  },
  {
   "cell_type": "code",
   "execution_count": 3,
   "id": "b7eff150",
   "metadata": {},
   "outputs": [],
   "source": [
    "alphadf = pd.read_csv(alpha_clus, sep =\"\\t\")\n",
    "deltadf = pd.read_csv(delta_clus, sep =\"\\t\")\n",
    "omicrondf = pd.read_csv(omicron_clus, sep =\"\\t\")\n",
    "otherdf = pd.read_csv(other_clus, sep =\"\\t\")\n"
   ]
  },
  {
   "cell_type": "code",
   "execution_count": 4,
   "id": "57c2b7dc",
   "metadata": {},
   "outputs": [
    {
     "name": "stdout",
     "output_type": "stream",
     "text": [
      "False    1738\n",
      "True     1133\n",
      "Name: is_unique, dtype: int64\n",
      "1133\n",
      "True     1754\n",
      "False    1167\n",
      "Name: is_unique, dtype: int64\n",
      "1754\n",
      "True     1689\n",
      "False    1122\n",
      "Name: is_unique, dtype: int64\n",
      "1689\n",
      "True     1388\n",
      "False    1388\n",
      "Name: is_unique, dtype: int64\n",
      "1388\n"
     ]
    }
   ],
   "source": [
    "#this makes a list of all unique clusters and keeps running count in order to stitch everything into a single list\n",
    "#with continuous numbering\n",
    "df_list = [alphadf, deltadf, omicrondf, otherdf]\n",
    "unique_count = 0\n",
    "for df in df_list:\n",
    "    df['is_unique'] = ~df['cluster'].duplicated()\n",
    "    print( df.is_unique.value_counts())\n",
    "    print( df.is_unique.value_counts()[1])\n",
    "    unique_count = unique_count + df.is_unique.value_counts()[1]\n",
    "        "
   ]
  },
  {
   "cell_type": "code",
   "execution_count": 5,
   "id": "3296b8b8",
   "metadata": {},
   "outputs": [],
   "source": [
    "unique_list = ([i +1 for i in range(unique_count)])\n",
    "#concantinates each variant list all together\n",
    "result = pd.concat(df_list)"
   ]
  },
  {
   "cell_type": "code",
   "execution_count": 6,
   "id": "19154998",
   "metadata": {},
   "outputs": [],
   "source": [
    "#in the new df, identify again which cluster is unique and then assign it a number from the single list with \n",
    "#continuous numbering\n",
    "unique_column = np.array(result.is_unique).astype(int)\n",
    "unique_column[unique_column==1] = unique_list\n",
    "result[\"new_clusters\"] = unique_column"
   ]
  },
  {
   "cell_type": "code",
   "execution_count": 7,
   "id": "2dca9dee",
   "metadata": {},
   "outputs": [
    {
     "name": "stderr",
     "output_type": "stream",
     "text": [
      "/var/folders/h9/0347drb57tsgxzbddmvmlvf80000gp/T/ipykernel_75754/2558360345.py:3: SettingWithCopyWarning: \n",
      "A value is trying to be set on a copy of a slice from a DataFrame\n",
      "\n",
      "See the caveats in the documentation: https://pandas.pydata.org/pandas-docs/stable/user_guide/indexing.html#returning-a-view-versus-a-copy\n",
      "  result.new_clusters[result.new_clusters == 0 ] = np.nan\n"
     ]
    }
   ],
   "source": [
    "#for every other member of a cluster other than the first one, we first make it a NA and then forward fill with the \n",
    "#new cluster number in the continuous list.\n",
    "result.new_clusters[result.new_clusters == 0 ] = np.nan\n",
    "result.loc[:,'new_clusters'] = result.loc[:,'new_clusters'].ffill()\n",
    "result['new_clusters'] = result.new_clusters.astype(int)"
   ]
  },
  {
   "cell_type": "code",
   "execution_count": 8,
   "id": "597dbeb7",
   "metadata": {},
   "outputs": [
    {
     "data": {
      "text/html": [
       "<div>\n",
       "<style scoped>\n",
       "    .dataframe tbody tr th:only-of-type {\n",
       "        vertical-align: middle;\n",
       "    }\n",
       "\n",
       "    .dataframe tbody tr th {\n",
       "        vertical-align: top;\n",
       "    }\n",
       "\n",
       "    .dataframe thead th {\n",
       "        text-align: right;\n",
       "    }\n",
       "</style>\n",
       "<table border=\"1\" class=\"dataframe\">\n",
       "  <thead>\n",
       "    <tr style=\"text-align: right;\">\n",
       "      <th></th>\n",
       "      <th>strain</th>\n",
       "      <th>cluster</th>\n",
       "      <th>location</th>\n",
       "      <th>date</th>\n",
       "      <th>variant</th>\n",
       "      <th>is_unique</th>\n",
       "      <th>new_clusters</th>\n",
       "    </tr>\n",
       "  </thead>\n",
       "  <tbody>\n",
       "    <tr>\n",
       "      <th>0</th>\n",
       "      <td>USA/WA-UW-21050529358/2021</td>\n",
       "      <td>1</td>\n",
       "      <td>North_King_County</td>\n",
       "      <td>2021-05-05</td>\n",
       "      <td>alpha</td>\n",
       "      <td>True</td>\n",
       "      <td>1</td>\n",
       "    </tr>\n",
       "    <tr>\n",
       "      <th>1</th>\n",
       "      <td>USA/WA-UW-21050476716/2021</td>\n",
       "      <td>2</td>\n",
       "      <td>North_King_County</td>\n",
       "      <td>2021-05-04</td>\n",
       "      <td>alpha</td>\n",
       "      <td>True</td>\n",
       "      <td>2</td>\n",
       "    </tr>\n",
       "    <tr>\n",
       "      <th>2</th>\n",
       "      <td>USA/WA-UW-2021041397284/2021</td>\n",
       "      <td>3</td>\n",
       "      <td>North_King_County</td>\n",
       "      <td>2021-04-13</td>\n",
       "      <td>alpha</td>\n",
       "      <td>True</td>\n",
       "      <td>3</td>\n",
       "    </tr>\n",
       "    <tr>\n",
       "      <th>3</th>\n",
       "      <td>USA/WA-UW-2021041489375/2021</td>\n",
       "      <td>3</td>\n",
       "      <td>North_King_County</td>\n",
       "      <td>2021-04-14</td>\n",
       "      <td>alpha</td>\n",
       "      <td>False</td>\n",
       "      <td>3</td>\n",
       "    </tr>\n",
       "    <tr>\n",
       "      <th>4</th>\n",
       "      <td>USA/WA-Altius-ALTCOV-NBDJ5QXGCUU6C2F6/2021</td>\n",
       "      <td>3</td>\n",
       "      <td>South_King_County</td>\n",
       "      <td>2021-04-27</td>\n",
       "      <td>alpha</td>\n",
       "      <td>False</td>\n",
       "      <td>3</td>\n",
       "    </tr>\n",
       "    <tr>\n",
       "      <th>...</th>\n",
       "      <td>...</td>\n",
       "      <td>...</td>\n",
       "      <td>...</td>\n",
       "      <td>...</td>\n",
       "      <td>...</td>\n",
       "      <td>...</td>\n",
       "      <td>...</td>\n",
       "    </tr>\n",
       "    <tr>\n",
       "      <th>2771</th>\n",
       "      <td>USA/WA-CDC-UW22030161746/2022</td>\n",
       "      <td>1423</td>\n",
       "      <td>North_King_County</td>\n",
       "      <td>2022-03-01</td>\n",
       "      <td>other</td>\n",
       "      <td>True</td>\n",
       "      <td>5962</td>\n",
       "    </tr>\n",
       "    <tr>\n",
       "      <th>2772</th>\n",
       "      <td>USA/WA-CDC-UW22030214877/2022</td>\n",
       "      <td>1424</td>\n",
       "      <td>North_King_County</td>\n",
       "      <td>2022-03-02</td>\n",
       "      <td>other</td>\n",
       "      <td>True</td>\n",
       "      <td>5963</td>\n",
       "    </tr>\n",
       "    <tr>\n",
       "      <th>2773</th>\n",
       "      <td>USA/WA-CDC-UW22030572755/2022</td>\n",
       "      <td>1424</td>\n",
       "      <td>North_King_County</td>\n",
       "      <td>2022-03-05</td>\n",
       "      <td>other</td>\n",
       "      <td>False</td>\n",
       "      <td>5963</td>\n",
       "    </tr>\n",
       "    <tr>\n",
       "      <th>2774</th>\n",
       "      <td>USA/WA-CDC-UW22022865732/2022</td>\n",
       "      <td>1425</td>\n",
       "      <td>North_King_County</td>\n",
       "      <td>2022-02-28</td>\n",
       "      <td>other</td>\n",
       "      <td>True</td>\n",
       "      <td>5964</td>\n",
       "    </tr>\n",
       "    <tr>\n",
       "      <th>2775</th>\n",
       "      <td>USA/WA-CDC-UW22022638336/2022</td>\n",
       "      <td>1425</td>\n",
       "      <td>North_King_County</td>\n",
       "      <td>2022-02-26</td>\n",
       "      <td>other</td>\n",
       "      <td>False</td>\n",
       "      <td>5964</td>\n",
       "    </tr>\n",
       "  </tbody>\n",
       "</table>\n",
       "<p>11379 rows × 7 columns</p>\n",
       "</div>"
      ],
      "text/plain": [
       "                                          strain  cluster           location  \\\n",
       "0                     USA/WA-UW-21050529358/2021        1  North_King_County   \n",
       "1                     USA/WA-UW-21050476716/2021        2  North_King_County   \n",
       "2                   USA/WA-UW-2021041397284/2021        3  North_King_County   \n",
       "3                   USA/WA-UW-2021041489375/2021        3  North_King_County   \n",
       "4     USA/WA-Altius-ALTCOV-NBDJ5QXGCUU6C2F6/2021        3  South_King_County   \n",
       "...                                          ...      ...                ...   \n",
       "2771               USA/WA-CDC-UW22030161746/2022     1423  North_King_County   \n",
       "2772               USA/WA-CDC-UW22030214877/2022     1424  North_King_County   \n",
       "2773               USA/WA-CDC-UW22030572755/2022     1424  North_King_County   \n",
       "2774               USA/WA-CDC-UW22022865732/2022     1425  North_King_County   \n",
       "2775               USA/WA-CDC-UW22022638336/2022     1425  North_King_County   \n",
       "\n",
       "            date variant  is_unique  new_clusters  \n",
       "0     2021-05-05   alpha       True             1  \n",
       "1     2021-05-04   alpha       True             2  \n",
       "2     2021-04-13   alpha       True             3  \n",
       "3     2021-04-14   alpha      False             3  \n",
       "4     2021-04-27   alpha      False             3  \n",
       "...          ...     ...        ...           ...  \n",
       "2771  2022-03-01   other       True          5962  \n",
       "2772  2022-03-02   other       True          5963  \n",
       "2773  2022-03-05   other      False          5963  \n",
       "2774  2022-02-28   other       True          5964  \n",
       "2775  2022-02-26   other      False          5964  \n",
       "\n",
       "[11379 rows x 7 columns]"
      ]
     },
     "execution_count": 8,
     "metadata": {},
     "output_type": "execute_result"
    }
   ],
   "source": [
    "result"
   ]
  },
  {
   "cell_type": "code",
   "execution_count": 9,
   "id": "0dcd465b",
   "metadata": {},
   "outputs": [],
   "source": [
    "result.to_csv('../data/kc_clusters_combined_new.tsv',index = False , sep=\"\\t\")"
   ]
  },
  {
   "cell_type": "markdown",
   "id": "e7a0e580",
   "metadata": {},
   "source": [
    "now we focus on combining all the fasta files together into one file. "
   ]
  },
  {
   "cell_type": "code",
   "execution_count": null,
   "id": "8a37d00b",
   "metadata": {},
   "outputs": [],
   "source": [
    "##adapted from : https://www.biostars.org/p/270186/\n",
    "\n",
    "direct = '../data/fasta/'\n",
    "\n",
    "combined = open('../data/kc_clusters_combined_new.fasta', 'w')\n",
    "for f in os.listdir(direct):\n",
    "    fh = open(os.path.join(direct, f))\n",
    "    for line in fh:\n",
    "        combined.write(line)\n",
    "    fh.close()\n",
    "combined.close()"
   ]
  }
 ],
 "metadata": {
  "kernelspec": {
   "display_name": "Python 3 (ipykernel)",
   "language": "python",
   "name": "python3"
  },
  "language_info": {
   "codemirror_mode": {
    "name": "ipython",
    "version": 3
   },
   "file_extension": ".py",
   "mimetype": "text/x-python",
   "name": "python",
   "nbconvert_exporter": "python",
   "pygments_lexer": "ipython3",
   "version": "3.8.13"
  }
 },
 "nbformat": 4,
 "nbformat_minor": 5
}
