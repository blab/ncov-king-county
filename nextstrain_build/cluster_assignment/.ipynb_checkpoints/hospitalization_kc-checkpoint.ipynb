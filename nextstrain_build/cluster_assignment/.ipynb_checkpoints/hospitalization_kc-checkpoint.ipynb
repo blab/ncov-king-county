{
 "cells": [
  {
   "cell_type": "code",
   "execution_count": 90,
   "id": "4140621d",
   "metadata": {},
   "outputs": [],
   "source": [
    "import pandas as pd\n",
    "import xlrd\n",
    "import numpy as np"
   ]
  },
  {
   "cell_type": "code",
   "execution_count": 150,
   "id": "ea9e2d9c",
   "metadata": {},
   "outputs": [],
   "source": [
    "kc_data = '/Users/miguelparedes/Downloads/ZIP_daily-june-15.csv' #data taken from https://kingcounty.gov/depts/health/covid-19/data/daily-summary.aspx"
   ]
  },
  {
   "cell_type": "code",
   "execution_count": 151,
   "id": "7f916137",
   "metadata": {},
   "outputs": [],
   "source": [
    "dfnew = pd.read_csv(kc_data, parse_dates = [2])"
   ]
  },
  {
   "cell_type": "code",
   "execution_count": 152,
   "id": "b3148697",
   "metadata": {},
   "outputs": [],
   "source": [
    "dfnew['Hospitalizations'] = dfnew['Hospitalizations'].astype('int')"
   ]
  },
  {
   "cell_type": "code",
   "execution_count": 153,
   "id": "aa2097ac",
   "metadata": {},
   "outputs": [],
   "source": [
    "dfnew['PUMA'] = np.nan\n",
    "for index, rows in dfnew.iterrows():\n",
    "    if rows.ZIP in (98103, 98107, 98117):\n",
    "        dfnew.loc[index, 'PUMA'] = \"11601\" \n",
    "    elif rows.ZIP in (98105, 98115, 98125, 98195):\n",
    "        dfnew.loc[index, 'PUMA'] = \"11602\" \n",
    "    elif rows.ZIP in (98101, 98102, 98104, 98109, 98119, 98121, 98154, 98164, 98199):\n",
    "        dfnew.loc[index, 'PUMA'] = \"11603\" \n",
    "    elif rows.ZIP in (98112, 98118, 98122, 98144):\n",
    "        dfnew.loc[index, 'PUMA'] = \"11604\" \n",
    "    elif rows.ZIP in (98106, 98108, 98116, 98126, 98134, 98136):\n",
    "        dfnew.loc[index, 'PUMA'] = \"11605\" \n",
    "    elif rows.ZIP in (98133, 98155, 98177, 98011, 98028):\n",
    "        dfnew.loc[index, 'PUMA'] = \"11606\" \n",
    "    elif rows.ZIP in (98033, 98034, 98052):\n",
    "        dfnew.loc[index, 'PUMA'] = \"11607\" \n",
    "    elif rows.ZIP in (98004, 98005, 98006, 98007, 98008, 98039):\n",
    "        dfnew.loc[index, 'PUMA'] = \"11608\" \n",
    "    elif rows.ZIP in (98040, 98029, 98074, 98075):\n",
    "        dfnew.loc[index, 'PUMA'] = \"11609\" \n",
    "    elif rows.ZIP in (98055, 98057, 98056, 98178):\n",
    "        dfnew.loc[index, 'PUMA'] = \"11610\" \n",
    "    elif rows.ZIP in (98146, 98148, 98166, 98168, 98188):\n",
    "        dfnew.loc[index, 'PUMA'] = \"11611\" \n",
    "    elif rows.ZIP in (98003, 98023, 98198, 98070):\n",
    "        dfnew.loc[index, 'PUMA'] = \"11612\" \n",
    "    elif rows.ZIP in (98030, 98031, 98032, 98092):\n",
    "        dfnew.loc[index, 'PUMA'] = \"11613\" \n",
    "    elif rows.ZIP in (98001, 98002, 98047):\n",
    "        dfnew.loc[index, 'PUMA'] = \"11614\" \n",
    "    elif rows.ZIP in (98010, 98022, 98038, 98051, 98027, 98042, 98059, 98058):\n",
    "        dfnew.loc[index, 'PUMA'] = \"11615\" \n",
    "    elif rows.ZIP in (98045, 98065, 98014, 98077, 98053, 98024, 98072, 98019):\n",
    "        dfnew.loc[index, 'PUMA'] = \"11616\" "
   ]
  },
  {
   "cell_type": "code",
   "execution_count": 154,
   "id": "a10e4cc3",
   "metadata": {},
   "outputs": [],
   "source": [
    "north_kc = [\"11601\", \"11602\", \"11603\", \"11604\", \"11605\", \"11606\", \"11607\", \"11608\"]\n",
    "south_kc = [\"11609\", \"11610\", \"11611\", \"11612\", \"11613\", \"11614\", \"11615\", \"11616\"]\n",
    "dfnew['region'] = np.nan\n",
    "for index, row in dfnew.iterrows():\n",
    "    if row.PUMA in north_kc:\n",
    "        dfnew.loc[index, \"region\"] = \"nKC\"\n",
    "    elif row.PUMA in south_kc:\n",
    "        dfnew.loc[index, \"region\"] = \"sKC\"\n",
    "    "
   ]
  },
  {
   "cell_type": "code",
   "execution_count": 155,
   "id": "c706689e",
   "metadata": {},
   "outputs": [],
   "source": [
    "dfnew['Date'] = pd.to_datetime(dfnew['Admission_Date']) - pd.to_timedelta(7, unit='d')\n",
    "dfnew = dfnew.groupby(['region', pd.Grouper(key='Date', freq='W-MON')])['Hospitalizations'].sum().reset_index().sort_values('Date')\n",
    "df = dfnew.reset_index()\n"
   ]
  },
  {
   "cell_type": "code",
   "execution_count": 156,
   "id": "163812e5",
   "metadata": {},
   "outputs": [],
   "source": [
    "df[\"Hospitalizations\"] = df[\"Hospitalizations\"].div(7).round(2)"
   ]
  },
  {
   "cell_type": "code",
   "execution_count": 158,
   "id": "630105a3",
   "metadata": {},
   "outputs": [],
   "source": [
    "nkc_df = df[df['region'] == \"nKC\"]\n",
    "skc_df = df[df['region'] == \"sKC\"]"
   ]
  },
  {
   "cell_type": "code",
   "execution_count": 159,
   "id": "5c1d0b89",
   "metadata": {},
   "outputs": [],
   "source": [
    "skc_df = skc_df[['region', 'Date', 'Hospitalizations']]\n",
    "nkc_df = nkc_df[['region', 'Date', 'Hospitalizations']]"
   ]
  },
  {
   "cell_type": "code",
   "execution_count": 164,
   "id": "28b9bec2",
   "metadata": {},
   "outputs": [],
   "source": [
    "skc_df.to_csv('skc_weekly_hosp.tsv', sep=\"\\t\", index = False)"
   ]
  },
  {
   "cell_type": "code",
   "execution_count": 165,
   "id": "f5e2a013",
   "metadata": {},
   "outputs": [],
   "source": [
    "nkc_df.to_csv('nkc_weekly_hosp.tsv', sep=\"\\t\", index = False)"
   ]
  }
 ],
 "metadata": {
  "kernelspec": {
   "display_name": "Python (nextstrain)",
   "language": "python",
   "name": "nextstrain"
  },
  "language_info": {
   "codemirror_mode": {
    "name": "ipython",
    "version": 3
   },
   "file_extension": ".py",
   "mimetype": "text/x-python",
   "name": "python",
   "nbconvert_exporter": "python",
   "pygments_lexer": "ipython3",
   "version": "3.6.10"
  }
 },
 "nbformat": 4,
 "nbformat_minor": 5
}
